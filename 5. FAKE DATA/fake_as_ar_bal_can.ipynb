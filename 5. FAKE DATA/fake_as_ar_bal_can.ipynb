{
 "cells": [
  {
   "cell_type": "markdown",
   "id": "ca2e57e9",
   "metadata": {},
   "source": [
    "ASTURIAS, ARAGÓN, BALEARES Y CANARIAS"
   ]
  },
  {
   "cell_type": "code",
   "execution_count": 8,
   "id": "3ee50810",
   "metadata": {},
   "outputs": [],
   "source": [
    "import pandas as pd\n",
    "\n",
    "import re\n",
    "import random\n",
    "import string\n",
    "\n",
    "from faker import Faker\n",
    "fake = Faker('es_ES')"
   ]
  },
  {
   "cell_type": "code",
   "execution_count": 3,
   "id": "83ab1393",
   "metadata": {},
   "outputs": [],
   "source": [
    "asturias= pd.read_excel(\"C:/Users/USUARIO/TRABAJO DE FIN DE GRADO/CENTROS/4. COORDENADAS/coordenadas_asturias.xlsx\")"
   ]
  },
  {
   "cell_type": "code",
   "execution_count": 4,
   "id": "89632380",
   "metadata": {},
   "outputs": [],
   "source": [
    "aragon= pd.read_excel(\"C:/Users/USUARIO/TRABAJO DE FIN DE GRADO/CENTROS/4. COORDENADAS/coordenadas_aragon.xlsx\")"
   ]
  },
  {
   "cell_type": "code",
   "execution_count": 5,
   "id": "fdff7b3a",
   "metadata": {},
   "outputs": [],
   "source": [
    "baleares= pd.read_excel(\"C:/Users/USUARIO/TRABAJO DE FIN DE GRADO/CENTROS/4. COORDENADAS/coordenadas_baleares.xlsx\")"
   ]
  },
  {
   "cell_type": "code",
   "execution_count": 6,
   "id": "181cbd63",
   "metadata": {},
   "outputs": [],
   "source": [
    "canarias= pd.read_excel(\"C:/Users/USUARIO/TRABAJO DE FIN DE GRADO/CENTROS/4. COORDENADAS/coordenadas_canarias.xlsx\")"
   ]
  },
  {
   "cell_type": "code",
   "execution_count": 11,
   "id": "4c4bbcf3",
   "metadata": {},
   "outputs": [],
   "source": [
    "def generate_email(name):\n",
    "    domain = fake.domain_name()\n",
    "    username = re.sub(r'\\W+', '', name) # eliminar caracteres especiales del nombre\n",
    "    length = random.randint(5, 10) # generar una longitud aleatoria\n",
    "    return f\"{username[:length]}@{domain}\""
   ]
  },
  {
   "cell_type": "code",
   "execution_count": 7,
   "id": "0b573aa1",
   "metadata": {},
   "outputs": [
    {
     "data": {
      "text/plain": [
       "Index(['DENOMINACION', 'DOMICILIO-SOCIAL', 'C.P.', 'LOCALIDAD', 'CONCEJO',\n",
       "       'PROVINCIA', 'latitud', 'longitud'],\n",
       "      dtype='object')"
      ]
     },
     "execution_count": 7,
     "metadata": {},
     "output_type": "execute_result"
    }
   ],
   "source": [
    "asturias.columns"
   ]
  },
  {
   "cell_type": "code",
   "execution_count": 10,
   "id": "9f5be39e",
   "metadata": {},
   "outputs": [],
   "source": [
    "asturias['Telefono'] = [fake.phone_number() for _ in range(len(asturias))]"
   ]
  },
  {
   "cell_type": "code",
   "execution_count": 13,
   "id": "95c689ee",
   "metadata": {},
   "outputs": [],
   "source": [
    "asturias['Nombre_limpio'] = asturias['DENOMINACION'].apply(lambda x: re.sub('[^a-zA-Z0-9@.+_]+', '', x.lower()))"
   ]
  },
  {
   "cell_type": "code",
   "execution_count": 14,
   "id": "570f83bb",
   "metadata": {},
   "outputs": [],
   "source": [
    "asturias['Correo'] = asturias['Nombre_limpio'].apply(generate_email)"
   ]
  },
  {
   "cell_type": "code",
   "execution_count": 15,
   "id": "e41dd94e",
   "metadata": {},
   "outputs": [],
   "source": [
    "asturias['URL'] = asturias['Nombre_limpio'].apply(lambda x: f\"http://www.{x.replace(' ', '').lower()}.com\")"
   ]
  },
  {
   "cell_type": "code",
   "execution_count": 16,
   "id": "505d678a",
   "metadata": {},
   "outputs": [],
   "source": [
    "asturias['Facebook'] = asturias['Nombre_limpio'].apply(lambda x: fake.uri_page() + \"/\" + x.lower().replace(\" \", \"-\"))"
   ]
  },
  {
   "cell_type": "code",
   "execution_count": 17,
   "id": "dba47da3",
   "metadata": {},
   "outputs": [
    {
     "data": {
      "text/plain": [
       "Index(['Nombre', 'Domicilio', 'ccaa', 'latitud', 'longitud'], dtype='object')"
      ]
     },
     "execution_count": 17,
     "metadata": {},
     "output_type": "execute_result"
    }
   ],
   "source": [
    "aragon.columns"
   ]
  },
  {
   "cell_type": "code",
   "execution_count": 19,
   "id": "c46de84c",
   "metadata": {},
   "outputs": [],
   "source": [
    "aragon['Telefono'] = [fake.phone_number() for _ in range(len(aragon))]"
   ]
  },
  {
   "cell_type": "code",
   "execution_count": 20,
   "id": "f80014ec",
   "metadata": {},
   "outputs": [],
   "source": [
    "aragon['Nombre_limpio'] = aragon['Nombre'].apply(lambda x: re.sub('[^a-zA-Z0-9@.+_]+', '', x.lower()))"
   ]
  },
  {
   "cell_type": "code",
   "execution_count": 21,
   "id": "3e62ed36",
   "metadata": {},
   "outputs": [],
   "source": [
    "aragon['Correo'] = aragon['Nombre_limpio'].apply(generate_email)"
   ]
  },
  {
   "cell_type": "code",
   "execution_count": 22,
   "id": "e26cad56",
   "metadata": {},
   "outputs": [],
   "source": [
    "aragon['URL'] = aragon['Nombre_limpio'].apply(lambda x: f\"http://www.{x.replace(' ', '').lower()}.com\")"
   ]
  },
  {
   "cell_type": "code",
   "execution_count": 23,
   "id": "fef7761e",
   "metadata": {},
   "outputs": [],
   "source": [
    "aragon['Facebook'] = aragon['Nombre_limpio'].apply(lambda x: fake.uri_page() + \"/\" + x.lower().replace(\" \", \"-\"))"
   ]
  },
  {
   "cell_type": "code",
   "execution_count": 24,
   "id": "2b4b588b",
   "metadata": {},
   "outputs": [
    {
     "data": {
      "text/plain": [
       "Index(['Denominación', 'Domicilio', 'ccaa', 'latitud', 'longitud'], dtype='object')"
      ]
     },
     "execution_count": 24,
     "metadata": {},
     "output_type": "execute_result"
    }
   ],
   "source": [
    "baleares.columns"
   ]
  },
  {
   "cell_type": "code",
   "execution_count": 25,
   "id": "e09efc40",
   "metadata": {},
   "outputs": [],
   "source": [
    "baleares['Telefono'] = [fake.phone_number() for _ in range(len(baleares))]"
   ]
  },
  {
   "cell_type": "code",
   "execution_count": 26,
   "id": "a8c83ab0",
   "metadata": {},
   "outputs": [],
   "source": [
    "baleares['Nombre_limpio'] = baleares['Denominación'].apply(lambda x: re.sub('[^a-zA-Z0-9@.+_]+', '', x.lower()))"
   ]
  },
  {
   "cell_type": "code",
   "execution_count": 27,
   "id": "4fce2ced",
   "metadata": {},
   "outputs": [],
   "source": [
    "baleares['Correo'] = baleares['Nombre_limpio'].apply(generate_email)"
   ]
  },
  {
   "cell_type": "code",
   "execution_count": 28,
   "id": "b33860c3",
   "metadata": {},
   "outputs": [],
   "source": [
    "baleares['URL'] = baleares['Nombre_limpio'].apply(lambda x: f\"http://www.{x.replace(' ', '').lower()}.com\")"
   ]
  },
  {
   "cell_type": "code",
   "execution_count": 29,
   "id": "21655996",
   "metadata": {},
   "outputs": [],
   "source": [
    "baleares['Facebook'] = baleares['Nombre_limpio'].apply(lambda x: fake.uri_page() + \"/\" + x.lower().replace(\" \", \"-\"))"
   ]
  },
  {
   "cell_type": "code",
   "execution_count": 30,
   "id": "2d85f87d",
   "metadata": {},
   "outputs": [
    {
     "data": {
      "text/plain": [
       "Index(['DENOMINACION', 'DIRECCION', 'TELEFONO', 'DOMINIO INTERNET', 'EMAIL',\n",
       "       'ccaa', 'latitud', 'longitud'],\n",
       "      dtype='object')"
      ]
     },
     "execution_count": 30,
     "metadata": {},
     "output_type": "execute_result"
    }
   ],
   "source": [
    "canarias.columns"
   ]
  },
  {
   "cell_type": "code",
   "execution_count": 31,
   "id": "3a44928b",
   "metadata": {},
   "outputs": [],
   "source": [
    "canarias['Telefono'] = [fake.phone_number() for _ in range(len(canarias))]"
   ]
  },
  {
   "cell_type": "code",
   "execution_count": 32,
   "id": "f2dd669b",
   "metadata": {},
   "outputs": [],
   "source": [
    "canarias['Nombre_limpio'] = canarias['DENOMINACION'].apply(lambda x: re.sub('[^a-zA-Z0-9@.+_]+', '', x.lower()))"
   ]
  },
  {
   "cell_type": "code",
   "execution_count": 33,
   "id": "5b8b9dbf",
   "metadata": {},
   "outputs": [],
   "source": [
    "canarias['Correo'] = canarias['Nombre_limpio'].apply(generate_email)"
   ]
  },
  {
   "cell_type": "code",
   "execution_count": 34,
   "id": "5c797528",
   "metadata": {},
   "outputs": [],
   "source": [
    "canarias['URL'] = canarias['Nombre_limpio'].apply(lambda x: f\"http://www.{x.replace(' ', '').lower()}.com\")"
   ]
  },
  {
   "cell_type": "code",
   "execution_count": 35,
   "id": "fc680e71",
   "metadata": {},
   "outputs": [],
   "source": [
    "canarias['Facebook'] = canarias['Nombre_limpio'].apply(lambda x: fake.uri_page() + \"/\" + x.lower().replace(\" \", \"-\"))"
   ]
  },
  {
   "cell_type": "code",
   "execution_count": 37,
   "id": "407572b5",
   "metadata": {},
   "outputs": [],
   "source": [
    "asturias.drop('Nombre_limpio', axis=1, inplace=True)\n",
    "aragon.drop('Nombre_limpio', axis=1, inplace=True)\n",
    "baleares.drop('Nombre_limpio', axis=1, inplace=True)\n",
    "canarias.drop('Nombre_limpio', axis=1, inplace=True)"
   ]
  },
  {
   "cell_type": "code",
   "execution_count": 38,
   "id": "b06b267e",
   "metadata": {},
   "outputs": [
    {
     "data": {
      "text/plain": [
       "Index(['DENOMINACION', 'DOMICILIO-SOCIAL', 'C.P.', 'LOCALIDAD', 'CONCEJO',\n",
       "       'PROVINCIA', 'latitud', 'longitud', 'Telefono', 'Correo', 'URL',\n",
       "       'Facebook'],\n",
       "      dtype='object')"
      ]
     },
     "execution_count": 38,
     "metadata": {},
     "output_type": "execute_result"
    }
   ],
   "source": [
    "asturias.columns"
   ]
  },
  {
   "cell_type": "code",
   "execution_count": 40,
   "id": "ca970f0d",
   "metadata": {},
   "outputs": [],
   "source": [
    "asturias.rename(columns={'DENOMINACION':'Nombre','DOMICILIO-SOCIAL':'Direccion',\n",
    "                   'ccaa': 'CCAA','latitud':'Latitud','longitud':'Longitud'\n",
    "                        }, inplace=True)"
   ]
  },
  {
   "cell_type": "code",
   "execution_count": 41,
   "id": "d85cdf2e",
   "metadata": {},
   "outputs": [
    {
     "data": {
      "text/plain": [
       "Index(['Nombre', 'Domicilio', 'ccaa', 'latitud', 'longitud', 'Telefono',\n",
       "       'Correo', 'URL', 'Facebook'],\n",
       "      dtype='object')"
      ]
     },
     "execution_count": 41,
     "metadata": {},
     "output_type": "execute_result"
    }
   ],
   "source": [
    "aragon.columns"
   ]
  },
  {
   "cell_type": "code",
   "execution_count": 45,
   "id": "205d719e",
   "metadata": {},
   "outputs": [],
   "source": [
    "aragon.rename(columns={'Domicilio':'Direccion',\n",
    "                   'ccaa': 'CCAA','latitud':'Latitud','longitud':'Longitud'\n",
    "                        }, inplace=True)"
   ]
  },
  {
   "cell_type": "code",
   "execution_count": 43,
   "id": "0c82a118",
   "metadata": {},
   "outputs": [
    {
     "data": {
      "text/plain": [
       "Index(['Denominación', 'Domicilio', 'ccaa', 'latitud', 'longitud', 'Telefono',\n",
       "       'Correo', 'URL', 'Facebook'],\n",
       "      dtype='object')"
      ]
     },
     "execution_count": 43,
     "metadata": {},
     "output_type": "execute_result"
    }
   ],
   "source": [
    "baleares.columns"
   ]
  },
  {
   "cell_type": "code",
   "execution_count": 46,
   "id": "01fb4ef0",
   "metadata": {},
   "outputs": [],
   "source": [
    "baleares.rename(columns={'Denominación':'Nombre','Domicilio':'Direccion',\n",
    "                       'ccaa': 'CCAA',\n",
    "                       'latitud':'Latitud','longitud':'Longitud'\n",
    "                        }, inplace=True)"
   ]
  },
  {
   "cell_type": "code",
   "execution_count": 47,
   "id": "ecd7071d",
   "metadata": {},
   "outputs": [
    {
     "data": {
      "text/plain": [
       "Index(['DENOMINACION', 'DIRECCION', 'TELEFONO', 'DOMINIO INTERNET', 'EMAIL',\n",
       "       'ccaa', 'latitud', 'longitud', 'Telefono', 'Correo', 'URL', 'Facebook'],\n",
       "      dtype='object')"
      ]
     },
     "execution_count": 47,
     "metadata": {},
     "output_type": "execute_result"
    }
   ],
   "source": [
    "canarias.columns"
   ]
  },
  {
   "cell_type": "code",
   "execution_count": 48,
   "id": "eba703e1",
   "metadata": {},
   "outputs": [],
   "source": [
    "canarias.drop(['TELEFONO', 'DOMINIO INTERNET', 'EMAIL'], axis=1, inplace=True)"
   ]
  },
  {
   "cell_type": "code",
   "execution_count": 49,
   "id": "7a259410",
   "metadata": {},
   "outputs": [],
   "source": [
    "canarias.rename(columns={'DENOMINACION':'Nombre','DIRECCION':'Direccion',\n",
    "                       'ccaa': 'CCAA',\n",
    "                       'latitud':'Latitud','longitud':'Longitud'\n",
    "                        }, inplace=True)"
   ]
  },
  {
   "cell_type": "code",
   "execution_count": 50,
   "id": "22d37c95",
   "metadata": {},
   "outputs": [],
   "source": [
    "asturias.to_excel('faker_asturias.xlsx', index=False)\n",
    "aragon.to_excel('faker_aragon.xlsx', index=False)\n",
    "baleares.to_excel('faker_baleares.xlsx', index=False)\n",
    "canarias.to_excel('faker_canarias.xlsx', index=False)"
   ]
  }
 ],
 "metadata": {
  "kernelspec": {
   "display_name": "Python 3 (ipykernel)",
   "language": "python",
   "name": "python3"
  },
  "language_info": {
   "codemirror_mode": {
    "name": "ipython",
    "version": 3
   },
   "file_extension": ".py",
   "mimetype": "text/x-python",
   "name": "python",
   "nbconvert_exporter": "python",
   "pygments_lexer": "ipython3",
   "version": "3.9.13"
  }
 },
 "nbformat": 4,
 "nbformat_minor": 5
}
