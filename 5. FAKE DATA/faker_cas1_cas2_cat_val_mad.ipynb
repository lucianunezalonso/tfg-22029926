{
 "cells": [
  {
   "cell_type": "markdown",
   "id": "6c941658",
   "metadata": {},
   "source": [
    "CASTILLA LA MANCHA, CASTILLA LEÓN, CATALUÑA, VALENCIA Y MADRID"
   ]
  },
  {
   "cell_type": "code",
   "execution_count": 1,
   "id": "8fa10fb1",
   "metadata": {},
   "outputs": [],
   "source": [
    "import pandas as pd\n",
    "\n",
    "import re\n",
    "import random\n",
    "import string\n",
    "\n",
    "from faker import Faker\n",
    "fake = Faker('es_ES')"
   ]
  },
  {
   "cell_type": "code",
   "execution_count": 2,
   "id": "027c18b0",
   "metadata": {},
   "outputs": [],
   "source": [
    "clamancha= pd.read_excel(\"C:/Users/USUARIO/TRABAJO DE FIN DE GRADO/CENTROS/4. COORDENADAS/coordenadas_castillalamancha.xlsx\")\n",
    "cleon= pd.read_excel(\"C:/Users/USUARIO/TRABAJO DE FIN DE GRADO/CENTROS/4. COORDENADAS/coordenadas_castillaleon.xlsx\")\n",
    "cataluña= pd.read_excel(\"C:/Users/USUARIO/TRABAJO DE FIN DE GRADO/CENTROS/4. COORDENADAS/coordenadas_cataluña.xlsx\")\n",
    "valencia= pd.read_excel(\"C:/Users/USUARIO/TRABAJO DE FIN DE GRADO/CENTROS/4. COORDENADAS/coordenadas_valencia.xlsx\")\n",
    "madrid= pd.read_excel(\"C:/Users/USUARIO/TRABAJO DE FIN DE GRADO/CENTROS/4. COORDENADAS/coordenadas_madrid.xlsx\")"
   ]
  },
  {
   "cell_type": "code",
   "execution_count": 3,
   "id": "b4e33e08",
   "metadata": {},
   "outputs": [],
   "source": [
    "def generate_email(name):\n",
    "    domain = fake.domain_name()\n",
    "    username = re.sub(r'\\W+', '', name) # eliminar caracteres especiales del nombre\n",
    "    length = random.randint(5, 10) # generar una longitud aleatoria\n",
    "    return f\"{username[:length]}@{domain}\""
   ]
  },
  {
   "cell_type": "code",
   "execution_count": 4,
   "id": "e99cfbb4",
   "metadata": {},
   "outputs": [
    {
     "data": {
      "text/plain": [
       "Index(['DENOMINACION', 'DOMICILIO', 'ccaa', 'EMAIL', 'TELEFONO', 'latitud',\n",
       "       'longitud'],\n",
       "      dtype='object')"
      ]
     },
     "execution_count": 4,
     "metadata": {},
     "output_type": "execute_result"
    }
   ],
   "source": [
    "clamancha.columns"
   ]
  },
  {
   "cell_type": "code",
   "execution_count": 5,
   "id": "88c3922b",
   "metadata": {},
   "outputs": [],
   "source": [
    "clamancha['Telefono'] = [fake.phone_number() for _ in range(len(clamancha))]\n",
    "clamancha['Nombre_limpio'] = clamancha['DENOMINACION'].apply(lambda x: re.sub('[^a-zA-Z0-9@.+_]+', '', x.lower()))\n",
    "clamancha['Correo'] = clamancha['Nombre_limpio'].apply(generate_email)\n",
    "clamancha['URL'] = clamancha['Nombre_limpio'].apply(lambda x: f\"http://www.{x.replace(' ', '').lower()}.com\")\n",
    "clamancha['Facebook'] = clamancha['Nombre_limpio'].apply(lambda x: fake.uri_page() + \"/\" + x.lower().replace(\" \", \"-\"))"
   ]
  },
  {
   "cell_type": "code",
   "execution_count": 6,
   "id": "9df75582",
   "metadata": {},
   "outputs": [
    {
     "data": {
      "text/plain": [
       "Index(['Asociación', 'Domicilio', 'Web', 'ccaa', 'latitud', 'longitud'], dtype='object')"
      ]
     },
     "execution_count": 6,
     "metadata": {},
     "output_type": "execute_result"
    }
   ],
   "source": [
    "cleon.columns"
   ]
  },
  {
   "cell_type": "code",
   "execution_count": 7,
   "id": "112bca14",
   "metadata": {},
   "outputs": [],
   "source": [
    "cleon['Telefono'] = [fake.phone_number() for _ in range(len(cleon))]\n",
    "cleon['Nombre_limpio'] = cleon['Asociación'].apply(lambda x: re.sub('[^a-zA-Z0-9@.+_]+', '', x.lower()))\n",
    "cleon['Correo'] = cleon['Nombre_limpio'].apply(generate_email)\n",
    "cleon['URL'] = cleon['Nombre_limpio'].apply(lambda x: f\"http://www.{x.replace(' ', '').lower()}.com\")\n",
    "cleon['Facebook'] = cleon['Nombre_limpio'].apply(lambda x: fake.uri_page() + \"/\" + x.lower().replace(\" \", \"-\"))"
   ]
  },
  {
   "cell_type": "code",
   "execution_count": 8,
   "id": "e4422ef5",
   "metadata": {},
   "outputs": [
    {
     "data": {
      "text/plain": [
       "Index(['Nombre', 'Direccion', 'ccaa', 'Correo', 'Telefono', 'Url', 'Facebook',\n",
       "       'latitud', 'longitud'],\n",
       "      dtype='object')"
      ]
     },
     "execution_count": 8,
     "metadata": {},
     "output_type": "execute_result"
    }
   ],
   "source": [
    "cataluña.columns"
   ]
  },
  {
   "cell_type": "code",
   "execution_count": 9,
   "id": "fc0126a3",
   "metadata": {},
   "outputs": [],
   "source": [
    "cataluña['Telefono'] = [fake.phone_number() for _ in range(len(cataluña))]\n",
    "cataluña['Nombre_limpio'] = cataluña['Nombre'].apply(lambda x: re.sub('[^a-zA-Z0-9@.+_]+', '', x.lower()))\n",
    "cataluña['Correo'] = cataluña['Nombre_limpio'].apply(generate_email)\n",
    "cataluña['URL'] = cataluña['Nombre_limpio'].apply(lambda x: f\"http://www.{x.replace(' ', '').lower()}.com\")\n",
    "cataluña['Facebook'] = cataluña['Nombre_limpio'].apply(lambda x: fake.uri_page() + \"/\" + x.lower().replace(\" \", \"-\"))"
   ]
  },
  {
   "cell_type": "code",
   "execution_count": 10,
   "id": "cd35176c",
   "metadata": {},
   "outputs": [
    {
     "data": {
      "text/plain": [
       "Index(['Nombre', 'Direccion', 'ccaa', 'Correo', 'Telefono', 'Url', 'Facebook',\n",
       "       'latitud', 'longitud'],\n",
       "      dtype='object')"
      ]
     },
     "execution_count": 10,
     "metadata": {},
     "output_type": "execute_result"
    }
   ],
   "source": [
    "valencia.columns"
   ]
  },
  {
   "cell_type": "code",
   "execution_count": 11,
   "id": "e131183b",
   "metadata": {},
   "outputs": [],
   "source": [
    "valencia['Telefono'] = [fake.phone_number() for _ in range(len(valencia))]\n",
    "valencia['Nombre_limpio'] = valencia['Nombre'].apply(lambda x: re.sub('[^a-zA-Z0-9@.+_]+', '', x.lower()))\n",
    "valencia['Correo'] = valencia['Nombre_limpio'].apply(generate_email)\n",
    "valencia['URL'] = valencia['Nombre_limpio'].apply(lambda x: f\"http://www.{x.replace(' ', '').lower()}.com\")\n",
    "valencia['Facebook'] = valencia['Nombre_limpio'].apply(lambda x: fake.uri_page() + \"/\" + x.lower().replace(\" \", \"-\"))"
   ]
  },
  {
   "cell_type": "code",
   "execution_count": 12,
   "id": "ee8e134e",
   "metadata": {},
   "outputs": [
    {
     "data": {
      "text/plain": [
       "Index(['Nombre', 'Direccion', 'ccaa', 'Correo', 'Telefono', 'Url', 'Facebook',\n",
       "       'latitud', 'longitud'],\n",
       "      dtype='object')"
      ]
     },
     "execution_count": 12,
     "metadata": {},
     "output_type": "execute_result"
    }
   ],
   "source": [
    "madrid.columns"
   ]
  },
  {
   "cell_type": "code",
   "execution_count": 14,
   "id": "fa819185",
   "metadata": {},
   "outputs": [],
   "source": [
    "madrid['Telefono'] = [fake.phone_number() for _ in range(len(madrid))]\n",
    "madrid['Nombre_limpio'] = madrid['Nombre'].apply(lambda x: re.sub('[^a-zA-Z0-9@.+_]+', '', x.lower()))\n",
    "madrid['Correo'] = madrid['Nombre_limpio'].apply(generate_email)\n",
    "madrid['URL'] = madrid['Nombre_limpio'].apply(lambda x: f\"http://www.{x.replace(' ', '').lower()}.com\")\n",
    "madrid['Facebook'] = madrid['Nombre_limpio'].apply(lambda x: fake.uri_page() + \"/\" + x.lower().replace(\" \", \"-\"))"
   ]
  },
  {
   "cell_type": "code",
   "execution_count": 17,
   "id": "ba7e2778",
   "metadata": {},
   "outputs": [],
   "source": [
    "clamancha.drop('Nombre_limpio', axis=1, inplace=True)\n",
    "cleon.drop('Nombre_limpio', axis=1, inplace=True)\n",
    "cataluña.drop('Nombre_limpio', axis=1, inplace=True)\n",
    "valencia.drop('Nombre_limpio', axis=1, inplace=True)\n",
    "madrid.drop('Nombre_limpio', axis=1, inplace=True)"
   ]
  },
  {
   "cell_type": "code",
   "execution_count": 21,
   "id": "d3903532",
   "metadata": {},
   "outputs": [
    {
     "data": {
      "text/plain": [
       "Index(['Nombre', 'Direccion', 'CCAA', 'Latitud', 'Longitud', 'Telefono',\n",
       "       'Correo', 'URL', 'Facebook'],\n",
       "      dtype='object')"
      ]
     },
     "execution_count": 21,
     "metadata": {},
     "output_type": "execute_result"
    }
   ],
   "source": [
    "clamancha.columns"
   ]
  },
  {
   "cell_type": "code",
   "execution_count": 19,
   "id": "57aa4f43",
   "metadata": {},
   "outputs": [],
   "source": [
    "clamancha.rename(columns={'DENOMINACION':'Nombre','DOMICILIO':'Direccion',\n",
    "                   'ccaa': 'CCAA','latitud':'Latitud','longitud':'Longitud'\n",
    "                        }, inplace=True)"
   ]
  },
  {
   "cell_type": "code",
   "execution_count": 20,
   "id": "c24f3a32",
   "metadata": {},
   "outputs": [],
   "source": [
    "clamancha.drop(['EMAIL', 'TELEFONO'], axis=1, inplace=True)"
   ]
  },
  {
   "cell_type": "code",
   "execution_count": 22,
   "id": "4f9b8d01",
   "metadata": {},
   "outputs": [
    {
     "data": {
      "text/plain": [
       "Index(['Asociación', 'Domicilio', 'Web', 'ccaa', 'latitud', 'longitud',\n",
       "       'Telefono', 'Correo', 'URL', 'Facebook'],\n",
       "      dtype='object')"
      ]
     },
     "execution_count": 22,
     "metadata": {},
     "output_type": "execute_result"
    }
   ],
   "source": [
    "cleon.columns"
   ]
  },
  {
   "cell_type": "code",
   "execution_count": 31,
   "id": "f2610788",
   "metadata": {},
   "outputs": [],
   "source": [
    "cleon.rename(columns={'Asociación':'Nombre','Domicilio':'Direccion',\n",
    "                   'ccaa': 'CCAA','latitud':'Latitud','longitud':'Longitud'\n",
    "                        }, inplace=True)"
   ]
  },
  {
   "cell_type": "code",
   "execution_count": 24,
   "id": "5e61ae10",
   "metadata": {},
   "outputs": [],
   "source": [
    "cleon.drop('Web', axis=1, inplace=True)"
   ]
  },
  {
   "cell_type": "code",
   "execution_count": 29,
   "id": "261f72ac",
   "metadata": {},
   "outputs": [
    {
     "data": {
      "text/plain": [
       "Index(['Nombre', 'Direccion', 'ccaa', 'Correo', 'Telefono', 'Facebook',\n",
       "       'latitud', 'longitud', 'URL'],\n",
       "      dtype='object')"
      ]
     },
     "execution_count": 29,
     "metadata": {},
     "output_type": "execute_result"
    }
   ],
   "source": [
    "cataluña.columns"
   ]
  },
  {
   "cell_type": "code",
   "execution_count": 32,
   "id": "15ed3706",
   "metadata": {},
   "outputs": [],
   "source": [
    "cataluña.rename(columns={'ccaa': 'CCAA','latitud':'Latitud','longitud':'Longitud'\n",
    "                        }, inplace=True)"
   ]
  },
  {
   "cell_type": "code",
   "execution_count": 26,
   "id": "d814b3f7",
   "metadata": {},
   "outputs": [],
   "source": [
    "cataluña.drop(['Url'], axis=1, inplace=True)"
   ]
  },
  {
   "cell_type": "code",
   "execution_count": 30,
   "id": "e3937919",
   "metadata": {},
   "outputs": [
    {
     "data": {
      "text/plain": [
       "Index(['Nombre', 'Direccion', 'ccaa', 'Correo', 'Telefono', 'Url', 'Facebook',\n",
       "       'latitud', 'longitud', 'URL'],\n",
       "      dtype='object')"
      ]
     },
     "execution_count": 30,
     "metadata": {},
     "output_type": "execute_result"
    }
   ],
   "source": [
    "valencia.columns"
   ]
  },
  {
   "cell_type": "code",
   "execution_count": 33,
   "id": "aabdf2bf",
   "metadata": {},
   "outputs": [],
   "source": [
    "valencia.rename(columns={'ccaa': 'CCAA','latitud':'Latitud','longitud':'Longitud'\n",
    "                        }, inplace=True)"
   ]
  },
  {
   "cell_type": "code",
   "execution_count": 34,
   "id": "67e5de63",
   "metadata": {},
   "outputs": [],
   "source": [
    "valencia.drop(['Url'], axis=1, inplace=True)"
   ]
  },
  {
   "cell_type": "code",
   "execution_count": 35,
   "id": "7e73c386",
   "metadata": {},
   "outputs": [
    {
     "data": {
      "text/plain": [
       "Index(['Nombre', 'Direccion', 'ccaa', 'Correo', 'Telefono', 'Url', 'Facebook',\n",
       "       'latitud', 'longitud', 'URL'],\n",
       "      dtype='object')"
      ]
     },
     "execution_count": 35,
     "metadata": {},
     "output_type": "execute_result"
    }
   ],
   "source": [
    "madrid.columns"
   ]
  },
  {
   "cell_type": "code",
   "execution_count": 36,
   "id": "3c550f8e",
   "metadata": {},
   "outputs": [],
   "source": [
    "madrid.rename(columns={'ccaa': 'CCAA','latitud':'Latitud','longitud':'Longitud'\n",
    "                        }, inplace=True)"
   ]
  },
  {
   "cell_type": "code",
   "execution_count": 37,
   "id": "1a124923",
   "metadata": {},
   "outputs": [],
   "source": [
    "madrid.drop(['Url'], axis=1, inplace=True)"
   ]
  },
  {
   "cell_type": "code",
   "execution_count": null,
   "id": "d047d804",
   "metadata": {},
   "outputs": [],
   "source": [
    "clamancha.to_excel('faker_asturias.xlsx', index=False)\n",
    "cleon.to_excel('faker_aragon.xlsx', index=False)\n",
    "cataluña.to_excel('faker_baleares.xlsx', index=False)\n",
    "valencia.to_excel('faker_canarias.xlsx', index=False)\n",
    "madr.to_excel('faker_canarias.xlsx', index=False)"
   ]
  }
 ],
 "metadata": {
  "kernelspec": {
   "display_name": "Python 3 (ipykernel)",
   "language": "python",
   "name": "python3"
  },
  "language_info": {
   "codemirror_mode": {
    "name": "ipython",
    "version": 3
   },
   "file_extension": ".py",
   "mimetype": "text/x-python",
   "name": "python",
   "nbconvert_exporter": "python",
   "pygments_lexer": "ipython3",
   "version": "3.9.13"
  }
 },
 "nbformat": 4,
 "nbformat_minor": 5
}
