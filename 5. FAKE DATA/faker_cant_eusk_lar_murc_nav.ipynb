{
 "cells": [
  {
   "cell_type": "markdown",
   "id": "5a49b311",
   "metadata": {},
   "source": [
    "CANTABRIA, EUSKADI, LA RIOJA, MURCIA Y NAVARRA"
   ]
  },
  {
   "cell_type": "code",
   "execution_count": 1,
   "id": "e86d5686",
   "metadata": {},
   "outputs": [],
   "source": [
    "import pandas as pd\n",
    "\n",
    "import re\n",
    "import random\n",
    "import string\n",
    "\n",
    "from faker import Faker\n",
    "fake = Faker('es_ES')"
   ]
  },
  {
   "cell_type": "code",
   "execution_count": 2,
   "id": "cf5af7f4",
   "metadata": {},
   "outputs": [],
   "source": [
    "cantabria= pd.read_excel(\"C:/Users/USUARIO/TRABAJO DE FIN DE GRADO/CENTROS/4. COORDENADAS/coordenadas_cantabria.xlsx\")\n",
    "euskadi= pd.read_excel(\"C:/Users/USUARIO/TRABAJO DE FIN DE GRADO/CENTROS/4. COORDENADAS/coordenadas_euskadi.xlsx\")\n",
    "larioja= pd.read_excel(\"C:/Users/USUARIO/TRABAJO DE FIN DE GRADO/CENTROS/4. COORDENADAS/coordenadas_larioja.xlsx\")\n",
    "murcia= pd.read_excel(\"C:/Users/USUARIO/TRABAJO DE FIN DE GRADO/CENTROS/4. COORDENADAS/coordenadas_murcia.xlsx\")\n",
    "navarra= pd.read_excel(\"C:/Users/USUARIO/TRABAJO DE FIN DE GRADO/CENTROS/4. COORDENADAS/coordenadas_navarra.xlsx\")"
   ]
  },
  {
   "cell_type": "code",
   "execution_count": 3,
   "id": "a7323128",
   "metadata": {},
   "outputs": [],
   "source": [
    "def generate_email(name):\n",
    "    domain = fake.domain_name()\n",
    "    username = re.sub(r'\\W+', '', name) # eliminar caracteres especiales del nombre\n",
    "    length = random.randint(5, 10) # generar una longitud aleatoria\n",
    "    return f\"{username[:length]}@{domain}\""
   ]
  },
  {
   "cell_type": "code",
   "execution_count": 4,
   "id": "f608f17f",
   "metadata": {},
   "outputs": [
    {
     "data": {
      "text/plain": [
       "Index(['Denominación', 'Domicilio social', 'latitud', 'longitud'], dtype='object')"
      ]
     },
     "execution_count": 4,
     "metadata": {},
     "output_type": "execute_result"
    }
   ],
   "source": [
    "cantabria.columns"
   ]
  },
  {
   "cell_type": "code",
   "execution_count": 6,
   "id": "ec3eda06",
   "metadata": {},
   "outputs": [],
   "source": [
    "cantabria['Telefono'] = [fake.phone_number() for _ in range(len(cantabria))]\n",
    "cantabria['Nombre_limpio'] = cantabria['Denominación'].apply(lambda x: re.sub('[^a-zA-Z0-9@.+_]+', '', x.lower()))\n",
    "cantabria['Correo'] = cantabria['Nombre_limpio'].apply(generate_email)\n",
    "cantabria['URL'] = cantabria['Nombre_limpio'].apply(lambda x: f\"http://www.{x.replace(' ', '').lower()}.com\")\n",
    "cantabria['Facebook'] = cantabria['Nombre_limpio'].apply(lambda x: fake.uri_page() + \"/\" + x.lower().replace(\" \", \"-\"))"
   ]
  },
  {
   "cell_type": "code",
   "execution_count": 7,
   "id": "9126c57a",
   "metadata": {},
   "outputs": [
    {
     "data": {
      "text/plain": [
       "Index(['Nombre', 'Direccion', 'ccaa', 'Correo', 'Telefono', 'Url', 'Facebook',\n",
       "       'latitud', 'longitud'],\n",
       "      dtype='object')"
      ]
     },
     "execution_count": 7,
     "metadata": {},
     "output_type": "execute_result"
    }
   ],
   "source": [
    "euskadi.columns"
   ]
  },
  {
   "cell_type": "code",
   "execution_count": 8,
   "id": "45b79b20",
   "metadata": {},
   "outputs": [],
   "source": [
    "euskadi['Telefono'] = [fake.phone_number() for _ in range(len(euskadi))]\n",
    "euskadi['Nombre_limpio'] = euskadi['Nombre'].apply(lambda x: re.sub('[^a-zA-Z0-9@.+_]+', '', x.lower()))\n",
    "euskadi['Correo'] = euskadi['Nombre_limpio'].apply(generate_email)\n",
    "euskadi['URL'] = euskadi['Nombre_limpio'].apply(lambda x: f\"http://www.{x.replace(' ', '').lower()}.com\")\n",
    "euskadi['Facebook'] = euskadi['Nombre_limpio'].apply(lambda x: fake.uri_page() + \"/\" + x.lower().replace(\" \", \"-\"))"
   ]
  },
  {
   "cell_type": "code",
   "execution_count": 9,
   "id": "e2b31ec6",
   "metadata": {},
   "outputs": [
    {
     "data": {
      "text/plain": [
       "Index(['Nombre Asociación', 'Municipio', 'Teléfono', 'Correo electrónico',\n",
       "       'Dirección', 'latitud', 'longitud'],\n",
       "      dtype='object')"
      ]
     },
     "execution_count": 9,
     "metadata": {},
     "output_type": "execute_result"
    }
   ],
   "source": [
    "larioja.columns"
   ]
  },
  {
   "cell_type": "code",
   "execution_count": 10,
   "id": "e77a774b",
   "metadata": {},
   "outputs": [],
   "source": [
    "larioja['Telefono'] = [fake.phone_number() for _ in range(len(larioja))]\n",
    "larioja['Nombre_limpio'] = larioja['Nombre Asociación'].apply(lambda x: re.sub('[^a-zA-Z0-9@.+_]+', '', x.lower()))\n",
    "larioja['Correo'] = larioja['Nombre_limpio'].apply(generate_email)\n",
    "larioja['URL'] = larioja['Nombre_limpio'].apply(lambda x: f\"http://www.{x.replace(' ', '').lower()}.com\")\n",
    "larioja['Facebook'] = larioja['Nombre_limpio'].apply(lambda x: fake.uri_page() + \"/\" + x.lower().replace(\" \", \"-\"))"
   ]
  },
  {
   "cell_type": "code",
   "execution_count": 11,
   "id": "244a0b1e",
   "metadata": {},
   "outputs": [
    {
     "data": {
      "text/plain": [
       "Index(['Nombre', 'Direccion', 'ccaa', 'latitud', 'longitud'], dtype='object')"
      ]
     },
     "execution_count": 11,
     "metadata": {},
     "output_type": "execute_result"
    }
   ],
   "source": [
    "murcia.columns"
   ]
  },
  {
   "cell_type": "code",
   "execution_count": 12,
   "id": "179b2e6c",
   "metadata": {},
   "outputs": [],
   "source": [
    "murcia['Telefono'] = [fake.phone_number() for _ in range(len(murcia))]\n",
    "murcia['Nombre_limpio'] = murcia['Nombre'].apply(lambda x: re.sub('[^a-zA-Z0-9@.+_]+', '', x.lower()))\n",
    "murcia['Correo'] = murcia['Nombre_limpio'].apply(generate_email)\n",
    "murcia['URL'] = murcia['Nombre_limpio'].apply(lambda x: f\"http://www.{x.replace(' ', '').lower()}.com\")\n",
    "murcia['Facebook'] = murcia['Nombre_limpio'].apply(lambda x: fake.uri_page() + \"/\" + x.lower().replace(\" \", \"-\"))"
   ]
  },
  {
   "cell_type": "code",
   "execution_count": 14,
   "id": "c06f01c2",
   "metadata": {},
   "outputs": [
    {
     "data": {
      "text/plain": [
       "Index(['DENOMINACIÓN', 'DIRECCIÓN', 'ccaa', 'latitud', 'longitud'], dtype='object')"
      ]
     },
     "execution_count": 14,
     "metadata": {},
     "output_type": "execute_result"
    }
   ],
   "source": [
    "navarra.columns"
   ]
  },
  {
   "cell_type": "code",
   "execution_count": 16,
   "id": "2afd6c90",
   "metadata": {},
   "outputs": [],
   "source": [
    "navarra['Telefono'] = [fake.phone_number() for _ in range(len(navarra))]\n",
    "navarra['Nombre_limpio'] = navarra['DENOMINACIÓN'].apply(lambda x: re.sub('[^a-zA-Z0-9@.+_]+', '', x.lower()))\n",
    "navarra['Correo'] = navarra['Nombre_limpio'].apply(generate_email)\n",
    "navarra['URL'] = navarra['Nombre_limpio'].apply(lambda x: f\"http://www.{x.replace(' ', '').lower()}.com\")\n",
    "navarra['Facebook'] = navarra['Nombre_limpio'].apply(lambda x: fake.uri_page() + \"/\" + x.lower().replace(\" \", \"-\"))"
   ]
  },
  {
   "cell_type": "code",
   "execution_count": 18,
   "id": "94f8365e",
   "metadata": {},
   "outputs": [],
   "source": [
    "cantabria.drop('Nombre_limpio', axis=1, inplace=True)\n",
    "euskadi.drop('Nombre_limpio', axis=1, inplace=True)\n",
    "larioja.drop('Nombre_limpio', axis=1, inplace=True)\n",
    "murcia.drop('Nombre_limpio', axis=1, inplace=True)\n",
    "navarra.drop('Nombre_limpio', axis=1, inplace=True)"
   ]
  },
  {
   "cell_type": "code",
   "execution_count": 23,
   "id": "f380c732",
   "metadata": {},
   "outputs": [
    {
     "data": {
      "text/plain": [
       "Index(['Nombre', 'Direccion', 'Latitud', 'Longitud', 'Telefono', 'Correo',\n",
       "       'URL', 'Facebook', 'CCAA'],\n",
       "      dtype='object')"
      ]
     },
     "execution_count": 23,
     "metadata": {},
     "output_type": "execute_result"
    }
   ],
   "source": [
    "cantabria.columns"
   ]
  },
  {
   "cell_type": "code",
   "execution_count": 20,
   "id": "264ee799",
   "metadata": {},
   "outputs": [],
   "source": [
    "cantabria.rename(columns={'Denominación':'Nombre','Domicilio social':'Direccion',\n",
    "                   'ccaa': 'CCAA','latitud':'Latitud','longitud':'Longitud'\n",
    "                        }, inplace=True)"
   ]
  },
  {
   "cell_type": "code",
   "execution_count": 22,
   "id": "8f87a658",
   "metadata": {},
   "outputs": [],
   "source": [
    "cantabria['CCAA']='Cantabria'"
   ]
  },
  {
   "cell_type": "code",
   "execution_count": 24,
   "id": "951b164e",
   "metadata": {},
   "outputs": [
    {
     "data": {
      "text/plain": [
       "Index(['Nombre', 'Direccion', 'ccaa', 'Correo', 'Telefono', 'Url', 'Facebook',\n",
       "       'latitud', 'longitud', 'URL'],\n",
       "      dtype='object')"
      ]
     },
     "execution_count": 24,
     "metadata": {},
     "output_type": "execute_result"
    }
   ],
   "source": [
    "euskadi.columns"
   ]
  },
  {
   "cell_type": "code",
   "execution_count": 25,
   "id": "81379d51",
   "metadata": {},
   "outputs": [],
   "source": [
    "euskadi.drop('Url', axis=1, inplace=True)"
   ]
  },
  {
   "cell_type": "code",
   "execution_count": 26,
   "id": "b5f41460",
   "metadata": {},
   "outputs": [],
   "source": [
    "euskadi.rename(columns={'ccaa': 'CCAA','latitud':'Latitud','longitud':'Longitud'}, inplace=True)"
   ]
  },
  {
   "cell_type": "code",
   "execution_count": 33,
   "id": "f850c836",
   "metadata": {},
   "outputs": [
    {
     "data": {
      "text/plain": [
       "Index(['Nombre', 'Direccion', 'Latitud', 'Longitud', 'Telefono', 'Correo',\n",
       "       'URL', 'Facebook', 'CCAA'],\n",
       "      dtype='object')"
      ]
     },
     "execution_count": 33,
     "metadata": {},
     "output_type": "execute_result"
    }
   ],
   "source": [
    "larioja.columns"
   ]
  },
  {
   "cell_type": "code",
   "execution_count": 29,
   "id": "26295c60",
   "metadata": {},
   "outputs": [],
   "source": [
    "larioja.drop(['Municipio','Teléfono','Correo electrónico'], axis=1, inplace=True)"
   ]
  },
  {
   "cell_type": "code",
   "execution_count": 31,
   "id": "c32b0bb7",
   "metadata": {},
   "outputs": [],
   "source": [
    "larioja['CCAA']='La Rioja'"
   ]
  },
  {
   "cell_type": "code",
   "execution_count": 32,
   "id": "119d9404",
   "metadata": {},
   "outputs": [],
   "source": [
    "larioja.rename(columns={'Nombre Asociación':'Nombre', 'Dirección':'Direccion','latitud':'Latitud','longitud':'Longitud'}, inplace=True)"
   ]
  },
  {
   "cell_type": "code",
   "execution_count": 34,
   "id": "5b4b14fb",
   "metadata": {},
   "outputs": [
    {
     "data": {
      "text/plain": [
       "Index(['Nombre', 'Direccion', 'ccaa', 'latitud', 'longitud', 'Telefono',\n",
       "       'Correo', 'URL', 'Facebook'],\n",
       "      dtype='object')"
      ]
     },
     "execution_count": 34,
     "metadata": {},
     "output_type": "execute_result"
    }
   ],
   "source": [
    "murcia.columns"
   ]
  },
  {
   "cell_type": "code",
   "execution_count": 35,
   "id": "7f1e8532",
   "metadata": {},
   "outputs": [],
   "source": [
    "murcia.rename(columns={'ccaa':'CCAA','latitud':'Latitud','longitud':'Longitud'}, inplace=True)"
   ]
  },
  {
   "cell_type": "code",
   "execution_count": 36,
   "id": "3c93b06e",
   "metadata": {},
   "outputs": [
    {
     "data": {
      "text/plain": [
       "Index(['DENOMINACIÓN', 'DIRECCIÓN', 'ccaa', 'latitud', 'longitud', 'Telefono',\n",
       "       'Correo', 'URL', 'Facebook'],\n",
       "      dtype='object')"
      ]
     },
     "execution_count": 36,
     "metadata": {},
     "output_type": "execute_result"
    }
   ],
   "source": [
    "navarra.columns"
   ]
  },
  {
   "cell_type": "code",
   "execution_count": 37,
   "id": "314388ab",
   "metadata": {},
   "outputs": [],
   "source": [
    "navarra.rename(columns={'DENOMINACIÓN':'Nombre', 'DIRECCIÓN':'Direccion','ccaa':'CCAA','latitud':'Latitud','longitud':'Longitud'}, inplace=True)"
   ]
  },
  {
   "cell_type": "code",
   "execution_count": null,
   "id": "d80b2b13",
   "metadata": {},
   "outputs": [],
   "source": [
    "cantabria.to_excel('faker_asturias.xlsx', index=False)\n",
    "euskadi.to_excel('faker_aragon.xlsx', index=False)\n",
    "larioja.to_excel('faker_baleares.xlsx', index=False)\n",
    "navarra.to_excel('faker_canarias.xlsx', index=False)\n",
    "m.to_excel('faker_canarias.xlsx', index=False)"
   ]
  }
 ],
 "metadata": {
  "kernelspec": {
   "display_name": "Python 3 (ipykernel)",
   "language": "python",
   "name": "python3"
  },
  "language_info": {
   "codemirror_mode": {
    "name": "ipython",
    "version": 3
   },
   "file_extension": ".py",
   "mimetype": "text/x-python",
   "name": "python",
   "nbconvert_exporter": "python",
   "pygments_lexer": "ipython3",
   "version": "3.9.13"
  }
 },
 "nbformat": 4,
 "nbformat_minor": 5
}
