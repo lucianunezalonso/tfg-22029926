{
 "cells": [
  {
   "cell_type": "markdown",
   "metadata": {},
   "source": [
    "https://www.juntadeandalucia.es/justiciaeinterior/opencms/portal/Justicia/ContenidosEspecificos/Asociaciones/BancoDatos/asociaciones?entrada=destinatarios&destinatarios=7"
   ]
  },
  {
   "cell_type": "markdown",
   "metadata": {},
   "source": [
    "WEB SCRAPING CON ENVÍO DE FORMULARIO"
   ]
  },
  {
   "cell_type": "code",
   "execution_count": 46,
   "metadata": {},
   "outputs": [],
   "source": [
    "from selenium import webdriver\n",
    "import time\n",
    "\n",
    "from selenium.common.exceptions import NoSuchElementException\n",
    "from selenium.common.exceptions import StaleElementReferenceException\n",
    "\n",
    "from selenium.webdriver.common.by import By\n",
    "from selenium.webdriver.support.ui import WebDriverWait\n",
    "from selenium.webdriver.support import expected_conditions as EC\n",
    "from selenium.webdriver.support.ui import Select\n",
    "\n",
    "import urllib.request\n",
    "from PIL import Image\n",
    "\n",
    "import pandas as pd\n",
    "\n",
    "path= \"C:\\Program Files (x86)\\chrimedriver.exe\""
   ]
  },
  {
   "cell_type": "code",
   "execution_count": 47,
   "metadata": {},
   "outputs": [
    {
     "name": "stderr",
     "output_type": "stream",
     "text": [
      "C:\\Users\\USUARIO\\AppData\\Local\\Temp\\ipykernel_6172\\2238492389.py:2: DeprecationWarning: executable_path has been deprecated, please pass in a Service object\n",
      "  driver = webdriver.Chrome(path)\n"
     ]
    }
   ],
   "source": [
    "# Abrir una instancia del navegador\n",
    "driver = webdriver.Chrome(path)\n",
    "# Va a la página que le digo\n",
    "driver.get(\"https://www.juntadeandalucia.es/justiciaeinterior/opencms/portal/Justicia/ContenidosEspecificos/Asociaciones/BancoDatos/asociaciones?entrada=destinatarios&destinatarios=7\")"
   ]
  },
  {
   "cell_type": "code",
   "execution_count": 48,
   "metadata": {},
   "outputs": [],
   "source": [
    "# Localiza el menú desplegable 1 y selecciona la opción deseada\n",
    "desplegable = Select(driver.find_element(\"xpath\",\"//*[@id='clasificacionId']\"))\n",
    "desplegable.select_by_visible_text('Naturaleza/medio ambiente/terapias alternativas')\n",
    "\n",
    "# Haz clic en el botón de consultar\n",
    "consultar_boton = driver.find_element(\"xpath\",\"//*[@id='tpmcontenedorcontenido']/div/div/form/p/input[3]\")\n",
    "consultar_boton.click()\n",
    "\n",
    "# Localiza el menú desplegable 2 y selecciona la opción deseada\n",
    "desplegable2 = Select(driver.find_element(\"xpath\",\"//*[@id='subclasificacion']\"))\n",
    "desplegable2.select_by_visible_text('Relativas a animales y plantas')\n",
    "\n",
    "# Haz clic en el botón de consultar otra vez\n",
    "consultar_boton = driver.find_element(\"xpath\",\"//*[@id='tpmcontenedorcontenido']/div/div/form/p/input[3]\")\n",
    "consultar_boton.click()\n"
   ]
  },
  {
   "cell_type": "code",
   "execution_count": 49,
   "metadata": {},
   "outputs": [],
   "source": [
    "data=[]\n",
    "\n",
    "contenido = driver.find_element(\"xpath\", '//*[@id=\"tpmcontenedorcontenido\"]/div/div/div[2]/div')\n",
    "\n",
    "nombres_tablas = contenido.find_elements(\"xpath\",'.//h6')\n",
    "\n",
    "i=1\n",
    "\n",
    "for nombre_tabla in nombres_tablas:\n",
    "    # Obtener el nombre de la tabla\n",
    "    nombre = nombre_tabla.text\n",
    "    \n",
    "    xpath_fecha='.//div['+ str(i) +']/div[2]/p'\n",
    "    xpath_direccion='.//div['+ str(i+1) +']/div[2]/p'\n",
    "    xpath_localidad='.//div['+ str(i+2) +']/div[2]/p'\n",
    "    \n",
    "    # Buscar los tres elementos p que siguen al h6\n",
    "    fecha = contenido.find_element(\"xpath\", xpath_fecha).text\n",
    "    direccion = contenido.find_element(\"xpath\", xpath_direccion).text\n",
    "    localidad = contenido.find_element(\"xpath\", xpath_localidad).text\n",
    "    \n",
    "    i= i+4\n",
    "    \n",
    "    data.append([nombre, fecha, direccion, localidad])\n"
   ]
  },
  {
   "cell_type": "code",
   "execution_count": 50,
   "metadata": {},
   "outputs": [],
   "source": [
    "df = pd.DataFrame(data, columns=['Nombre', 'Fecha', 'Direccion', 'Localidad'])"
   ]
  },
  {
   "cell_type": "code",
   "execution_count": 51,
   "metadata": {
    "scrolled": true
   },
   "outputs": [
    {
     "data": {
      "text/html": [
       "<div>\n",
       "<style scoped>\n",
       "    .dataframe tbody tr th:only-of-type {\n",
       "        vertical-align: middle;\n",
       "    }\n",
       "\n",
       "    .dataframe tbody tr th {\n",
       "        vertical-align: top;\n",
       "    }\n",
       "\n",
       "    .dataframe thead th {\n",
       "        text-align: right;\n",
       "    }\n",
       "</style>\n",
       "<table border=\"1\" class=\"dataframe\">\n",
       "  <thead>\n",
       "    <tr style=\"text-align: right;\">\n",
       "      <th></th>\n",
       "      <th>Nombre</th>\n",
       "      <th>Fecha</th>\n",
       "      <th>Direccion</th>\n",
       "      <th>Localidad</th>\n",
       "    </tr>\n",
       "  </thead>\n",
       "  <tbody>\n",
       "    <tr>\n",
       "      <th>0</th>\n",
       "      <td>HELPING ANIMALS ALMANZORA</td>\n",
       "      <td>20/02/2012</td>\n",
       "      <td>C/ HUELVA Nº 5</td>\n",
       "      <td>Arboleas (ALMERIA)</td>\n",
       "    </tr>\n",
       "    <tr>\n",
       "      <th>1</th>\n",
       "      <td>NATURA VILCHES</td>\n",
       "      <td>15/11/2017</td>\n",
       "      <td>NAVAS DE TOLOSA, 6</td>\n",
       "      <td>Vilches (JAEN)</td>\n",
       "    </tr>\n",
       "    <tr>\n",
       "      <th>2</th>\n",
       "      <td>PROTECTORA DE ANIMALES ROCIANA ACOGE</td>\n",
       "      <td>30/10/2017</td>\n",
       "      <td>CL VENDIMIADORES 33</td>\n",
       "      <td>Rociana del Condado (HUELVA)</td>\n",
       "    </tr>\n",
       "    <tr>\n",
       "      <th>3</th>\n",
       "      <td>A ESTE LADO DEL ARCO IRIS</td>\n",
       "      <td>04/03/2015</td>\n",
       "      <td>C/ RECOLETOS, 21, 5º C</td>\n",
       "      <td>Granada (GRANADA)</td>\n",
       "    </tr>\n",
       "    <tr>\n",
       "      <th>4</th>\n",
       "      <td>AA DOG RESCUE SPAIN</td>\n",
       "      <td>19/02/2020</td>\n",
       "      <td>CAMINO NO PAGO CALLE ANCHA, Nº 624. PG 23</td>\n",
       "      <td>Baza (GRANADA)</td>\n",
       "    </tr>\n",
       "    <tr>\n",
       "      <th>...</th>\n",
       "      <td>...</td>\n",
       "      <td>...</td>\n",
       "      <td>...</td>\n",
       "      <td>...</td>\n",
       "    </tr>\n",
       "    <tr>\n",
       "      <th>2110</th>\n",
       "      <td>ZAMPE</td>\n",
       "      <td>11/06/2019</td>\n",
       "      <td>C/ GUADALETE N 17</td>\n",
       "      <td>San José del Valle (CADIZ)</td>\n",
       "    </tr>\n",
       "    <tr>\n",
       "      <th>2111</th>\n",
       "      <td>ZARPAS Y HUELLAS</td>\n",
       "      <td>12/01/2016</td>\n",
       "      <td>calle Vesubio, n. 2 ático</td>\n",
       "      <td>Huelva (HUELVA)</td>\n",
       "    </tr>\n",
       "    <tr>\n",
       "      <th>2112</th>\n",
       "      <td>ZARPITAS</td>\n",
       "      <td>07/11/2016</td>\n",
       "      <td>AVDA. JUAN DE LA ROSA Nº 65</td>\n",
       "      <td>Ubrique (CADIZ)</td>\n",
       "    </tr>\n",
       "    <tr>\n",
       "      <th>2113</th>\n",
       "      <td>4 PATAS Y UN CORAZÓN</td>\n",
       "      <td>14/07/2021</td>\n",
       "      <td>C/ TAHALICA, Nº 30</td>\n",
       "      <td>Cúllar (GRANADA)</td>\n",
       "    </tr>\n",
       "    <tr>\n",
       "      <th>2114</th>\n",
       "      <td>4 PAWS ADOPTIONS</td>\n",
       "      <td>02/05/2012</td>\n",
       "      <td>C/ TEJON URBNIZ. LA PONDEROSA, 11</td>\n",
       "      <td>Mijas (MALAGA)</td>\n",
       "    </tr>\n",
       "  </tbody>\n",
       "</table>\n",
       "<p>2115 rows × 4 columns</p>\n",
       "</div>"
      ],
      "text/plain": [
       "                                    Nombre        Fecha  \\\n",
       "0                HELPING ANIMALS ALMANZORA  20/02/2012    \n",
       "1                           NATURA VILCHES  15/11/2017    \n",
       "2     PROTECTORA DE ANIMALES ROCIANA ACOGE  30/10/2017    \n",
       "3                A ESTE LADO DEL ARCO IRIS  04/03/2015    \n",
       "4                      AA DOG RESCUE SPAIN  19/02/2020    \n",
       "...                                    ...          ...   \n",
       "2110                                 ZAMPE  11/06/2019    \n",
       "2111                      ZARPAS Y HUELLAS  12/01/2016    \n",
       "2112                              ZARPITAS  07/11/2016    \n",
       "2113                  4 PATAS Y UN CORAZÓN  14/07/2021    \n",
       "2114                      4 PAWS ADOPTIONS  02/05/2012    \n",
       "\n",
       "                                       Direccion  \\\n",
       "0                                C/ HUELVA Nº 5    \n",
       "1                            NAVAS DE TOLOSA, 6    \n",
       "2                           CL VENDIMIADORES 33    \n",
       "3                        C/ RECOLETOS, 21, 5º C    \n",
       "4     CAMINO NO PAGO CALLE ANCHA, Nº 624. PG 23    \n",
       "...                                          ...   \n",
       "2110                         C/ GUADALETE N 17     \n",
       "2111                 calle Vesubio, n. 2 ático     \n",
       "2112                AVDA. JUAN DE LA ROSA Nº 65    \n",
       "2113                         C/ TAHALICA, Nº 30    \n",
       "2114          C/ TEJON URBNIZ. LA PONDEROSA, 11    \n",
       "\n",
       "                          Localidad  \n",
       "0               Arboleas (ALMERIA)   \n",
       "1                   Vilches (JAEN)   \n",
       "2     Rociana del Condado (HUELVA)   \n",
       "3                Granada (GRANADA)   \n",
       "4                   Baza (GRANADA)   \n",
       "...                             ...  \n",
       "2110    San José del Valle (CADIZ)   \n",
       "2111               Huelva (HUELVA)   \n",
       "2112               Ubrique (CADIZ)   \n",
       "2113              Cúllar (GRANADA)   \n",
       "2114                Mijas (MALAGA)   \n",
       "\n",
       "[2115 rows x 4 columns]"
      ]
     },
     "execution_count": 51,
     "metadata": {},
     "output_type": "execute_result"
    }
   ],
   "source": [
    "df"
   ]
  },
  {
   "cell_type": "code",
   "execution_count": 52,
   "metadata": {},
   "outputs": [],
   "source": [
    "# Guardar DataFrame en un archivo de Excel\n",
    "df.to_excel('scraper_andalucia.xlsx', index=False)"
   ]
  }
 ],
 "metadata": {
  "kernelspec": {
   "display_name": "Python 3 (ipykernel)",
   "language": "python",
   "name": "python3"
  },
  "language_info": {
   "codemirror_mode": {
    "name": "ipython",
    "version": 3
   },
   "file_extension": ".py",
   "mimetype": "text/x-python",
   "name": "python",
   "nbconvert_exporter": "python",
   "pygments_lexer": "ipython3",
   "version": "3.9.13"
  }
 },
 "nbformat": 4,
 "nbformat_minor": 4
}
