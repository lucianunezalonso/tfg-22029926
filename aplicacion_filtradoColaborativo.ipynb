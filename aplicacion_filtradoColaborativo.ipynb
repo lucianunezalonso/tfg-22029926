{
 "cells": [
  {
   "cell_type": "markdown",
   "id": "1cebc2a4",
   "metadata": {},
   "source": [
    "# FUNCION PARA LAS RECOMENDACIONES"
   ]
  },
  {
   "cell_type": "code",
   "execution_count": 128,
   "id": "422ebf88",
   "metadata": {},
   "outputs": [],
   "source": [
    "import pickle\n",
    "import pandas as pd\n",
    "from sklearn.preprocessing import MinMaxScaler"
   ]
  },
  {
   "cell_type": "code",
   "execution_count": 4,
   "id": "8cfc8d6f",
   "metadata": {},
   "outputs": [],
   "source": [
    "# Extraer los archivos de pickle (el modelo filtrado)\n",
    "with open('filtrado.pkl','rb') as f:\n",
    "    model= pickle.load(f)"
   ]
  },
  {
   "cell_type": "markdown",
   "id": "1394eb88",
   "metadata": {},
   "source": [
    "Datos de entrada"
   ]
  },
  {
   "cell_type": "code",
   "execution_count": 145,
   "id": "1eedbe94",
   "metadata": {},
   "outputs": [],
   "source": [
    "df= pd.read_csv(\"./poblacion_adopcion_v3.csv\")"
   ]
  },
  {
   "cell_type": "code",
   "execution_count": 146,
   "id": "b2c356ca",
   "metadata": {},
   "outputs": [
    {
     "data": {
      "text/plain": [
       "Index(['Nombre', 'Sexo', 'Raza', 'Edad', 'Tamaño', 'Especie', 'id_adopcion',\n",
       "       'cat_abandonado', 'cat_cariño', 'cat_cercania', 'cat_acogida',\n",
       "       'cat_actividad', 'cat_dependencia', 'cat_adaptacion', 'cat_docil',\n",
       "       'cat_agradecido', 'cat_agresivo', 'cat_tenso', 'cat_alegre',\n",
       "       'cat_inteligencia', 'cat_miedo', 'cat_convivencia', 'cat_correa',\n",
       "       'cat_carretera', 'cat_aventura', 'cat_niños', 'cat_belleza', 'cat_ppp',\n",
       "       'cat_bruto', 'cat_triste', 'cat_tranquilidad', 'cat_desubicado',\n",
       "       'cat_recuperacion', 'cat_cronico', 'cat_historial', 'cat_fortaleza',\n",
       "       'cat_independencia', 'cat_maltrato', 'cat_gato', 'cat_perro',\n",
       "       'cat_pelo', 'cat_macho', 'cat_hembra', 'cat_ladra', 'cat_ruido',\n",
       "       'id_centro'],\n",
       "      dtype='object')"
      ]
     },
     "execution_count": 146,
     "metadata": {},
     "output_type": "execute_result"
    }
   ],
   "source": [
    "df.columns"
   ]
  },
  {
   "cell_type": "code",
   "execution_count": 147,
   "id": "763c869d",
   "metadata": {},
   "outputs": [],
   "source": [
    "df_cat= df[['cat_abandonado', 'cat_cariño', 'cat_cercania', 'cat_acogida',\n",
    "       'cat_actividad', 'cat_dependencia', 'cat_adaptacion', 'cat_docil',\n",
    "       'cat_agradecido', 'cat_agresivo', 'cat_tenso', 'cat_alegre',\n",
    "       'cat_inteligencia', 'cat_miedo', 'cat_convivencia', 'cat_correa',\n",
    "       'cat_carretera', 'cat_aventura', 'cat_niños', 'cat_belleza', 'cat_ppp',\n",
    "       'cat_bruto', 'cat_triste', 'cat_tranquilidad', 'cat_desubicado',\n",
    "       'cat_recuperacion', 'cat_cronico', 'cat_historial', 'cat_fortaleza',\n",
    "       'cat_independencia', 'cat_maltrato', 'cat_gato', 'cat_perro',\n",
    "       'cat_pelo', 'cat_macho', 'cat_hembra', 'cat_ladra', 'cat_ruido']]"
   ]
  },
  {
   "cell_type": "code",
   "execution_count": null,
   "id": "ddd91e49",
   "metadata": {},
   "outputs": [],
   "source": [
    "# Este es el que tengo que poner\n",
    "user_input ={'negativo1': negativo1, 'negativo2': negativo2, 'negativo3': negativo3, 'negativo4': negativo4,'negativo5': negativo5,'negativo6': negativo6,\n",
    "             'positivo1': positivo1, 'positivo2': positivo2, 'positivo3': positivo3, 'positivo4': positivo4,'positivo5': positivo5,'positivo6': positivo6, \n",
    "             'actividades': actividades, 'relaciones': relaciones, 'casa': casa, 'niños': niños, 'patio': patio, 'ppp': ppp, 'cariño': cariño, \n",
    "             'animales': animales, 'especie': especie}"
   ]
  },
  {
   "cell_type": "code",
   "execution_count": 149,
   "id": "4fd43db6",
   "metadata": {},
   "outputs": [],
   "source": [
    "# Este es el elemplo\n",
    "user_input ={'negativo1': 'Brutaldad', 'negativo2': 'Tristeza', 'negativo3': 'Recuperación de enfermedad', 'negativo4': 'Historial de enfermedades',\n",
    "             'positivo1': 'Lealtad', 'positivo2': 'Alegría', 'positivo3': 'Inteligencia', 'positivo4': 'Fortaleza', 'actividades': 'si', \n",
    "             'relaciones': 'entorno', 'casa': 'dia', 'niños': 'si', 'patio': 'si', 'ppp': 'si', 'cariño': 'independiente', 'animales': 'no', 'especie': 'null'}\n"
   ]
  },
  {
   "cell_type": "markdown",
   "id": "3119106d",
   "metadata": {},
   "source": [
    "INTERPRETACIÓN RESULTADOS DEL TEST:"
   ]
  },
  {
   "cell_type": "code",
   "execution_count": 150,
   "id": "58bbe30f",
   "metadata": {},
   "outputs": [],
   "source": [
    "# Inicializo variables en cero:\n",
    "cat_abandonado=0\n",
    "cat_cariño=0\n",
    "cat_cercania=0\n",
    "cat_acogida=0\n",
    "cat_actividad=0\n",
    "cat_dependencia=0\n",
    "cat_adaptacion=0\n",
    "cat_docil=0\n",
    "cat_agradecido=0\n",
    "cat_agresivo=0 \n",
    "cat_tenso=0 \n",
    "cat_alegre=0\n",
    "cat_inteligencia=0\n",
    "cat_miedo=0 \n",
    "cat_convivencia=0 \n",
    "cat_correa=0\n",
    "cat_carretera=0\n",
    "cat_aventura=0 \n",
    "cat_niños=0\n",
    "cat_belleza=0\n",
    "cat_ppp=0\n",
    "cat_bruto=0\n",
    "cat_triste=0\n",
    "cat_tranquilidad=0\n",
    "cat_desubicado=0\n",
    "cat_recuperacion=0\n",
    "cat_cronico=0 \n",
    "cat_historial=0\n",
    "cat_fortaleza=0\n",
    "cat_independencia=0 \n",
    "cat_maltrato=0 \n",
    "cat_gato=0 \n",
    "cat_perro=0\n",
    "cat_pelo=0\n",
    "cat_macho=0 \n",
    "cat_hembra=0 \n",
    "cat_ladra=0\n",
    "cat_ruido=0"
   ]
  },
  {
   "cell_type": "code",
   "execution_count": 151,
   "id": "29b2fa97",
   "metadata": {},
   "outputs": [],
   "source": [
    "# Este es el ejemplo\n",
    "user_input ={'negativo1': 'Brutaldad', 'negativo2': 'Tristeza', 'negativo3': 'Recuperación de enfermedad', 'negativo4': 'Historial de enfermedades',\n",
    "             'negativo5': 'Víctima de maltrato','negativo6': 'Suelta pelo',\n",
    "             'positivo1': 'Lealtad', 'positivo2': 'Alegría', 'positivo3': 'Inteligencia', 'positivo4': 'Fortaleza',\n",
    "             'positivo5': 'Belleza','positivo6': 'Capacidad de adaptación', 'actividades': 'si', \n",
    "             'relaciones': 'entorno', 'casa': 'dia', 'niños': 'si', 'patio': 'si', 'ppp': 'si', 'cariño': 'independiente', 'animales': 'no', 'especie': 'null'}"
   ]
  },
  {
   "cell_type": "code",
   "execution_count": 152,
   "id": "141f172c",
   "metadata": {},
   "outputs": [],
   "source": [
    "claves_negativos= ['negativo1','negativo2','negativo3','negativo4',\n",
    "                  'negativo5','negativo6']\n",
    "valor_negativo= -0.8\n",
    "for clave in claves_negativos:\n",
    "    if user_input[clave] == 'Brutaldad':\n",
    "        cat_bruto= cat_bruto+valor_negativo\n",
    "    elif user_input[clave] == 'Tristeza':\n",
    "        cat_triste= cat_triste+valor_negativo\n",
    "    elif user_input[clave] == 'Recuperación de enfermedad':\n",
    "        cat_recuperacion=cat_recuperacion+valor_negativo\n",
    "    elif user_input[clave] == 'Historial de enfermedades':\n",
    "        cat_historial=cat_historial+ valor_negativo\n",
    "        cat_cronico=cat_cronico+ valor_negativo\n",
    "    elif user_input[clave] == 'Víctima de maltrato':\n",
    "        cat_maltrato= cat_maltrato+valor_negativo\n",
    "    elif user_input[clave] == 'Suelta pelo':\n",
    "        cat_pelo= cat_pelo+valor_negativo\n",
    "    \n",
    "    valor_negativo += 0.2\n",
    "    valor_negativo = round(valor_negativo, 2)      "
   ]
  },
  {
   "cell_type": "code",
   "execution_count": 153,
   "id": "1e2281af",
   "metadata": {},
   "outputs": [],
   "source": [
    "claves_positivos= ['positivo1','positivo2','positivo3','positivo4',\n",
    "                  'positivo5','positivo6']\n",
    "valor_positivo= -0.2\n",
    "for clave in claves_positivos:\n",
    "    if user_input[clave] == 'Lealtad':\n",
    "        cat_docil=cat_docil+valor_positivo\n",
    "        cat_agradecido=cat_agradecido+valor_positivo\n",
    "    elif user_input[clave] == 'Alegría':\n",
    "        cat_alegre=cat_alegre+valor_negativo\n",
    "    elif user_input[clave] == 'Inteligencia':\n",
    "        cat_inteligencia=cat_inteligencia+valor_positivo\n",
    "    elif user_input[clave] == 'Fortaleza': \n",
    "        cat_fortaleza=cat_fortaleza+valor_positivo\n",
    "    elif user_input[clave] == 'Belleza':\n",
    "        cat_belleza=cat_belleza+valor_positivo\n",
    "    elif user_input[clave] == 'Capacidad de adaptación':\n",
    "        cat_adaptacion=cat_adaptacion+valor_positivo\n",
    "    \n",
    "    valor_positivo += 0.2\n",
    "    valor_positivo = round(valor_positivo, 2)    "
   ]
  },
  {
   "cell_type": "code",
   "execution_count": 154,
   "id": "a8903944",
   "metadata": {},
   "outputs": [],
   "source": [
    "if user_input['actividades']== 'si':\n",
    "    cat_actividad += 0.2\n",
    "    cat_carretera += -0.2\n",
    "    cat_desubicado+= -0.2\n",
    "    cat_aventura +=0.2\n",
    "    cat_tranquilidad += -0.2\n",
    "\n",
    "elif user_input['actividades']== 'no':\n",
    "    cat_actividad += -0.2\n",
    "    cat_carretera += 0.2\n",
    "    cat_desubicado += 0.2\n",
    "    cat_aventura += -0.2\n",
    "    cat_tranquilidad += +0.2"
   ]
  },
  {
   "cell_type": "code",
   "execution_count": 155,
   "id": "5b416441",
   "metadata": {},
   "outputs": [],
   "source": [
    "if user_input['relaciones']== 'entorno':\n",
    "    cat_desubicado+= -0.2\n",
    "    cat_adaptacion += 0.2\n",
    "    cat_acogida+= 0.2\n",
    "    cat_convivencia+= 0.2\n",
    "    cat_cercania+= 0.2\n",
    "    cat_tenso+= -0.2\n",
    "    cat_miedo+= -0.2\n",
    "    cat_ruido+= -0.2\n",
    "    \n",
    "elif user_input['relaciones']== 'hogar':\n",
    "    cat_desubicado+= 0.2\n",
    "    cat_adaptacion+= -0.2\n",
    "    cat_miedo+= 0.2\n",
    "    cat_ruido+= 0.2"
   ]
  },
  {
   "cell_type": "code",
   "execution_count": 158,
   "id": "d5f97aa3",
   "metadata": {},
   "outputs": [],
   "source": [
    "if user_input['casa']== 'dia':\n",
    "    cat_abandonado+=0.2\n",
    "    cat_dependencia+=0.2\n",
    "    cat_independencia+= -0.2\n",
    "    \n",
    "elif user_input['casa']== 'periodos':\n",
    "    cat_abandonado+= -0.2\n",
    "    cat_dependencia+= -0.2\n",
    "    cat_independencia+=0.2\n",
    "    cat_cercania+=0.2"
   ]
  },
  {
   "cell_type": "code",
   "execution_count": 159,
   "id": "f3211262",
   "metadata": {},
   "outputs": [],
   "source": [
    "if user_input['niños']== 'si':\n",
    "    cat_niños+=0.8\n",
    "    cat_ruido+= -0.2\n",
    "    df = df.drop(df[df['cat_niños'] < 0].index)\n",
    "    df = df.drop(df[df['cat_agresivo'] < 0].index)\n",
    "    \n",
    "elif user_input['niños']== 'no':\n",
    "    cat_ruido+=0.2"
   ]
  },
  {
   "cell_type": "code",
   "execution_count": 160,
   "id": "17c5c3e0",
   "metadata": {},
   "outputs": [],
   "source": [
    "if user_input['patio']== 'si':\n",
    "    cat_correa+=0.2\n",
    "    \n",
    "elif user_input['patio']== 'no':\n",
    "    cat_correa+=- 0.2\n",
    "    cat_ladra+=- 0.6"
   ]
  },
  {
   "cell_type": "code",
   "execution_count": 161,
   "id": "ee0be720",
   "metadata": {},
   "outputs": [],
   "source": [
    "if user_input['ppp']== 'si':\n",
    "    cat_ppp+=0.9\n",
    "    \n",
    "elif user_input['ppp']== 'no':\n",
    "    cat_ppp+=- 0.4"
   ]
  },
  {
   "cell_type": "code",
   "execution_count": 164,
   "id": "863873b3",
   "metadata": {},
   "outputs": [],
   "source": [
    "if user_input['cariño']== 'si':\n",
    "    cat_cariño+= 0.2\n",
    "    cat_dependencia+= 0.2\n",
    "    cat_independencia+=-0.2\n",
    "    \n",
    "elif user_input['cariño']== 'no':\n",
    "    cat_cariño+= -0.2\n",
    "    cat_dependencia+= -0.2\n",
    "    cat_independencia+=0.2"
   ]
  },
  {
   "cell_type": "code",
   "execution_count": 165,
   "id": "8f0ee4ff",
   "metadata": {},
   "outputs": [],
   "source": [
    "if user_input['animales']== 'si':\n",
    "    cat_macho+=0.8\n",
    "    cat_hembra+=0.8\n",
    "    cat_gato+=0.8\n",
    "    cat_perro+=0.8\n",
    "    \n",
    "elif user_input['animales']== 'no':\n",
    "    if user_input['especie']=='Gato':\n",
    "        df = df.drop(df[df['cat_gato'] < 0].index)\n",
    "        df = df.drop(df[df['cat_macho'] < 0].index)\n",
    "\n",
    "    elif user_input['especie']=='Gata':\n",
    "        df = df.drop(df[df['cat_gato'] < 0].index)\n",
    "        df = df.drop(df[df['cat_hembra'] < 0].index)\n",
    "    \n",
    "    elif user_input['especie']=='Perro':\n",
    "        df = df.drop(df[df['cat_perro'] < 0].index)\n",
    "        df = df.drop(df[df['cat_macho'] < 0].index)\n",
    "\n",
    "    elif user_input['especie']=='Perra':\n",
    "        df = df.drop(df[df['cat_perro'] < 0].index)\n",
    "        df = df.drop(df[df['cat_hembra'] < 0].index)\n",
    "      "
   ]
  },
  {
   "cell_type": "code",
   "execution_count": 166,
   "id": "b52dc1bf",
   "metadata": {},
   "outputs": [],
   "source": [
    "puntuaciones=[cat_abandonado, cat_cariño, cat_cercania, cat_acogida,\n",
    "       cat_actividad, cat_dependencia, cat_adaptacion, cat_docil,\n",
    "       cat_agradecido, cat_agresivo, cat_tenso, cat_alegre,\n",
    "       cat_inteligencia, cat_miedo, cat_convivencia, cat_correa,\n",
    "       cat_carretera, cat_aventura, cat_niños, cat_belleza, cat_ppp,\n",
    "       cat_bruto, cat_triste, cat_tranquilidad, cat_desubicado,\n",
    "       cat_recuperacion, cat_cronico, cat_historial, cat_fortaleza,\n",
    "       cat_independencia, cat_maltrato, cat_gato, cat_perro,\n",
    "       cat_pelo, cat_macho, cat_hembra, cat_ladra, cat_ruido]"
   ]
  },
  {
   "cell_type": "code",
   "execution_count": 167,
   "id": "1d46af66",
   "metadata": {},
   "outputs": [
    {
     "data": {
      "text/plain": [
       "[0.2,\n",
       " 0,\n",
       " 0.2,\n",
       " 0.2,\n",
       " 0.2,\n",
       " 0.2,\n",
       " 1.0,\n",
       " -0.2,\n",
       " -0.2,\n",
       " 0,\n",
       " -0.2,\n",
       " 0.4,\n",
       " 0.2,\n",
       " -0.2,\n",
       " 0.2,\n",
       " 0.2,\n",
       " -0.2,\n",
       " 0.2,\n",
       " 1.6,\n",
       " 0.6,\n",
       " 0.9,\n",
       " -0.8,\n",
       " -0.6,\n",
       " -0.2,\n",
       " -0.4,\n",
       " -0.4,\n",
       " -0.2,\n",
       " -0.2,\n",
       " 0.4,\n",
       " -0.2,\n",
       " 0.0,\n",
       " 0,\n",
       " 0,\n",
       " 0.2,\n",
       " 0,\n",
       " 0,\n",
       " 0,\n",
       " -0.6000000000000001]"
      ]
     },
     "execution_count": 167,
     "metadata": {},
     "output_type": "execute_result"
    }
   ],
   "source": [
    "puntuaciones"
   ]
  },
  {
   "cell_type": "code",
   "execution_count": null,
   "id": "8ee95424",
   "metadata": {},
   "outputs": [],
   "source": []
  },
  {
   "cell_type": "code",
   "execution_count": null,
   "id": "f691af8d",
   "metadata": {},
   "outputs": [],
   "source": []
  },
  {
   "cell_type": "code",
   "execution_count": null,
   "id": "9d98599c",
   "metadata": {},
   "outputs": [],
   "source": []
  },
  {
   "cell_type": "code",
   "execution_count": null,
   "id": "2c375149",
   "metadata": {},
   "outputs": [],
   "source": []
  },
  {
   "cell_type": "code",
   "execution_count": null,
   "id": "3640c811",
   "metadata": {},
   "outputs": [],
   "source": []
  },
  {
   "cell_type": "code",
   "execution_count": 78,
   "id": "19679c89",
   "metadata": {},
   "outputs": [],
   "source": [
    "valor_negativo1= -0.8\n",
    "negativo1= 'negativo1'\n",
    "if user_input[negativo1] == 'Brutaldad':\n",
    "    cat_bruto= valor_negativo1\n",
    "elif user_input[negativo1] == 'Tristeza':\n",
    "    cat_triste= valor_negativo1\n",
    "elif user_input[negativo1] == 'Recuperación de enfermedad':\n",
    "    cat_recuperacion=valor_negativo1\n",
    "elif user_input[negativo1] == 'Historial de enfermedades':\n",
    "    cat_historial= valor_negativo1\n",
    "    cat_cronico= valor_negativo1\n",
    "elif user_input[negativo1] == 'Víctima de maltrato':\n",
    "    cat_maltrato= valor_negativo1\n",
    "elif user_input[negativo1] == 'Suelta pelo':\n",
    "    cat_pelo= valor_negativo1\n",
    "    \n",
    "valor_negativo2= -0.6\n",
    "negativo2= 'negativo2'\n",
    "if user_input[negativo2] == 'Brutaldad':\n",
    "    cat_bruto= valor_negativo2\n",
    "elif user_input[negativo2] == 'Tristeza':\n",
    "    cat_triste= valor_negativo2\n",
    "elif user_input[negativo2] == 'Recuperación de enfermedad':\n",
    "    cat_recuperacion=valor_negativo2\n",
    "elif user_input[negativo2] == 'Historial de enfermedades':\n",
    "    cat_historial= valor_negativo2\n",
    "    cat_cronico= valor_negativo2\n",
    "elif user_input[negativo2] == 'Víctima de maltrato':\n",
    "    cat_maltrato= valor_negativo2\n",
    "elif user_input[negativo2] == 'Suelta pelo':\n",
    "    cat_pelo= valor_negativo2\n",
    "\n",
    "valor_negativo3= -0.4\n",
    "negativo3= 'negativo2'\n",
    "if user_input[negativo2] == 'Brutaldad':\n",
    "    cat_bruto= valor_negativo2\n",
    "elif user_input[negativo2] == 'Tristeza':\n",
    "    cat_triste= valor_negativo2\n",
    "elif user_input[negativo2] == 'Recuperación de enfermedad':\n",
    "    cat_recuperacion=valor_negativo2\n",
    "elif user_input[negativo2] == 'Historial de enfermedades':\n",
    "    cat_historial= valor_negativo2\n",
    "    cat_cronico= valor_negativo2\n",
    "elif user_input[negativo2] == 'Víctima de maltrato':\n",
    "    cat_maltrato= valor_negativo2\n",
    "elif user_input[negativo2] == 'Suelta pelo':\n",
    "    cat_pelo= valor_negativo2"
   ]
  },
  {
   "cell_type": "code",
   "execution_count": null,
   "id": "34c7538f",
   "metadata": {},
   "outputs": [],
   "source": []
  },
  {
   "cell_type": "code",
   "execution_count": null,
   "id": "391de035",
   "metadata": {},
   "outputs": [],
   "source": []
  },
  {
   "cell_type": "code",
   "execution_count": null,
   "id": "ba24086d",
   "metadata": {},
   "outputs": [],
   "source": []
  },
  {
   "cell_type": "code",
   "execution_count": null,
   "id": "3b2e9019",
   "metadata": {},
   "outputs": [],
   "source": [
    "# user_input[negativo1]: \n",
    "    \n",
    "valores_negativo= ['Brutaldad','Tristeza','Recuperación de enfermedad',\n",
    "    'Historial de enfermedades','Víctima de maltrato','Suelta pelo']\n",
    "\n",
    "\n",
    "\n",
    "valores_negativo= ['Brutaldad': cat_bruto,'Tristeza':cat_triste,\n",
    "                   'Recuperación de enfermedad':cat_recuperacion,\n",
    "                   'Historial de enfermedades':cat_historial, cat_cronico\n",
    "                   'Víctima de maltrato':cat_maltrato,'Suelta pelo':cat_pelo]\n",
    "\n",
    "\n",
    "\n",
    "\n",
    "negativo1 "
   ]
  },
  {
   "cell_type": "code",
   "execution_count": null,
   "id": "510d502e",
   "metadata": {},
   "outputs": [],
   "source": []
  },
  {
   "cell_type": "markdown",
   "id": "f6d5cfc7",
   "metadata": {},
   "source": [
    "PASAR DATOS DE ENTRADA A PUNTUACIÓN:"
   ]
  },
  {
   "cell_type": "code",
   "execution_count": 49,
   "id": "cfedea27",
   "metadata": {},
   "outputs": [],
   "source": [
    "categorias=['cat_abandonado', 'cat_cariño', 'cat_cercania', 'cat_acogida',\n",
    "       'cat_actividad', 'cat_dependencia', 'cat_adaptacion', 'cat_docil',\n",
    "       'cat_agradecido', 'cat_agresivo', 'cat_tenso', 'cat_alegre',\n",
    "       'cat_inteligencia', 'cat_miedo', 'cat_convivencia', 'cat_correa',\n",
    "       'cat_carretera', 'cat_aventura', 'cat_niños', 'cat_belleza', 'cat_ppp',\n",
    "       'cat_bruto', 'cat_triste', 'cat_tranquilidad', 'cat_desubicado',\n",
    "       'cat_recuperacion', 'cat_cronico', 'cat_historial', 'cat_fortaleza',\n",
    "       'cat_independencia', 'cat_maltrato', 'cat_gato', 'cat_perro',\n",
    "       'cat_pelo', 'cat_macho', 'cat_hembra', 'cat_ladra', 'cat_ruido']"
   ]
  },
  {
   "cell_type": "code",
   "execution_count": null,
   "id": "3d6bfc2b",
   "metadata": {},
   "outputs": [],
   "source": [
    "puntuaciones=[cat_abandonado, cat_cariño, cat_cercania, cat_acogida,\n",
    "       cat_actividad, cat_dependencia, cat_adaptacion, cat_docil,\n",
    "       cat_agradecido, cat_agresivo, cat_tenso, cat_alegre,\n",
    "       cat_inteligencia, cat_miedo, cat_convivencia, cat_correa,\n",
    "       cat_carretera, cat_aventura, cat_niños, cat_belleza, cat_ppp,\n",
    "       cat_bruto, cat_triste, cat_tranquilidad, cat_desubicado,\n",
    "       cat_recuperacion, cat_cronico, cat_historial, cat_fortaleza,\n",
    "       cat_independencia, cat_maltrato, cat_gato, cat_perro,\n",
    "       cat_pelo, cat_macho, cat_hembra, cat_ladra, cat_ruido]"
   ]
  },
  {
   "cell_type": "code",
   "execution_count": null,
   "id": "1d7bead8",
   "metadata": {},
   "outputs": [],
   "source": [
    "# Me coge cada valor de la lista categorías y me lo asocia al valor\n",
    "#correspondiente en puntuaciones\n",
    "\n",
    "for clave, valor in zip(categorias, puntuaciones):\n",
    "    user_puntuaciones[clave] = valor"
   ]
  },
  {
   "cell_type": "code",
   "execution_count": null,
   "id": "980a565c",
   "metadata": {},
   "outputs": [],
   "source": []
  },
  {
   "cell_type": "code",
   "execution_count": null,
   "id": "4fbd440c",
   "metadata": {},
   "outputs": [],
   "source": []
  },
  {
   "cell_type": "code",
   "execution_count": 8,
   "id": "d793e32a",
   "metadata": {},
   "outputs": [],
   "source": [
    "adopcion= pd.read_csv(\"./poblacion_adopcion_v3.csv\")"
   ]
  },
  {
   "cell_type": "code",
   "execution_count": 9,
   "id": "8d8d10f2",
   "metadata": {},
   "outputs": [
    {
     "data": {
      "text/plain": [
       "Index(['Nombre', 'Sexo', 'Raza', 'Edad', 'Tamaño', 'Especie', 'id_adopcion',\n",
       "       'cat_abandonado', 'cat_cariño', 'cat_cercania', 'cat_acogida',\n",
       "       'cat_actividad', 'cat_dependencia', 'cat_adaptacion', 'cat_docil',\n",
       "       'cat_agradecido', 'cat_agresivo', 'cat_tenso', 'cat_alegre',\n",
       "       'cat_inteligencia', 'cat_miedo', 'cat_convivencia', 'cat_correa',\n",
       "       'cat_carretera', 'cat_aventura', 'cat_niños', 'cat_belleza', 'cat_ppp',\n",
       "       'cat_bruto', 'cat_triste', 'cat_tranquilidad', 'cat_desubicado',\n",
       "       'cat_recuperacion', 'cat_cronico', 'cat_historial', 'cat_fortaleza',\n",
       "       'cat_independencia', 'cat_maltrato', 'cat_gato', 'cat_perro',\n",
       "       'cat_pelo', 'cat_macho', 'cat_hembra', 'cat_ladra', 'cat_ruido',\n",
       "       'id_centro'],\n",
       "      dtype='object')"
      ]
     },
     "execution_count": 9,
     "metadata": {},
     "output_type": "execute_result"
    }
   ],
   "source": [
    "adopcion.columns"
   ]
  },
  {
   "cell_type": "code",
   "execution_count": 10,
   "id": "294417db",
   "metadata": {},
   "outputs": [],
   "source": [
    "adopcion_cat= adopcion[['cat_abandonado', 'cat_cariño', 'cat_cercania', 'cat_acogida',\n",
    "       'cat_actividad', 'cat_dependencia', 'cat_adaptacion', 'cat_docil',\n",
    "       'cat_agradecido', 'cat_agresivo', 'cat_tenso', 'cat_alegre',\n",
    "       'cat_inteligencia', 'cat_miedo', 'cat_convivencia', 'cat_correa',\n",
    "       'cat_carretera', 'cat_aventura', 'cat_niños', 'cat_belleza', 'cat_ppp',\n",
    "       'cat_bruto', 'cat_triste', 'cat_tranquilidad', 'cat_desubicado',\n",
    "       'cat_recuperacion', 'cat_cronico', 'cat_historial', 'cat_fortaleza',\n",
    "       'cat_independencia', 'cat_maltrato', 'cat_gato', 'cat_perro',\n",
    "       'cat_pelo', 'cat_macho', 'cat_hembra', 'cat_ladra', 'cat_ruido',\n",
    "       'id_centro']]"
   ]
  },
  {
   "cell_type": "code",
   "execution_count": 30,
   "id": "2c6c19a8",
   "metadata": {},
   "outputs": [],
   "source": [
    "from sklearn.preprocessing import StandardScaler\n",
    "import numpy as np\n",
    "\n",
    "scaler = MinMaxScaler()"
   ]
  },
  {
   "cell_type": "code",
   "execution_count": 31,
   "id": "b9a08cb1",
   "metadata": {},
   "outputs": [],
   "source": [
    "# Creamos una puntuación de ejemplo para el usuario\n",
    "puntuacion_usuario = np.array([0.        , 0.15126377, 0.48756825, 0.        , 0.        ,\n",
    "       0.27875952, 0.        , 0.11226232, 0.24123533, 0.        ,\n",
    "       0.        , 0.        , 0.        , 0.        , 0.40778203,\n",
    "       0.64652401, 0.        , 0.        , 0.63698701, 0.        ,\n",
    "       0.        , 0.        , 0.        , 0.        , 0.        ,\n",
    "       0.        , 0.        , 0.        , 0.        , 0.        ,\n",
    "       0.11442361, 0.58923487, 0.6812308 , 0.        , 0.46204092,\n",
    "       0.56463201, 0.30105599, 0.        ])"
   ]
  },
  {
   "cell_type": "code",
   "execution_count": 34,
   "id": "5d33437a",
   "metadata": {},
   "outputs": [],
   "source": [
    "puntuacion_usuario_2d = puntuacion_usuario.reshape(1, -1)\n",
    "scaler.fit(puntuacion_usuario_2d) \n",
    "puntuacion_usuario_norm = scaler.transform(puntuacion_usuario_2d)"
   ]
  },
  {
   "cell_type": "code",
   "execution_count": 35,
   "id": "e6709613",
   "metadata": {},
   "outputs": [],
   "source": [
    "distancias, indices = model.kneighbors(puntuacion_usuario_norm, n_neighbors=5)"
   ]
  },
  {
   "cell_type": "code",
   "execution_count": 36,
   "id": "2d125b63",
   "metadata": {},
   "outputs": [],
   "source": [
    "recomendaciones= adopcion.iloc[indices[0]]"
   ]
  },
  {
   "cell_type": "code",
   "execution_count": 37,
   "id": "150d078b",
   "metadata": {},
   "outputs": [
    {
     "data": {
      "text/html": [
       "<div>\n",
       "<style scoped>\n",
       "    .dataframe tbody tr th:only-of-type {\n",
       "        vertical-align: middle;\n",
       "    }\n",
       "\n",
       "    .dataframe tbody tr th {\n",
       "        vertical-align: top;\n",
       "    }\n",
       "\n",
       "    .dataframe thead th {\n",
       "        text-align: right;\n",
       "    }\n",
       "</style>\n",
       "<table border=\"1\" class=\"dataframe\">\n",
       "  <thead>\n",
       "    <tr style=\"text-align: right;\">\n",
       "      <th></th>\n",
       "      <th>Nombre</th>\n",
       "      <th>Sexo</th>\n",
       "      <th>Raza</th>\n",
       "      <th>Edad</th>\n",
       "      <th>Tamaño</th>\n",
       "      <th>Especie</th>\n",
       "      <th>id_adopcion</th>\n",
       "      <th>cat_abandonado</th>\n",
       "      <th>cat_cariño</th>\n",
       "      <th>cat_cercania</th>\n",
       "      <th>...</th>\n",
       "      <th>cat_independencia</th>\n",
       "      <th>cat_maltrato</th>\n",
       "      <th>cat_gato</th>\n",
       "      <th>cat_perro</th>\n",
       "      <th>cat_pelo</th>\n",
       "      <th>cat_macho</th>\n",
       "      <th>cat_hembra</th>\n",
       "      <th>cat_ladra</th>\n",
       "      <th>cat_ruido</th>\n",
       "      <th>id_centro</th>\n",
       "    </tr>\n",
       "  </thead>\n",
       "  <tbody>\n",
       "    <tr>\n",
       "      <th>26667</th>\n",
       "      <td>Eulalia</td>\n",
       "      <td>Hembra</td>\n",
       "      <td>Cruce Husky</td>\n",
       "      <td>9 años</td>\n",
       "      <td>Mediano</td>\n",
       "      <td>Canina</td>\n",
       "      <td>349584</td>\n",
       "      <td>0.031079</td>\n",
       "      <td>0.125841</td>\n",
       "      <td>0.000000</td>\n",
       "      <td>...</td>\n",
       "      <td>0.0</td>\n",
       "      <td>0.0</td>\n",
       "      <td>0.0</td>\n",
       "      <td>0.000000</td>\n",
       "      <td>0.000000</td>\n",
       "      <td>0.000000</td>\n",
       "      <td>0.021166</td>\n",
       "      <td>0.0</td>\n",
       "      <td>0.0</td>\n",
       "      <td>950</td>\n",
       "    </tr>\n",
       "    <tr>\n",
       "      <th>26665</th>\n",
       "      <td>Miguel</td>\n",
       "      <td>Macho</td>\n",
       "      <td>Cruce Labrador</td>\n",
       "      <td>3 años</td>\n",
       "      <td>Mediano</td>\n",
       "      <td>Canina</td>\n",
       "      <td>481740</td>\n",
       "      <td>0.000000</td>\n",
       "      <td>0.104918</td>\n",
       "      <td>0.000000</td>\n",
       "      <td>...</td>\n",
       "      <td>0.0</td>\n",
       "      <td>0.0</td>\n",
       "      <td>0.0</td>\n",
       "      <td>-0.059770</td>\n",
       "      <td>0.024366</td>\n",
       "      <td>0.028311</td>\n",
       "      <td>0.000000</td>\n",
       "      <td>0.0</td>\n",
       "      <td>0.0</td>\n",
       "      <td>909</td>\n",
       "    </tr>\n",
       "    <tr>\n",
       "      <th>26668</th>\n",
       "      <td>Lara</td>\n",
       "      <td>Hembra</td>\n",
       "      <td>Mestizo</td>\n",
       "      <td>1 años</td>\n",
       "      <td>Mediano</td>\n",
       "      <td>Canina</td>\n",
       "      <td>216236</td>\n",
       "      <td>0.000000</td>\n",
       "      <td>0.000000</td>\n",
       "      <td>0.000000</td>\n",
       "      <td>...</td>\n",
       "      <td>0.0</td>\n",
       "      <td>0.0</td>\n",
       "      <td>0.0</td>\n",
       "      <td>0.000000</td>\n",
       "      <td>0.000000</td>\n",
       "      <td>0.000000</td>\n",
       "      <td>0.000000</td>\n",
       "      <td>0.0</td>\n",
       "      <td>0.0</td>\n",
       "      <td>389</td>\n",
       "    </tr>\n",
       "    <tr>\n",
       "      <th>26670</th>\n",
       "      <td>Thiare</td>\n",
       "      <td>Hembra</td>\n",
       "      <td>Podenco</td>\n",
       "      <td>2 años</td>\n",
       "      <td>Mediano</td>\n",
       "      <td>Canina</td>\n",
       "      <td>84780</td>\n",
       "      <td>0.000000</td>\n",
       "      <td>0.173658</td>\n",
       "      <td>0.018649</td>\n",
       "      <td>...</td>\n",
       "      <td>0.0</td>\n",
       "      <td>0.0</td>\n",
       "      <td>0.0</td>\n",
       "      <td>0.000000</td>\n",
       "      <td>0.000000</td>\n",
       "      <td>0.000000</td>\n",
       "      <td>0.000000</td>\n",
       "      <td>0.0</td>\n",
       "      <td>0.0</td>\n",
       "      <td>406</td>\n",
       "    </tr>\n",
       "    <tr>\n",
       "      <th>26666</th>\n",
       "      <td>Martina</td>\n",
       "      <td>Hembra</td>\n",
       "      <td>Yorkshire Terrier</td>\n",
       "      <td>1 años</td>\n",
       "      <td>Mediano</td>\n",
       "      <td>Canina</td>\n",
       "      <td>291898</td>\n",
       "      <td>0.070340</td>\n",
       "      <td>0.000000</td>\n",
       "      <td>0.000000</td>\n",
       "      <td>...</td>\n",
       "      <td>0.0</td>\n",
       "      <td>0.0</td>\n",
       "      <td>0.0</td>\n",
       "      <td>-0.079382</td>\n",
       "      <td>0.000000</td>\n",
       "      <td>0.000000</td>\n",
       "      <td>0.000000</td>\n",
       "      <td>0.0</td>\n",
       "      <td>0.0</td>\n",
       "      <td>715</td>\n",
       "    </tr>\n",
       "  </tbody>\n",
       "</table>\n",
       "<p>5 rows × 46 columns</p>\n",
       "</div>"
      ],
      "text/plain": [
       "        Nombre    Sexo               Raza    Edad   Tamaño Especie  \\\n",
       "26667  Eulalia  Hembra        Cruce Husky  9 años  Mediano  Canina   \n",
       "26665   Miguel   Macho     Cruce Labrador  3 años  Mediano  Canina   \n",
       "26668     Lara  Hembra            Mestizo  1 años  Mediano  Canina   \n",
       "26670   Thiare  Hembra            Podenco  2 años  Mediano  Canina   \n",
       "26666  Martina  Hembra  Yorkshire Terrier  1 años  Mediano  Canina   \n",
       "\n",
       "       id_adopcion  cat_abandonado  cat_cariño  cat_cercania  ...  \\\n",
       "26667       349584        0.031079    0.125841      0.000000  ...   \n",
       "26665       481740        0.000000    0.104918      0.000000  ...   \n",
       "26668       216236        0.000000    0.000000      0.000000  ...   \n",
       "26670        84780        0.000000    0.173658      0.018649  ...   \n",
       "26666       291898        0.070340    0.000000      0.000000  ...   \n",
       "\n",
       "       cat_independencia  cat_maltrato  cat_gato  cat_perro  cat_pelo  \\\n",
       "26667                0.0           0.0       0.0   0.000000  0.000000   \n",
       "26665                0.0           0.0       0.0  -0.059770  0.024366   \n",
       "26668                0.0           0.0       0.0   0.000000  0.000000   \n",
       "26670                0.0           0.0       0.0   0.000000  0.000000   \n",
       "26666                0.0           0.0       0.0  -0.079382  0.000000   \n",
       "\n",
       "       cat_macho  cat_hembra  cat_ladra  cat_ruido  id_centro  \n",
       "26667   0.000000    0.021166        0.0        0.0        950  \n",
       "26665   0.028311    0.000000        0.0        0.0        909  \n",
       "26668   0.000000    0.000000        0.0        0.0        389  \n",
       "26670   0.000000    0.000000        0.0        0.0        406  \n",
       "26666   0.000000    0.000000        0.0        0.0        715  \n",
       "\n",
       "[5 rows x 46 columns]"
      ]
     },
     "execution_count": 37,
     "metadata": {},
     "output_type": "execute_result"
    }
   ],
   "source": [
    "recomendaciones"
   ]
  },
  {
   "cell_type": "code",
   "execution_count": null,
   "id": "411e0515",
   "metadata": {},
   "outputs": [],
   "source": []
  },
  {
   "cell_type": "code",
   "execution_count": null,
   "id": "d0956e63",
   "metadata": {},
   "outputs": [],
   "source": []
  },
  {
   "cell_type": "code",
   "execution_count": null,
   "id": "a6a0ecf3",
   "metadata": {},
   "outputs": [],
   "source": []
  },
  {
   "cell_type": "code",
   "execution_count": null,
   "id": "12e91c3d",
   "metadata": {},
   "outputs": [],
   "source": []
  },
  {
   "cell_type": "code",
   "execution_count": null,
   "id": "070b584d",
   "metadata": {},
   "outputs": [],
   "source": []
  },
  {
   "cell_type": "code",
   "execution_count": null,
   "id": "8ac6bb02",
   "metadata": {},
   "outputs": [],
   "source": []
  },
  {
   "cell_type": "code",
   "execution_count": null,
   "id": "92cd2502",
   "metadata": {},
   "outputs": [],
   "source": []
  },
  {
   "cell_type": "code",
   "execution_count": null,
   "id": "d9e28b5b",
   "metadata": {},
   "outputs": [],
   "source": [
    "def funcion(dataframe, nueva_fila):\n",
    "    # Importo el dataset centros (lo voy a necesitar localmente)\n",
    "    centros= pd.read_csv(\"./centros.csv\")    \n",
    "    \n",
    "    # Introduzco el registro proporcionado por el usuario en la última posición\n",
    "    nueva_fila['id_animal']= 10001 #Para meterlo en la última fila\n",
    "    dataframe_completo = dataframe.append(nueva_fila, ignore_index=True)\n",
    "    \n",
    "    # Ahora aplico el modelo al df sin las columnas id\n",
    "    dataframe_modelo= dataframe_completo[['especie','sexo','tamaño','nivel_actividad','vacunado','desparasitado',\n",
    "                     'sano','esterilizado','microchip','ingreso','edad']]\n",
    "    \n",
    "    clusters= kmode.fit_predict(dataframe_modelo)\n",
    "    \n",
    "    # Pero la columna la añado al conjunto de datos con la columna id\n",
    "    dataframe_completo.insert(0, \"Cluster\", clusters , True)\n",
    "    \n",
    "    # ¿A qué cluster pertenece la última fila del dataframe?\n",
    "    numCluster= dataframe_completo.iloc[-1]['Cluster']\n",
    "    \n",
    "    # Saco la última fila del dataframe para trabajar con el resto de datos\n",
    "    dataframe_completo= dataframe_completo[:-1]\n",
    "    \n",
    "    # De los datos iniciales, ¿Cuales pertenecen al mismo cluster?\n",
    "    mascara = dataframe_completo.loc[:, 'Cluster'] == numCluster\n",
    "    mismoCluster= dataframe_completo[mascara]\n",
    "    \n",
    "    # Del mismo cluster, ¿Qué número de registros hay para cada centro?\n",
    "    frecuencia_serie= mismoCluster.groupby('id_centro').size()\n",
    "    sorted_serie = frecuencia_serie.sort_values(ascending= False) \n",
    "    \n",
    "    # Selecciono los 5 primeros centros para hacer un top 5\n",
    "    primeros = sorted_serie.iloc[:5]\n",
    "    \n",
    "    # Paso la serie a df y añado una columna \"top\" (+ algunas transformaciones)\n",
    "    primeros_df = pd.DataFrame(primeros, columns=['frecuencia'])\n",
    "    top = [1,2,3,4,5] \n",
    "    primeros_df['top'] = top\n",
    "\n",
    "    primeros_df_ok = pd.DataFrame(primeros_df,index=primeros_df.index).rename_axis('id_centro')\n",
    "    df_ok= primeros_df_ok.reset_index() # Paso el indice por defecto a columna\n",
    "    \n",
    "    # Me queda ver con que centro se corresponde cada id\n",
    "    top5= pd.merge(df_ok,centros, on= 'id_centro')\n",
    "    top5= top5.drop(['Unnamed: 0','id_centro', 'frecuencia','descripcion', 'imagen_logo','imagen_fondo', 'google_maps'], axis=1) \n",
    "    \n",
    "    return top5"
   ]
  }
 ],
 "metadata": {
  "kernelspec": {
   "display_name": "Python 3 (ipykernel)",
   "language": "python",
   "name": "python3"
  },
  "language_info": {
   "codemirror_mode": {
    "name": "ipython",
    "version": 3
   },
   "file_extension": ".py",
   "mimetype": "text/x-python",
   "name": "python",
   "nbconvert_exporter": "python",
   "pygments_lexer": "ipython3",
   "version": "3.9.13"
  }
 },
 "nbformat": 4,
 "nbformat_minor": 5
}
