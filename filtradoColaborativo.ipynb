{
 "cells": [
  {
   "cell_type": "markdown",
   "id": "51bf4794",
   "metadata": {},
   "source": [
    "# ALGORITMO FILTRADO COLABORATIVO BASADO EN CONTENIDO"
   ]
  },
  {
   "cell_type": "code",
   "execution_count": 1,
   "id": "c23518e9",
   "metadata": {},
   "outputs": [],
   "source": [
    "import pandas as pd\n",
    "import numpy as np\n",
    "\n",
    "import pickle\n",
    "\n",
    "import matplotlib.pyplot as plt\n",
    "%matplotlib inline\n",
    "\n",
    "from sklearn.model_selection import train_test_split\n",
    "from sklearn.preprocessing import MinMaxScaler\n",
    "from sklearn.metrics import mean_squared_error\n",
    "from sklearn.metrics.pairwise import cosine_similarity\n",
    "from sklearn.neighbors import NearestNeighbors\n",
    "\n",
    "import joblib"
   ]
  },
  {
   "cell_type": "code",
   "execution_count": 2,
   "id": "dfff2005",
   "metadata": {},
   "outputs": [],
   "source": [
    "df= pd.read_csv(\"./poblacion_adopcion_v3.csv\")"
   ]
  },
  {
   "cell_type": "code",
   "execution_count": 3,
   "id": "038bcb76",
   "metadata": {},
   "outputs": [
    {
     "data": {
      "text/html": [
       "<div>\n",
       "<style scoped>\n",
       "    .dataframe tbody tr th:only-of-type {\n",
       "        vertical-align: middle;\n",
       "    }\n",
       "\n",
       "    .dataframe tbody tr th {\n",
       "        vertical-align: top;\n",
       "    }\n",
       "\n",
       "    .dataframe thead th {\n",
       "        text-align: right;\n",
       "    }\n",
       "</style>\n",
       "<table border=\"1\" class=\"dataframe\">\n",
       "  <thead>\n",
       "    <tr style=\"text-align: right;\">\n",
       "      <th></th>\n",
       "      <th>Nombre</th>\n",
       "      <th>Sexo</th>\n",
       "      <th>Raza</th>\n",
       "      <th>Edad</th>\n",
       "      <th>Tamaño</th>\n",
       "      <th>Especie</th>\n",
       "      <th>id_adopcion</th>\n",
       "      <th>cat_abandonado</th>\n",
       "      <th>cat_cariño</th>\n",
       "      <th>cat_cercania</th>\n",
       "      <th>...</th>\n",
       "      <th>cat_independencia</th>\n",
       "      <th>cat_maltrato</th>\n",
       "      <th>cat_gato</th>\n",
       "      <th>cat_perro</th>\n",
       "      <th>cat_pelo</th>\n",
       "      <th>cat_macho</th>\n",
       "      <th>cat_hembra</th>\n",
       "      <th>cat_ladra</th>\n",
       "      <th>cat_ruido</th>\n",
       "      <th>id_centro</th>\n",
       "    </tr>\n",
       "  </thead>\n",
       "  <tbody>\n",
       "    <tr>\n",
       "      <th>0</th>\n",
       "      <td>Tomás</td>\n",
       "      <td>Macho</td>\n",
       "      <td>Pastor Belga</td>\n",
       "      <td>Menos de 1 año</td>\n",
       "      <td>Mediano</td>\n",
       "      <td>Canina</td>\n",
       "      <td>399951</td>\n",
       "      <td>0.000000</td>\n",
       "      <td>0.065953</td>\n",
       "      <td>0.000000</td>\n",
       "      <td>...</td>\n",
       "      <td>0.0</td>\n",
       "      <td>0.0</td>\n",
       "      <td>0.000000</td>\n",
       "      <td>0.229896</td>\n",
       "      <td>0.00000</td>\n",
       "      <td>0.000000</td>\n",
       "      <td>0.0</td>\n",
       "      <td>0.227081</td>\n",
       "      <td>0.0</td>\n",
       "      <td>543</td>\n",
       "    </tr>\n",
       "    <tr>\n",
       "      <th>1</th>\n",
       "      <td>Carolina</td>\n",
       "      <td>Hembra</td>\n",
       "      <td>Mestizo</td>\n",
       "      <td>4 años</td>\n",
       "      <td>Mediano</td>\n",
       "      <td>Canina</td>\n",
       "      <td>313004</td>\n",
       "      <td>0.000000</td>\n",
       "      <td>0.022771</td>\n",
       "      <td>0.000000</td>\n",
       "      <td>...</td>\n",
       "      <td>0.0</td>\n",
       "      <td>0.0</td>\n",
       "      <td>0.000000</td>\n",
       "      <td>-0.102187</td>\n",
       "      <td>0.00000</td>\n",
       "      <td>0.000000</td>\n",
       "      <td>0.0</td>\n",
       "      <td>0.000000</td>\n",
       "      <td>0.0</td>\n",
       "      <td>118</td>\n",
       "    </tr>\n",
       "    <tr>\n",
       "      <th>2</th>\n",
       "      <td>Malvolio</td>\n",
       "      <td>Macho</td>\n",
       "      <td>Mestizo</td>\n",
       "      <td>5 años</td>\n",
       "      <td>Mediano</td>\n",
       "      <td>Canina</td>\n",
       "      <td>468</td>\n",
       "      <td>0.119279</td>\n",
       "      <td>0.073283</td>\n",
       "      <td>0.000000</td>\n",
       "      <td>...</td>\n",
       "      <td>0.0</td>\n",
       "      <td>0.0</td>\n",
       "      <td>0.000000</td>\n",
       "      <td>-0.115225</td>\n",
       "      <td>0.08198</td>\n",
       "      <td>0.000000</td>\n",
       "      <td>0.0</td>\n",
       "      <td>0.045177</td>\n",
       "      <td>0.0</td>\n",
       "      <td>757</td>\n",
       "    </tr>\n",
       "    <tr>\n",
       "      <th>3</th>\n",
       "      <td>Gabriela</td>\n",
       "      <td>Hembra</td>\n",
       "      <td>Mestizo</td>\n",
       "      <td>8 años</td>\n",
       "      <td>Mediano</td>\n",
       "      <td>Canina</td>\n",
       "      <td>2893</td>\n",
       "      <td>0.000000</td>\n",
       "      <td>0.126649</td>\n",
       "      <td>0.000000</td>\n",
       "      <td>...</td>\n",
       "      <td>0.0</td>\n",
       "      <td>0.0</td>\n",
       "      <td>-0.044153</td>\n",
       "      <td>-0.070310</td>\n",
       "      <td>0.00000</td>\n",
       "      <td>0.000000</td>\n",
       "      <td>0.0</td>\n",
       "      <td>0.000000</td>\n",
       "      <td>0.0</td>\n",
       "      <td>609</td>\n",
       "    </tr>\n",
       "    <tr>\n",
       "      <th>4</th>\n",
       "      <td>Citlali</td>\n",
       "      <td>Hembra</td>\n",
       "      <td>Podenco</td>\n",
       "      <td>5 años</td>\n",
       "      <td>Mediano</td>\n",
       "      <td>Canina</td>\n",
       "      <td>52357</td>\n",
       "      <td>0.000000</td>\n",
       "      <td>0.000000</td>\n",
       "      <td>0.000000</td>\n",
       "      <td>...</td>\n",
       "      <td>0.0</td>\n",
       "      <td>0.0</td>\n",
       "      <td>0.000000</td>\n",
       "      <td>-0.061876</td>\n",
       "      <td>0.00000</td>\n",
       "      <td>0.000000</td>\n",
       "      <td>0.0</td>\n",
       "      <td>0.000000</td>\n",
       "      <td>0.0</td>\n",
       "      <td>743</td>\n",
       "    </tr>\n",
       "    <tr>\n",
       "      <th>5</th>\n",
       "      <td>Alberto</td>\n",
       "      <td>Macho</td>\n",
       "      <td>Mestizo</td>\n",
       "      <td>1 años</td>\n",
       "      <td>Mediano</td>\n",
       "      <td>Canina</td>\n",
       "      <td>479250</td>\n",
       "      <td>0.042610</td>\n",
       "      <td>0.055986</td>\n",
       "      <td>0.000000</td>\n",
       "      <td>...</td>\n",
       "      <td>0.0</td>\n",
       "      <td>0.0</td>\n",
       "      <td>0.000000</td>\n",
       "      <td>-0.175857</td>\n",
       "      <td>0.00000</td>\n",
       "      <td>0.000000</td>\n",
       "      <td>0.0</td>\n",
       "      <td>0.000000</td>\n",
       "      <td>0.0</td>\n",
       "      <td>775</td>\n",
       "    </tr>\n",
       "    <tr>\n",
       "      <th>6</th>\n",
       "      <td>Bautista</td>\n",
       "      <td>Macho</td>\n",
       "      <td>Gato</td>\n",
       "      <td>2 años</td>\n",
       "      <td>Pequeño</td>\n",
       "      <td>Felina</td>\n",
       "      <td>394929</td>\n",
       "      <td>0.000000</td>\n",
       "      <td>0.000000</td>\n",
       "      <td>-0.071289</td>\n",
       "      <td>...</td>\n",
       "      <td>0.0</td>\n",
       "      <td>0.0</td>\n",
       "      <td>0.000000</td>\n",
       "      <td>-0.031498</td>\n",
       "      <td>0.00000</td>\n",
       "      <td>0.000000</td>\n",
       "      <td>0.0</td>\n",
       "      <td>0.000000</td>\n",
       "      <td>0.0</td>\n",
       "      <td>458</td>\n",
       "    </tr>\n",
       "    <tr>\n",
       "      <th>7</th>\n",
       "      <td>Santi</td>\n",
       "      <td>Macho</td>\n",
       "      <td>Gato</td>\n",
       "      <td>2 años</td>\n",
       "      <td>Pequeño</td>\n",
       "      <td>Felina</td>\n",
       "      <td>182913</td>\n",
       "      <td>0.000000</td>\n",
       "      <td>0.098665</td>\n",
       "      <td>0.000000</td>\n",
       "      <td>...</td>\n",
       "      <td>0.0</td>\n",
       "      <td>0.0</td>\n",
       "      <td>0.000000</td>\n",
       "      <td>0.000000</td>\n",
       "      <td>0.00000</td>\n",
       "      <td>0.000000</td>\n",
       "      <td>0.0</td>\n",
       "      <td>0.000000</td>\n",
       "      <td>0.0</td>\n",
       "      <td>716</td>\n",
       "    </tr>\n",
       "    <tr>\n",
       "      <th>8</th>\n",
       "      <td>Santi</td>\n",
       "      <td>Macho</td>\n",
       "      <td>Cruce Podenco</td>\n",
       "      <td>2 años</td>\n",
       "      <td>Mediano</td>\n",
       "      <td>Canina</td>\n",
       "      <td>477844</td>\n",
       "      <td>0.000000</td>\n",
       "      <td>0.000000</td>\n",
       "      <td>0.073719</td>\n",
       "      <td>...</td>\n",
       "      <td>0.0</td>\n",
       "      <td>0.0</td>\n",
       "      <td>0.000000</td>\n",
       "      <td>-0.113126</td>\n",
       "      <td>0.00000</td>\n",
       "      <td>0.233825</td>\n",
       "      <td>0.0</td>\n",
       "      <td>0.000000</td>\n",
       "      <td>0.0</td>\n",
       "      <td>136</td>\n",
       "    </tr>\n",
       "    <tr>\n",
       "      <th>9</th>\n",
       "      <td>Karina</td>\n",
       "      <td>Hembra</td>\n",
       "      <td>Cruce Mastín</td>\n",
       "      <td>1 años</td>\n",
       "      <td>Mediano</td>\n",
       "      <td>Canina</td>\n",
       "      <td>320265</td>\n",
       "      <td>0.000000</td>\n",
       "      <td>0.000000</td>\n",
       "      <td>0.000000</td>\n",
       "      <td>...</td>\n",
       "      <td>0.0</td>\n",
       "      <td>0.0</td>\n",
       "      <td>0.000000</td>\n",
       "      <td>-0.206664</td>\n",
       "      <td>0.00000</td>\n",
       "      <td>0.000000</td>\n",
       "      <td>0.0</td>\n",
       "      <td>0.000000</td>\n",
       "      <td>0.0</td>\n",
       "      <td>553</td>\n",
       "    </tr>\n",
       "  </tbody>\n",
       "</table>\n",
       "<p>10 rows × 46 columns</p>\n",
       "</div>"
      ],
      "text/plain": [
       "     Nombre    Sexo           Raza            Edad   Tamaño Especie  \\\n",
       "0     Tomás   Macho   Pastor Belga  Menos de 1 año  Mediano  Canina   \n",
       "1  Carolina  Hembra        Mestizo          4 años  Mediano  Canina   \n",
       "2  Malvolio   Macho        Mestizo          5 años  Mediano  Canina   \n",
       "3  Gabriela  Hembra        Mestizo          8 años  Mediano  Canina   \n",
       "4   Citlali  Hembra        Podenco          5 años  Mediano  Canina   \n",
       "5   Alberto   Macho        Mestizo          1 años  Mediano  Canina   \n",
       "6  Bautista   Macho           Gato          2 años  Pequeño  Felina   \n",
       "7     Santi   Macho           Gato          2 años  Pequeño  Felina   \n",
       "8     Santi   Macho  Cruce Podenco          2 años  Mediano  Canina   \n",
       "9    Karina  Hembra   Cruce Mastín          1 años  Mediano  Canina   \n",
       "\n",
       "   id_adopcion  cat_abandonado  cat_cariño  cat_cercania  ...  \\\n",
       "0       399951        0.000000    0.065953      0.000000  ...   \n",
       "1       313004        0.000000    0.022771      0.000000  ...   \n",
       "2          468        0.119279    0.073283      0.000000  ...   \n",
       "3         2893        0.000000    0.126649      0.000000  ...   \n",
       "4        52357        0.000000    0.000000      0.000000  ...   \n",
       "5       479250        0.042610    0.055986      0.000000  ...   \n",
       "6       394929        0.000000    0.000000     -0.071289  ...   \n",
       "7       182913        0.000000    0.098665      0.000000  ...   \n",
       "8       477844        0.000000    0.000000      0.073719  ...   \n",
       "9       320265        0.000000    0.000000      0.000000  ...   \n",
       "\n",
       "   cat_independencia  cat_maltrato  cat_gato  cat_perro  cat_pelo  cat_macho  \\\n",
       "0                0.0           0.0  0.000000   0.229896   0.00000   0.000000   \n",
       "1                0.0           0.0  0.000000  -0.102187   0.00000   0.000000   \n",
       "2                0.0           0.0  0.000000  -0.115225   0.08198   0.000000   \n",
       "3                0.0           0.0 -0.044153  -0.070310   0.00000   0.000000   \n",
       "4                0.0           0.0  0.000000  -0.061876   0.00000   0.000000   \n",
       "5                0.0           0.0  0.000000  -0.175857   0.00000   0.000000   \n",
       "6                0.0           0.0  0.000000  -0.031498   0.00000   0.000000   \n",
       "7                0.0           0.0  0.000000   0.000000   0.00000   0.000000   \n",
       "8                0.0           0.0  0.000000  -0.113126   0.00000   0.233825   \n",
       "9                0.0           0.0  0.000000  -0.206664   0.00000   0.000000   \n",
       "\n",
       "   cat_hembra  cat_ladra  cat_ruido  id_centro  \n",
       "0         0.0   0.227081        0.0        543  \n",
       "1         0.0   0.000000        0.0        118  \n",
       "2         0.0   0.045177        0.0        757  \n",
       "3         0.0   0.000000        0.0        609  \n",
       "4         0.0   0.000000        0.0        743  \n",
       "5         0.0   0.000000        0.0        775  \n",
       "6         0.0   0.000000        0.0        458  \n",
       "7         0.0   0.000000        0.0        716  \n",
       "8         0.0   0.000000        0.0        136  \n",
       "9         0.0   0.000000        0.0        553  \n",
       "\n",
       "[10 rows x 46 columns]"
      ]
     },
     "execution_count": 3,
     "metadata": {},
     "output_type": "execute_result"
    }
   ],
   "source": [
    "df.head(10)"
   ]
  },
  {
   "cell_type": "markdown",
   "id": "2693c38d",
   "metadata": {},
   "source": [
    "Tratamiento de nulos"
   ]
  },
  {
   "cell_type": "code",
   "execution_count": 4,
   "id": "e8f611e5",
   "metadata": {},
   "outputs": [
    {
     "data": {
      "text/plain": [
       "Nombre               0\n",
       "Sexo                 0\n",
       "Raza                 0\n",
       "Edad                 0\n",
       "Tamaño               0\n",
       "Especie              0\n",
       "id_adopcion          0\n",
       "cat_abandonado       1\n",
       "cat_cariño           1\n",
       "cat_cercania         1\n",
       "cat_acogida          1\n",
       "cat_actividad        1\n",
       "cat_dependencia      1\n",
       "cat_adaptacion       1\n",
       "cat_docil            1\n",
       "cat_agradecido       1\n",
       "cat_agresivo         1\n",
       "cat_tenso            1\n",
       "cat_alegre           1\n",
       "cat_inteligencia     1\n",
       "cat_miedo            1\n",
       "cat_convivencia      1\n",
       "cat_correa           1\n",
       "cat_carretera        1\n",
       "cat_aventura         1\n",
       "cat_niños            1\n",
       "cat_belleza          1\n",
       "cat_ppp              1\n",
       "cat_bruto            1\n",
       "cat_triste           1\n",
       "cat_tranquilidad     1\n",
       "cat_desubicado       1\n",
       "cat_recuperacion     1\n",
       "cat_cronico          1\n",
       "cat_historial        1\n",
       "cat_fortaleza        1\n",
       "cat_independencia    1\n",
       "cat_maltrato         1\n",
       "cat_gato             1\n",
       "cat_perro            1\n",
       "cat_pelo             1\n",
       "cat_macho            1\n",
       "cat_hembra           1\n",
       "cat_ladra            1\n",
       "cat_ruido            1\n",
       "id_centro            0\n",
       "dtype: int64"
      ]
     },
     "execution_count": 4,
     "metadata": {},
     "output_type": "execute_result"
    }
   ],
   "source": [
    "df.isnull().sum()"
   ]
  },
  {
   "cell_type": "code",
   "execution_count": 5,
   "id": "fc0f1669",
   "metadata": {},
   "outputs": [],
   "source": [
    "df= df.dropna()"
   ]
  },
  {
   "cell_type": "markdown",
   "id": "c2c91d29",
   "metadata": {},
   "source": [
    "Remuestreo para poder hacer el algoritmo (si no no me deja con tantos datos)"
   ]
  },
  {
   "cell_type": "code",
   "execution_count": 6,
   "id": "a70227fb",
   "metadata": {},
   "outputs": [],
   "source": [
    "adopcion = df.sample(n=50000)"
   ]
  },
  {
   "cell_type": "markdown",
   "id": "5c3e03af",
   "metadata": {},
   "source": [
    "**División de datos en training-test**"
   ]
  },
  {
   "cell_type": "code",
   "execution_count": 7,
   "id": "c158b1f5",
   "metadata": {},
   "outputs": [],
   "source": [
    "X_train, X_test = train_test_split(adopcion, test_size=0.2, random_state=42)"
   ]
  },
  {
   "cell_type": "markdown",
   "id": "82f6835c",
   "metadata": {},
   "source": [
    "**Selección de columnas (únicamente las puntuaciones)**"
   ]
  },
  {
   "cell_type": "code",
   "execution_count": 8,
   "id": "795ea7a0",
   "metadata": {},
   "outputs": [
    {
     "data": {
      "text/plain": [
       "Index(['Nombre', 'Sexo', 'Raza', 'Edad', 'Tamaño', 'Especie', 'id_adopcion',\n",
       "       'cat_abandonado', 'cat_cariño', 'cat_cercania', 'cat_acogida',\n",
       "       'cat_actividad', 'cat_dependencia', 'cat_adaptacion', 'cat_docil',\n",
       "       'cat_agradecido', 'cat_agresivo', 'cat_tenso', 'cat_alegre',\n",
       "       'cat_inteligencia', 'cat_miedo', 'cat_convivencia', 'cat_correa',\n",
       "       'cat_carretera', 'cat_aventura', 'cat_niños', 'cat_belleza', 'cat_ppp',\n",
       "       'cat_bruto', 'cat_triste', 'cat_tranquilidad', 'cat_desubicado',\n",
       "       'cat_recuperacion', 'cat_cronico', 'cat_historial', 'cat_fortaleza',\n",
       "       'cat_independencia', 'cat_maltrato', 'cat_gato', 'cat_perro',\n",
       "       'cat_pelo', 'cat_macho', 'cat_hembra', 'cat_ladra', 'cat_ruido',\n",
       "       'id_centro'],\n",
       "      dtype='object')"
      ]
     },
     "execution_count": 8,
     "metadata": {},
     "output_type": "execute_result"
    }
   ],
   "source": [
    "adopcion.columns"
   ]
  },
  {
   "cell_type": "code",
   "execution_count": 9,
   "id": "57e95a82",
   "metadata": {},
   "outputs": [],
   "source": [
    "variables= ['cat_abandonado', 'cat_cariño', 'cat_cercania', 'cat_acogida',\n",
    "       'cat_actividad', 'cat_dependencia', 'cat_adaptacion', 'cat_docil',\n",
    "       'cat_agradecido', 'cat_agresivo', 'cat_tenso', 'cat_alegre',\n",
    "       'cat_inteligencia', 'cat_miedo', 'cat_convivencia', 'cat_correa',\n",
    "       'cat_carretera', 'cat_aventura', 'cat_niños', 'cat_belleza', 'cat_ppp',\n",
    "       'cat_bruto', 'cat_triste', 'cat_tranquilidad', 'cat_desubicado',\n",
    "       'cat_recuperacion', 'cat_cronico', 'cat_historial', 'cat_fortaleza',\n",
    "       'cat_independencia', 'cat_maltrato', 'cat_gato', 'cat_perro',\n",
    "       'cat_pelo', 'cat_macho', 'cat_hembra', 'cat_ladra', 'cat_ruido']"
   ]
  },
  {
   "cell_type": "markdown",
   "id": "0e7c352e",
   "metadata": {},
   "source": [
    "**Normalización de datos**"
   ]
  },
  {
   "cell_type": "code",
   "execution_count": 10,
   "id": "ca88111c",
   "metadata": {},
   "outputs": [],
   "source": [
    "scaler = MinMaxScaler()\n",
    "X_train_norm = scaler.fit_transform(X_train[variables])\n",
    "X_test_norm = scaler.transform(X_test[variables])"
   ]
  },
  {
   "cell_type": "markdown",
   "id": "b1ff87dd",
   "metadata": {},
   "source": [
    "**Cálculo de la matriz de similitud de coseno**"
   ]
  },
  {
   "cell_type": "markdown",
   "id": "fea9a6e6",
   "metadata": {},
   "source": [
    "Las aplico sobre los datos de entrenamiento"
   ]
  },
  {
   "cell_type": "code",
   "execution_count": 11,
   "id": "d2ddfcb5",
   "metadata": {},
   "outputs": [],
   "source": [
    "item_sim_cos = cosine_similarity(X_train_norm)"
   ]
  },
  {
   "cell_type": "markdown",
   "id": "72bd5145",
   "metadata": {},
   "source": [
    "**Entrenamiento del modelo**"
   ]
  },
  {
   "cell_type": "code",
   "execution_count": 12,
   "id": "fc11362d",
   "metadata": {},
   "outputs": [
    {
     "data": {
      "text/plain": [
       "NearestNeighbors(algorithm='brute', metric='cosine')"
      ]
     },
     "execution_count": 12,
     "metadata": {},
     "output_type": "execute_result"
    }
   ],
   "source": [
    "filtrado = NearestNeighbors(metric='cosine', algorithm='brute')\n",
    "filtrado.fit(X_train_norm)"
   ]
  },
  {
   "cell_type": "markdown",
   "id": "dc848d61",
   "metadata": {},
   "source": [
    "**Guardado del modelo**"
   ]
  },
  {
   "cell_type": "code",
   "execution_count": 13,
   "id": "752dc871",
   "metadata": {},
   "outputs": [],
   "source": [
    "#Guardo el modelo ya entrenado\n",
    "with open('filtrado.pkl', 'wb') as archivo:\n",
    "    pickle.dump(filtrado, archivo)"
   ]
  },
  {
   "cell_type": "markdown",
   "id": "65bf9857",
   "metadata": {},
   "source": [
    "**Encontrar los 5 items más cercanos para el conjunto del test**"
   ]
  },
  {
   "cell_type": "code",
   "execution_count": 14,
   "id": "0f78c909",
   "metadata": {},
   "outputs": [],
   "source": [
    "distancias, indices = filtrado.kneighbors(X_test_norm, n_neighbors=5)"
   ]
  },
  {
   "cell_type": "code",
   "execution_count": 21,
   "id": "9b0f00af",
   "metadata": {},
   "outputs": [],
   "source": [
    "recomendaciones= df.iloc[indices[0]]"
   ]
  },
  {
   "cell_type": "code",
   "execution_count": 22,
   "id": "63a2a5d5",
   "metadata": {},
   "outputs": [
    {
     "data": {
      "text/html": [
       "<div>\n",
       "<style scoped>\n",
       "    .dataframe tbody tr th:only-of-type {\n",
       "        vertical-align: middle;\n",
       "    }\n",
       "\n",
       "    .dataframe tbody tr th {\n",
       "        vertical-align: top;\n",
       "    }\n",
       "\n",
       "    .dataframe thead th {\n",
       "        text-align: right;\n",
       "    }\n",
       "</style>\n",
       "<table border=\"1\" class=\"dataframe\">\n",
       "  <thead>\n",
       "    <tr style=\"text-align: right;\">\n",
       "      <th></th>\n",
       "      <th>Nombre</th>\n",
       "      <th>Sexo</th>\n",
       "      <th>Raza</th>\n",
       "      <th>Edad</th>\n",
       "      <th>Tamaño</th>\n",
       "      <th>Especie</th>\n",
       "      <th>id_adopcion</th>\n",
       "      <th>cat_abandonado</th>\n",
       "      <th>cat_cariño</th>\n",
       "      <th>cat_cercania</th>\n",
       "      <th>...</th>\n",
       "      <th>cat_independencia</th>\n",
       "      <th>cat_maltrato</th>\n",
       "      <th>cat_gato</th>\n",
       "      <th>cat_perro</th>\n",
       "      <th>cat_pelo</th>\n",
       "      <th>cat_macho</th>\n",
       "      <th>cat_hembra</th>\n",
       "      <th>cat_ladra</th>\n",
       "      <th>cat_ruido</th>\n",
       "      <th>id_centro</th>\n",
       "    </tr>\n",
       "  </thead>\n",
       "  <tbody>\n",
       "    <tr>\n",
       "      <th>26951</th>\n",
       "      <td>Benjamín</td>\n",
       "      <td>Macho</td>\n",
       "      <td>Podenco</td>\n",
       "      <td>2 años</td>\n",
       "      <td>Mediano</td>\n",
       "      <td>Canina</td>\n",
       "      <td>234686</td>\n",
       "      <td>0.0</td>\n",
       "      <td>0.016532</td>\n",
       "      <td>0.000000</td>\n",
       "      <td>...</td>\n",
       "      <td>0.0</td>\n",
       "      <td>0.000000</td>\n",
       "      <td>0.0</td>\n",
       "      <td>-0.192996</td>\n",
       "      <td>0.000000</td>\n",
       "      <td>0.076489</td>\n",
       "      <td>0.000000</td>\n",
       "      <td>0.0</td>\n",
       "      <td>0.0</td>\n",
       "      <td>407</td>\n",
       "    </tr>\n",
       "    <tr>\n",
       "      <th>21055</th>\n",
       "      <td>Xalvador</td>\n",
       "      <td>Macho</td>\n",
       "      <td>Mestizo</td>\n",
       "      <td>1 años</td>\n",
       "      <td>Mediano</td>\n",
       "      <td>Canina</td>\n",
       "      <td>284844</td>\n",
       "      <td>0.0</td>\n",
       "      <td>0.000000</td>\n",
       "      <td>0.000000</td>\n",
       "      <td>...</td>\n",
       "      <td>0.0</td>\n",
       "      <td>0.021893</td>\n",
       "      <td>0.0</td>\n",
       "      <td>-0.060281</td>\n",
       "      <td>0.024398</td>\n",
       "      <td>0.000000</td>\n",
       "      <td>0.000000</td>\n",
       "      <td>0.0</td>\n",
       "      <td>0.0</td>\n",
       "      <td>901</td>\n",
       "    </tr>\n",
       "    <tr>\n",
       "      <th>33992</th>\n",
       "      <td>Jose</td>\n",
       "      <td>Macho</td>\n",
       "      <td>Bretón Español</td>\n",
       "      <td>2 años</td>\n",
       "      <td>Mediano</td>\n",
       "      <td>Canina</td>\n",
       "      <td>408683</td>\n",
       "      <td>0.0</td>\n",
       "      <td>0.000000</td>\n",
       "      <td>0.000000</td>\n",
       "      <td>...</td>\n",
       "      <td>0.0</td>\n",
       "      <td>0.000000</td>\n",
       "      <td>0.0</td>\n",
       "      <td>-0.160328</td>\n",
       "      <td>0.000000</td>\n",
       "      <td>0.000000</td>\n",
       "      <td>0.000000</td>\n",
       "      <td>0.0</td>\n",
       "      <td>0.0</td>\n",
       "      <td>932</td>\n",
       "    </tr>\n",
       "    <tr>\n",
       "      <th>22940</th>\n",
       "      <td>Andrés</td>\n",
       "      <td>Macho</td>\n",
       "      <td>Cruce Pastor Belga</td>\n",
       "      <td>3 años</td>\n",
       "      <td>Mediano</td>\n",
       "      <td>Canina</td>\n",
       "      <td>15706</td>\n",
       "      <td>0.0</td>\n",
       "      <td>0.052126</td>\n",
       "      <td>0.000000</td>\n",
       "      <td>...</td>\n",
       "      <td>0.0</td>\n",
       "      <td>0.000000</td>\n",
       "      <td>0.0</td>\n",
       "      <td>-0.028029</td>\n",
       "      <td>0.000000</td>\n",
       "      <td>0.000000</td>\n",
       "      <td>-0.039304</td>\n",
       "      <td>0.0</td>\n",
       "      <td>0.0</td>\n",
       "      <td>558</td>\n",
       "    </tr>\n",
       "    <tr>\n",
       "      <th>32251</th>\n",
       "      <td>Luciano</td>\n",
       "      <td>Macho</td>\n",
       "      <td>Pastor Belga</td>\n",
       "      <td>7 años</td>\n",
       "      <td>Mediano</td>\n",
       "      <td>Canina</td>\n",
       "      <td>467473</td>\n",
       "      <td>0.0</td>\n",
       "      <td>0.149320</td>\n",
       "      <td>-0.189362</td>\n",
       "      <td>...</td>\n",
       "      <td>0.0</td>\n",
       "      <td>0.000000</td>\n",
       "      <td>0.0</td>\n",
       "      <td>-0.193713</td>\n",
       "      <td>0.000000</td>\n",
       "      <td>0.000000</td>\n",
       "      <td>0.000000</td>\n",
       "      <td>0.0</td>\n",
       "      <td>0.0</td>\n",
       "      <td>198</td>\n",
       "    </tr>\n",
       "  </tbody>\n",
       "</table>\n",
       "<p>5 rows × 46 columns</p>\n",
       "</div>"
      ],
      "text/plain": [
       "         Nombre   Sexo                Raza    Edad   Tamaño Especie  \\\n",
       "26951  Benjamín  Macho             Podenco  2 años  Mediano  Canina   \n",
       "21055  Xalvador  Macho             Mestizo  1 años  Mediano  Canina   \n",
       "33992      Jose  Macho      Bretón Español  2 años  Mediano  Canina   \n",
       "22940    Andrés  Macho  Cruce Pastor Belga  3 años  Mediano  Canina   \n",
       "32251   Luciano  Macho        Pastor Belga  7 años  Mediano  Canina   \n",
       "\n",
       "       id_adopcion  cat_abandonado  cat_cariño  cat_cercania  ...  \\\n",
       "26951       234686             0.0    0.016532      0.000000  ...   \n",
       "21055       284844             0.0    0.000000      0.000000  ...   \n",
       "33992       408683             0.0    0.000000      0.000000  ...   \n",
       "22940        15706             0.0    0.052126      0.000000  ...   \n",
       "32251       467473             0.0    0.149320     -0.189362  ...   \n",
       "\n",
       "       cat_independencia  cat_maltrato  cat_gato  cat_perro  cat_pelo  \\\n",
       "26951                0.0      0.000000       0.0  -0.192996  0.000000   \n",
       "21055                0.0      0.021893       0.0  -0.060281  0.024398   \n",
       "33992                0.0      0.000000       0.0  -0.160328  0.000000   \n",
       "22940                0.0      0.000000       0.0  -0.028029  0.000000   \n",
       "32251                0.0      0.000000       0.0  -0.193713  0.000000   \n",
       "\n",
       "       cat_macho  cat_hembra  cat_ladra  cat_ruido  id_centro  \n",
       "26951   0.076489    0.000000        0.0        0.0        407  \n",
       "21055   0.000000    0.000000        0.0        0.0        901  \n",
       "33992   0.000000    0.000000        0.0        0.0        932  \n",
       "22940   0.000000   -0.039304        0.0        0.0        558  \n",
       "32251   0.000000    0.000000        0.0        0.0        198  \n",
       "\n",
       "[5 rows x 46 columns]"
      ]
     },
     "execution_count": 22,
     "metadata": {},
     "output_type": "execute_result"
    }
   ],
   "source": [
    "recomendaciones"
   ]
  },
  {
   "cell_type": "code",
   "execution_count": 24,
   "id": "a7731158",
   "metadata": {},
   "outputs": [
    {
     "data": {
      "text/plain": [
       "array([0.        , 0.15126377, 0.48756825, 0.        , 0.        ,\n",
       "       0.27875952, 0.        , 0.11226232, 0.24123533, 0.        ,\n",
       "       0.        , 0.        , 0.        , 0.        , 0.40778203,\n",
       "       0.64652401, 0.        , 0.        , 0.63698701, 0.        ,\n",
       "       0.        , 0.        , 0.        , 0.        , 0.        ,\n",
       "       0.        , 0.        , 0.        , 0.        , 0.        ,\n",
       "       0.11442361, 0.58923487, 0.6812308 , 0.        , 0.46204092,\n",
       "       0.56463201, 0.30105599, 0.        ])"
      ]
     },
     "execution_count": 24,
     "metadata": {},
     "output_type": "execute_result"
    }
   ],
   "source": [
    "X_test_norm[0]"
   ]
  },
  {
   "cell_type": "markdown",
   "id": "9803682e",
   "metadata": {},
   "source": [
    "**Predecir resultados para el primer elemento del test**"
   ]
  },
  {
   "cell_type": "code",
   "execution_count": 15,
   "id": "55816fa6",
   "metadata": {},
   "outputs": [],
   "source": [
    "predicciones = []\n",
    "for i in range(len(X_test)):\n",
    "    indices_fila = indices[i]\n",
    "    distancias_fila = distancias[i]\n",
    "    valoraciones_vecinos = X_train_norm[indices_fila]\n",
    "    pesos = 1 - distancias_fila\n",
    "    prediccion = np.dot(pesos, valoraciones_vecinos) / np.sum(pesos)\n",
    "    predicciones.append(prediccion)\n"
   ]
  },
  {
   "cell_type": "markdown",
   "id": "1883bd1e",
   "metadata": {},
   "source": [
    "**Evaluación de resultados**"
   ]
  },
  {
   "cell_type": "code",
   "execution_count": 16,
   "id": "80f34914",
   "metadata": {},
   "outputs": [],
   "source": [
    "# ERROR CUADRÁTICO MEDIO (RMSE)\n",
    "from sklearn.metrics import mean_squared_error\n",
    "from math import sqrt\n",
    "\n",
    "rmse = sqrt(mean_squared_error(X_test_norm, predicciones))"
   ]
  },
  {
   "cell_type": "code",
   "execution_count": 17,
   "id": "34c2d4c2",
   "metadata": {},
   "outputs": [
    {
     "data": {
      "text/plain": [
       "0.026629829333551507"
      ]
     },
     "execution_count": 17,
     "metadata": {},
     "output_type": "execute_result"
    }
   ],
   "source": [
    "rmse"
   ]
  },
  {
   "cell_type": "code",
   "execution_count": 18,
   "id": "2eb825b1",
   "metadata": {},
   "outputs": [],
   "source": [
    "# ERROR ABSOLUTO MEDIO (MAE)\n",
    "from sklearn.metrics import mean_absolute_error\n",
    "\n",
    "mae = mean_absolute_error(X_test_norm, predicciones)"
   ]
  },
  {
   "cell_type": "code",
   "execution_count": 19,
   "id": "41786991",
   "metadata": {},
   "outputs": [
    {
     "data": {
      "text/plain": [
       "0.013068334471914333"
      ]
     },
     "execution_count": 19,
     "metadata": {},
     "output_type": "execute_result"
    }
   ],
   "source": [
    "mae"
   ]
  }
 ],
 "metadata": {
  "kernelspec": {
   "display_name": "Python 3 (ipykernel)",
   "language": "python",
   "name": "python3"
  },
  "language_info": {
   "codemirror_mode": {
    "name": "ipython",
    "version": 3
   },
   "file_extension": ".py",
   "mimetype": "text/x-python",
   "name": "python",
   "nbconvert_exporter": "python",
   "pygments_lexer": "ipython3",
   "version": "3.9.13"
  }
 },
 "nbformat": 4,
 "nbformat_minor": 5
}
