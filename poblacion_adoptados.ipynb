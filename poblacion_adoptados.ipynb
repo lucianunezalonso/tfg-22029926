{
 "cells": [
  {
   "cell_type": "code",
   "execution_count": 1,
   "id": "0bfaf881",
   "metadata": {},
   "outputs": [],
   "source": [
    "import pandas as pd\n",
    "import numpy as np\n",
    "import matplotlib.pyplot as plt"
   ]
  },
  {
   "cell_type": "markdown",
   "id": "64429584",
   "metadata": {},
   "source": [
    "A partir de la muestra se conseguirá la población del conjunto de datos"
   ]
  },
  {
   "cell_type": "markdown",
   "id": "b8581310",
   "metadata": {},
   "source": [
    "Algunos datos de distribución de variables que no constaban en la muestra han sido sacados del estudio affinity de adopciones 2022 \"Él nunca lo haría\": https://www.fundacion-affinity.org/observatorio/infografia-el-nunca-lo-haria-abandono-adopcion-perros-gatos-espana-2022"
   ]
  },
  {
   "cell_type": "code",
   "execution_count": 77,
   "id": "51685609",
   "metadata": {},
   "outputs": [],
   "source": [
    "data= pd.read_excel(\"animales_apalarioja.xlsx\")"
   ]
  },
  {
   "cell_type": "code",
   "execution_count": 3,
   "id": "d77e5a4e",
   "metadata": {},
   "outputs": [
    {
     "data": {
      "text/html": [
       "<div>\n",
       "<style scoped>\n",
       "    .dataframe tbody tr th:only-of-type {\n",
       "        vertical-align: middle;\n",
       "    }\n",
       "\n",
       "    .dataframe tbody tr th {\n",
       "        vertical-align: top;\n",
       "    }\n",
       "\n",
       "    .dataframe thead th {\n",
       "        text-align: right;\n",
       "    }\n",
       "</style>\n",
       "<table border=\"1\" class=\"dataframe\">\n",
       "  <thead>\n",
       "    <tr style=\"text-align: right;\">\n",
       "      <th></th>\n",
       "      <th>Nombre</th>\n",
       "      <th>Tipo de animal</th>\n",
       "      <th>Fecha de Entrada</th>\n",
       "      <th>Fecha de nacimiento</th>\n",
       "      <th>Nombre de ultimo estado</th>\n",
       "      <th>Fecha de ultimo estado</th>\n",
       "    </tr>\n",
       "  </thead>\n",
       "  <tbody>\n",
       "    <tr>\n",
       "      <th>0</th>\n",
       "      <td>Bambi</td>\n",
       "      <td>Podenco</td>\n",
       "      <td>2022-06-01</td>\n",
       "      <td>2020-01-01</td>\n",
       "      <td>Adoptado</td>\n",
       "      <td>2023-02-20</td>\n",
       "    </tr>\n",
       "    <tr>\n",
       "      <th>1</th>\n",
       "      <td>Wanda</td>\n",
       "      <td>Mestizo</td>\n",
       "      <td>2022-06-06</td>\n",
       "      <td>2021-02-02</td>\n",
       "      <td>En adopción</td>\n",
       "      <td>2022-06-17</td>\n",
       "    </tr>\n",
       "    <tr>\n",
       "      <th>2</th>\n",
       "      <td>Tiger</td>\n",
       "      <td>Galgo</td>\n",
       "      <td>2022-06-06</td>\n",
       "      <td>2020-06-06</td>\n",
       "      <td>Adoptado</td>\n",
       "      <td>2022-12-17</td>\n",
       "    </tr>\n",
       "    <tr>\n",
       "      <th>3</th>\n",
       "      <td>Verdi</td>\n",
       "      <td>Mestizo</td>\n",
       "      <td>2022-06-20</td>\n",
       "      <td>2017-01-01</td>\n",
       "      <td>En adopción</td>\n",
       "      <td>2022-07-01</td>\n",
       "    </tr>\n",
       "    <tr>\n",
       "      <th>4</th>\n",
       "      <td>Carla</td>\n",
       "      <td>Mestizo</td>\n",
       "      <td>2022-06-20</td>\n",
       "      <td>2020-07-07</td>\n",
       "      <td>En adopción</td>\n",
       "      <td>2022-07-01</td>\n",
       "    </tr>\n",
       "    <tr>\n",
       "      <th>...</th>\n",
       "      <td>...</td>\n",
       "      <td>...</td>\n",
       "      <td>...</td>\n",
       "      <td>...</td>\n",
       "      <td>...</td>\n",
       "      <td>...</td>\n",
       "    </tr>\n",
       "    <tr>\n",
       "      <th>416</th>\n",
       "      <td>Morita</td>\n",
       "      <td>Mestizo</td>\n",
       "      <td>2023-03-20</td>\n",
       "      <td>2022-03-20</td>\n",
       "      <td>En periodo legal de recuperación</td>\n",
       "      <td>2023-03-20</td>\n",
       "    </tr>\n",
       "    <tr>\n",
       "      <th>417</th>\n",
       "      <td>Drako</td>\n",
       "      <td>Mestizo</td>\n",
       "      <td>2023-03-21</td>\n",
       "      <td>2023-03-21</td>\n",
       "      <td>En periodo legal de recuperación</td>\n",
       "      <td>2023-03-21</td>\n",
       "    </tr>\n",
       "    <tr>\n",
       "      <th>418</th>\n",
       "      <td>20230322-001</td>\n",
       "      <td>Alano Español</td>\n",
       "      <td>2023-03-22</td>\n",
       "      <td>2022-12-22</td>\n",
       "      <td>En periodo legal de recuperación</td>\n",
       "      <td>2023-03-22</td>\n",
       "    </tr>\n",
       "    <tr>\n",
       "      <th>419</th>\n",
       "      <td>20230322-002</td>\n",
       "      <td>Alano Español</td>\n",
       "      <td>2023-03-22</td>\n",
       "      <td>2022-12-22</td>\n",
       "      <td>En periodo legal de recuperación</td>\n",
       "      <td>2023-03-22</td>\n",
       "    </tr>\n",
       "    <tr>\n",
       "      <th>420</th>\n",
       "      <td>20230322-003</td>\n",
       "      <td>Europeo Común</td>\n",
       "      <td>2023-03-22</td>\n",
       "      <td>2022-03-23</td>\n",
       "      <td>En periodo legal de recuperación</td>\n",
       "      <td>2023-03-22</td>\n",
       "    </tr>\n",
       "  </tbody>\n",
       "</table>\n",
       "<p>421 rows × 6 columns</p>\n",
       "</div>"
      ],
      "text/plain": [
       "           Nombre Tipo de animal Fecha de Entrada Fecha de nacimiento  \\\n",
       "0           Bambi        Podenco       2022-06-01          2020-01-01   \n",
       "1           Wanda        Mestizo       2022-06-06          2021-02-02   \n",
       "2           Tiger          Galgo       2022-06-06          2020-06-06   \n",
       "3           Verdi        Mestizo       2022-06-20          2017-01-01   \n",
       "4           Carla        Mestizo       2022-06-20          2020-07-07   \n",
       "..            ...            ...              ...                 ...   \n",
       "416        Morita        Mestizo       2023-03-20          2022-03-20   \n",
       "417         Drako        Mestizo       2023-03-21          2023-03-21   \n",
       "418  20230322-001  Alano Español       2023-03-22          2022-12-22   \n",
       "419  20230322-002  Alano Español       2023-03-22          2022-12-22   \n",
       "420  20230322-003  Europeo Común       2023-03-22          2022-03-23   \n",
       "\n",
       "              Nombre de ultimo estado Fecha de ultimo estado  \n",
       "0                            Adoptado             2023-02-20  \n",
       "1                         En adopción             2022-06-17  \n",
       "2                            Adoptado             2022-12-17  \n",
       "3                         En adopción             2022-07-01  \n",
       "4                         En adopción             2022-07-01  \n",
       "..                                ...                    ...  \n",
       "416  En periodo legal de recuperación             2023-03-20  \n",
       "417  En periodo legal de recuperación             2023-03-21  \n",
       "418  En periodo legal de recuperación             2023-03-22  \n",
       "419  En periodo legal de recuperación             2023-03-22  \n",
       "420  En periodo legal de recuperación             2023-03-22  \n",
       "\n",
       "[421 rows x 6 columns]"
      ]
     },
     "execution_count": 3,
     "metadata": {},
     "output_type": "execute_result"
    }
   ],
   "source": [
    "data"
   ]
  },
  {
   "cell_type": "markdown",
   "id": "24ee6747",
   "metadata": {},
   "source": [
    "Selecciono únicamente los datos de los animales en cuyo estado figure 'Adoptado'"
   ]
  },
  {
   "cell_type": "code",
   "execution_count": 78,
   "id": "113cf21a",
   "metadata": {},
   "outputs": [],
   "source": [
    "data_1 = data.loc[data['Nombre de ultimo estado'] == 'Adoptado']"
   ]
  },
  {
   "cell_type": "code",
   "execution_count": 79,
   "id": "1aff0169",
   "metadata": {},
   "outputs": [
    {
     "data": {
      "text/html": [
       "<div>\n",
       "<style scoped>\n",
       "    .dataframe tbody tr th:only-of-type {\n",
       "        vertical-align: middle;\n",
       "    }\n",
       "\n",
       "    .dataframe tbody tr th {\n",
       "        vertical-align: top;\n",
       "    }\n",
       "\n",
       "    .dataframe thead th {\n",
       "        text-align: right;\n",
       "    }\n",
       "</style>\n",
       "<table border=\"1\" class=\"dataframe\">\n",
       "  <thead>\n",
       "    <tr style=\"text-align: right;\">\n",
       "      <th></th>\n",
       "      <th>Nombre</th>\n",
       "      <th>Tipo de animal</th>\n",
       "      <th>Fecha de Entrada</th>\n",
       "      <th>Fecha de nacimiento</th>\n",
       "      <th>Nombre de ultimo estado</th>\n",
       "      <th>Fecha de ultimo estado</th>\n",
       "    </tr>\n",
       "  </thead>\n",
       "  <tbody>\n",
       "    <tr>\n",
       "      <th>0</th>\n",
       "      <td>Bambi</td>\n",
       "      <td>Podenco</td>\n",
       "      <td>2022-06-01</td>\n",
       "      <td>2020-01-01</td>\n",
       "      <td>Adoptado</td>\n",
       "      <td>2023-02-20</td>\n",
       "    </tr>\n",
       "    <tr>\n",
       "      <th>2</th>\n",
       "      <td>Tiger</td>\n",
       "      <td>Galgo</td>\n",
       "      <td>2022-06-06</td>\n",
       "      <td>2020-06-06</td>\n",
       "      <td>Adoptado</td>\n",
       "      <td>2022-12-17</td>\n",
       "    </tr>\n",
       "    <tr>\n",
       "      <th>5</th>\n",
       "      <td>Trixie</td>\n",
       "      <td>Mestizo</td>\n",
       "      <td>2022-06-20</td>\n",
       "      <td>2021-01-01</td>\n",
       "      <td>Adoptado</td>\n",
       "      <td>2022-12-13</td>\n",
       "    </tr>\n",
       "    <tr>\n",
       "      <th>6</th>\n",
       "      <td>Zelenski</td>\n",
       "      <td>Mestizo</td>\n",
       "      <td>2022-06-20</td>\n",
       "      <td>2020-07-22</td>\n",
       "      <td>Adoptado</td>\n",
       "      <td>2022-11-08</td>\n",
       "    </tr>\n",
       "    <tr>\n",
       "      <th>7</th>\n",
       "      <td>Cheryl</td>\n",
       "      <td>Mestizo</td>\n",
       "      <td>2022-06-20</td>\n",
       "      <td>2020-01-01</td>\n",
       "      <td>Adoptado</td>\n",
       "      <td>2023-02-12</td>\n",
       "    </tr>\n",
       "    <tr>\n",
       "      <th>...</th>\n",
       "      <td>...</td>\n",
       "      <td>...</td>\n",
       "      <td>...</td>\n",
       "      <td>...</td>\n",
       "      <td>...</td>\n",
       "      <td>...</td>\n",
       "    </tr>\n",
       "    <tr>\n",
       "      <th>384</th>\n",
       "      <td>Jack</td>\n",
       "      <td>Ratonero Bodeguero Andaluz</td>\n",
       "      <td>2023-02-19</td>\n",
       "      <td>2022-07-20</td>\n",
       "      <td>Adoptado</td>\n",
       "      <td>2023-03-07</td>\n",
       "    </tr>\n",
       "    <tr>\n",
       "      <th>385</th>\n",
       "      <td>Kupel</td>\n",
       "      <td>Mestizo</td>\n",
       "      <td>2023-02-19</td>\n",
       "      <td>2022-02-19</td>\n",
       "      <td>Adoptado</td>\n",
       "      <td>2023-03-15</td>\n",
       "    </tr>\n",
       "    <tr>\n",
       "      <th>389</th>\n",
       "      <td>Hilka</td>\n",
       "      <td>Mestizo</td>\n",
       "      <td>2023-02-23</td>\n",
       "      <td>2022-12-10</td>\n",
       "      <td>Adoptado</td>\n",
       "      <td>2023-03-08</td>\n",
       "    </tr>\n",
       "    <tr>\n",
       "      <th>390</th>\n",
       "      <td>Freyja</td>\n",
       "      <td>Husky Siberiano</td>\n",
       "      <td>2023-02-24</td>\n",
       "      <td>2022-10-05</td>\n",
       "      <td>Adoptado</td>\n",
       "      <td>2023-02-24</td>\n",
       "    </tr>\n",
       "    <tr>\n",
       "      <th>392</th>\n",
       "      <td>Wilson</td>\n",
       "      <td>Mestizo</td>\n",
       "      <td>2023-02-27</td>\n",
       "      <td>2022-09-05</td>\n",
       "      <td>Adoptado</td>\n",
       "      <td>2023-03-20</td>\n",
       "    </tr>\n",
       "  </tbody>\n",
       "</table>\n",
       "<p>163 rows × 6 columns</p>\n",
       "</div>"
      ],
      "text/plain": [
       "       Nombre              Tipo de animal Fecha de Entrada  \\\n",
       "0       Bambi                     Podenco       2022-06-01   \n",
       "2       Tiger                       Galgo       2022-06-06   \n",
       "5      Trixie                     Mestizo       2022-06-20   \n",
       "6    Zelenski                     Mestizo       2022-06-20   \n",
       "7      Cheryl                     Mestizo       2022-06-20   \n",
       "..        ...                         ...              ...   \n",
       "384      Jack  Ratonero Bodeguero Andaluz       2023-02-19   \n",
       "385     Kupel                     Mestizo       2023-02-19   \n",
       "389     Hilka                     Mestizo       2023-02-23   \n",
       "390    Freyja             Husky Siberiano       2023-02-24   \n",
       "392    Wilson                     Mestizo       2023-02-27   \n",
       "\n",
       "    Fecha de nacimiento Nombre de ultimo estado Fecha de ultimo estado  \n",
       "0            2020-01-01                Adoptado             2023-02-20  \n",
       "2            2020-06-06                Adoptado             2022-12-17  \n",
       "5            2021-01-01                Adoptado             2022-12-13  \n",
       "6            2020-07-22                Adoptado             2022-11-08  \n",
       "7            2020-01-01                Adoptado             2023-02-12  \n",
       "..                  ...                     ...                    ...  \n",
       "384          2022-07-20                Adoptado             2023-03-07  \n",
       "385          2022-02-19                Adoptado             2023-03-15  \n",
       "389          2022-12-10                Adoptado             2023-03-08  \n",
       "390          2022-10-05                Adoptado             2023-02-24  \n",
       "392          2022-09-05                Adoptado             2023-03-20  \n",
       "\n",
       "[163 rows x 6 columns]"
      ]
     },
     "execution_count": 79,
     "metadata": {},
     "output_type": "execute_result"
    }
   ],
   "source": [
    "data_1"
   ]
  },
  {
   "cell_type": "markdown",
   "id": "bdad2da2",
   "metadata": {},
   "source": [
    "Los datos de este conjunto deben tener los siguientes atributos:\n",
    "- Id_animal\n",
    "- Id_centro\n",
    "- Raza\n",
    "- Especie\n",
    "- Sexo\n",
    "- Tamaño\n",
    "- Microchip\n",
    "- Tiempo en protectora\n",
    "- Edad"
   ]
  },
  {
   "cell_type": "markdown",
   "id": "1974a8f7",
   "metadata": {},
   "source": [
    "Convierto la muestra en lo que quiero (si es necesario) y en cada paso lo extrapolo a la población: "
   ]
  },
  {
   "cell_type": "code",
   "execution_count": 6,
   "id": "6f118430",
   "metadata": {},
   "outputs": [],
   "source": [
    "columnas_poblacion= ['id_animal', 'id_centro', 'Raza', 'Especie', 'Sexo', 'Tamaño', 'Microchip', 'Tiempo', 'Edad']"
   ]
  },
  {
   "cell_type": "code",
   "execution_count": 7,
   "id": "2928f59f",
   "metadata": {},
   "outputs": [],
   "source": [
    "poblacion=  pd.DataFrame(columns=columnas_poblacion)"
   ]
  },
  {
   "cell_type": "markdown",
   "id": "e8166872",
   "metadata": {},
   "source": [
    "###### 1. Raza"
   ]
  },
  {
   "cell_type": "code",
   "execution_count": 8,
   "id": "b87d027e",
   "metadata": {},
   "outputs": [
    {
     "data": {
      "text/plain": [
       "array(['Podenco', 'Galgo', 'Mestizo', 'Pastor Belga', 'Pastor Vasco',\n",
       "       'Malinois', 'Border Collie', 'Setter', 'Pointer', 'Europeo Común',\n",
       "       'Yorkshire Terrier', 'Pastor Alemán', 'Spaniel',\n",
       "       'Golden Retriever', 'Teckel', 'Setter Irlandés', 'Setter Inglés',\n",
       "       'Mastín', 'Ratonero Bodeguero Andaluz', 'Husky Siberiano'],\n",
       "      dtype=object)"
      ]
     },
     "execution_count": 8,
     "metadata": {},
     "output_type": "execute_result"
    }
   ],
   "source": [
    "data_1['Tipo de animal'].unique()"
   ]
  },
  {
   "cell_type": "code",
   "execution_count": 9,
   "id": "bc94e430",
   "metadata": {},
   "outputs": [
    {
     "name": "stderr",
     "output_type": "stream",
     "text": [
      "C:\\Users\\USUARIO\\AppData\\Local\\Temp\\ipykernel_10844\\440511818.py:1: SettingWithCopyWarning: \n",
      "A value is trying to be set on a copy of a slice from a DataFrame.\n",
      "Try using .loc[row_indexer,col_indexer] = value instead\n",
      "\n",
      "See the caveats in the documentation: https://pandas.pydata.org/pandas-docs/stable/user_guide/indexing.html#returning-a-view-versus-a-copy\n",
      "  data_1['Tipo de animal'] = data_1['Tipo de animal'].replace('Europeo Común', 'Gato')\n"
     ]
    }
   ],
   "source": [
    "data_1['Tipo de animal'] = data_1['Tipo de animal'].replace('Europeo Común', 'Gato')"
   ]
  },
  {
   "cell_type": "code",
   "execution_count": 10,
   "id": "c56225d3",
   "metadata": {},
   "outputs": [],
   "source": [
    "data_1.columns = data_1.columns.str.replace('Tipo de animal', 'Raza')"
   ]
  },
  {
   "cell_type": "code",
   "execution_count": 11,
   "id": "7e396256",
   "metadata": {},
   "outputs": [],
   "source": [
    "unique_vals_raza, counts_raza = np.unique(data_1['Raza'], return_counts=True)"
   ]
  },
  {
   "cell_type": "code",
   "execution_count": 12,
   "id": "0d6c79e0",
   "metadata": {},
   "outputs": [
    {
     "data": {
      "text/plain": [
       "array(['Border Collie', 'Galgo', 'Gato', 'Golden Retriever',\n",
       "       'Husky Siberiano', 'Malinois', 'Mastín', 'Mestizo',\n",
       "       'Pastor Alemán', 'Pastor Belga', 'Pastor Vasco', 'Podenco',\n",
       "       'Pointer', 'Ratonero Bodeguero Andaluz', 'Setter', 'Setter Inglés',\n",
       "       'Setter Irlandés', 'Spaniel', 'Teckel', 'Yorkshire Terrier'],\n",
       "      dtype=object)"
      ]
     },
     "execution_count": 12,
     "metadata": {},
     "output_type": "execute_result"
    }
   ],
   "source": [
    "unique_vals_raza"
   ]
  },
  {
   "cell_type": "code",
   "execution_count": 13,
   "id": "c2d6796b",
   "metadata": {},
   "outputs": [
    {
     "data": {
      "text/plain": [
       "array([  3,   2,   4,   1,   1,   2,   1, 113,   3,   2,   2,   7,   8,\n",
       "         1,   6,   1,   1,   2,   1,   2], dtype=int64)"
      ]
     },
     "execution_count": 13,
     "metadata": {},
     "output_type": "execute_result"
    }
   ],
   "source": [
    "counts_raza"
   ]
  },
  {
   "cell_type": "code",
   "execution_count": 14,
   "id": "9aa81036",
   "metadata": {},
   "outputs": [
    {
     "data": {
      "image/png": "[encoded data removed]",
      "text/plain": [
       "<Figure size 640x480 with 1 Axes>"
      ]
     },
     "metadata": {},
     "output_type": "display_data"
    }
   ],
   "source": [
    "# Crear el gráfico de barras\n",
    "plt.bar(unique_vals_raza , counts_raza)\n",
    "\n",
    "# Añadir etiquetas\n",
    "plt.title('Frecuencia de Raza')\n",
    "plt.xlabel('Raza')\n",
    "plt.ylabel('Frecuencia')\n",
    "\n",
    "plt.xticks(rotation=90)\n",
    "\n",
    "# Ajusta el espaciado y tamaño de las etiquetas del eje x\n",
    "plt.tick_params(axis='x', which='major', labelsize=6, pad=10)\n",
    "\n",
    "# Mostrar el gráfico\n",
    "plt.show()"
   ]
  },
  {
   "cell_type": "code",
   "execution_count": 15,
   "id": "c659aae2",
   "metadata": {},
   "outputs": [],
   "source": [
    "# POBLACIÓN\n",
    "poblacion['Raza'] = np.random.choice(unique_vals_raza, size=500000, p=counts_raza/len(data_1))"
   ]
  },
  {
   "cell_type": "markdown",
   "id": "92576e88",
   "metadata": {},
   "source": [
    "###### 2. Especie"
   ]
  },
  {
   "cell_type": "code",
   "execution_count": 17,
   "id": "1ed535e1",
   "metadata": {},
   "outputs": [],
   "source": [
    "def evaluar_raza(raza):\n",
    "    if raza == 'Gato':\n",
    "        return 'Felina'\n",
    "    else:\n",
    "        return 'Canina'"
   ]
  },
  {
   "cell_type": "code",
   "execution_count": 18,
   "id": "cbf7c6b0",
   "metadata": {},
   "outputs": [],
   "source": [
    "poblacion['Especie'] = poblacion['Raza'].apply(evaluar_raza)"
   ]
  },
  {
   "cell_type": "code",
   "execution_count": 20,
   "id": "77b9bc26",
   "metadata": {},
   "outputs": [
    {
     "data": {
      "text/plain": [
       "12180"
      ]
     },
     "execution_count": 20,
     "metadata": {},
     "output_type": "execute_result"
    }
   ],
   "source": [
    "poblacion['Especie'].value_counts()['Felina']"
   ]
  },
  {
   "cell_type": "markdown",
   "id": "f0d0cfc6",
   "metadata": {},
   "source": [
    "###### 3. Sexo"
   ]
  },
  {
   "cell_type": "markdown",
   "id": "2f390150",
   "metadata": {},
   "source": [
    "Este dato no lo da el informe, y tampoco consta como variable en la muestra. Podría analizarse el nombre del animal en la muestra para decidir si este pertenece a un macho a una hembra pero sería bastante arriesgado.\n",
    "\n",
    "Por ello se cogerán las frecuencias de la población de animales en adopción:"
   ]
  },
  {
   "cell_type": "code",
   "execution_count": 25,
   "id": "9f578929",
   "metadata": {},
   "outputs": [],
   "source": [
    "muestra_adopcion= pd.read_excel(\"muestra_adopcion.xlsx\")"
   ]
  },
  {
   "cell_type": "code",
   "execution_count": 23,
   "id": "0a116815",
   "metadata": {},
   "outputs": [],
   "source": [
    "unique_vals_sexo = ['Hembra', 'Macho']\n",
    "counts_sexo=np.array([62, 68])"
   ]
  },
  {
   "cell_type": "code",
   "execution_count": 26,
   "id": "ebd3f85b",
   "metadata": {},
   "outputs": [],
   "source": [
    "poblacion['Sexo'] = np.random.choice(unique_vals_sexo, p=counts_sexo/len(muestra_adopcion), size=len(poblacion))"
   ]
  },
  {
   "cell_type": "markdown",
   "id": "aca25c84",
   "metadata": {},
   "source": [
    "###### 4. Tamaño"
   ]
  },
  {
   "cell_type": "markdown",
   "id": "1a1445cd",
   "metadata": {},
   "source": [
    "Las proporciones serán sacadas del estudio, solamente serán aplicadas a los perros ya que se entiende que los gatos sean todos de tamaño pequeño:"
   ]
  },
  {
   "cell_type": "code",
   "execution_count": 28,
   "id": "58bf8b94",
   "metadata": {},
   "outputs": [],
   "source": [
    "poblacion.loc[poblacion['Especie'] == 'Felina', 'Tamaño'] = 'Pequeño'"
   ]
  },
  {
   "cell_type": "code",
   "execution_count": 33,
   "id": "59c8f330",
   "metadata": {},
   "outputs": [],
   "source": [
    "unique_vals_tamaño_canina= ['Pequeño', 'Mediano','Grande']"
   ]
  },
  {
   "cell_type": "code",
   "execution_count": 34,
   "id": "0daf2302",
   "metadata": {},
   "outputs": [],
   "source": [
    "probabilidad_tamaño_canina= [0.19,0.53,0.28]"
   ]
  },
  {
   "cell_type": "code",
   "execution_count": 38,
   "id": "673135a4",
   "metadata": {},
   "outputs": [],
   "source": [
    "poblacion.loc[poblacion['Especie'] == 'Canina', 'Tamaño'] = np.random.choice(unique_vals_tamaño_canina,p=probabilidad_tamaño_canina, size=len(poblacion.loc[poblacion['Especie'] == 'Canina']))"
   ]
  },
  {
   "cell_type": "code",
   "execution_count": 39,
   "id": "9023427f",
   "metadata": {},
   "outputs": [
    {
     "data": {
      "text/html": [
       "<div>\n",
       "<style scoped>\n",
       "    .dataframe tbody tr th:only-of-type {\n",
       "        vertical-align: middle;\n",
       "    }\n",
       "\n",
       "    .dataframe tbody tr th {\n",
       "        vertical-align: top;\n",
       "    }\n",
       "\n",
       "    .dataframe thead th {\n",
       "        text-align: right;\n",
       "    }\n",
       "</style>\n",
       "<table border=\"1\" class=\"dataframe\">\n",
       "  <thead>\n",
       "    <tr style=\"text-align: right;\">\n",
       "      <th></th>\n",
       "      <th>id_animal</th>\n",
       "      <th>id_centro</th>\n",
       "      <th>Raza</th>\n",
       "      <th>Especie</th>\n",
       "      <th>Sexo</th>\n",
       "      <th>Tamaño</th>\n",
       "      <th>Microchip</th>\n",
       "      <th>Tiempo</th>\n",
       "      <th>Edad</th>\n",
       "    </tr>\n",
       "  </thead>\n",
       "  <tbody>\n",
       "    <tr>\n",
       "      <th>0</th>\n",
       "      <td>NaN</td>\n",
       "      <td>NaN</td>\n",
       "      <td>Mestizo</td>\n",
       "      <td>Canina</td>\n",
       "      <td>Hembra</td>\n",
       "      <td>Mediano</td>\n",
       "      <td>NaN</td>\n",
       "      <td>NaN</td>\n",
       "      <td>NaN</td>\n",
       "    </tr>\n",
       "    <tr>\n",
       "      <th>1</th>\n",
       "      <td>NaN</td>\n",
       "      <td>NaN</td>\n",
       "      <td>Mestizo</td>\n",
       "      <td>Canina</td>\n",
       "      <td>Macho</td>\n",
       "      <td>Pequeño</td>\n",
       "      <td>NaN</td>\n",
       "      <td>NaN</td>\n",
       "      <td>NaN</td>\n",
       "    </tr>\n",
       "    <tr>\n",
       "      <th>2</th>\n",
       "      <td>NaN</td>\n",
       "      <td>NaN</td>\n",
       "      <td>Mestizo</td>\n",
       "      <td>Canina</td>\n",
       "      <td>Hembra</td>\n",
       "      <td>Pequeño</td>\n",
       "      <td>NaN</td>\n",
       "      <td>NaN</td>\n",
       "      <td>NaN</td>\n",
       "    </tr>\n",
       "    <tr>\n",
       "      <th>3</th>\n",
       "      <td>NaN</td>\n",
       "      <td>NaN</td>\n",
       "      <td>Pastor Belga</td>\n",
       "      <td>Canina</td>\n",
       "      <td>Hembra</td>\n",
       "      <td>Mediano</td>\n",
       "      <td>NaN</td>\n",
       "      <td>NaN</td>\n",
       "      <td>NaN</td>\n",
       "    </tr>\n",
       "    <tr>\n",
       "      <th>4</th>\n",
       "      <td>NaN</td>\n",
       "      <td>NaN</td>\n",
       "      <td>Mestizo</td>\n",
       "      <td>Canina</td>\n",
       "      <td>Hembra</td>\n",
       "      <td>Mediano</td>\n",
       "      <td>NaN</td>\n",
       "      <td>NaN</td>\n",
       "      <td>NaN</td>\n",
       "    </tr>\n",
       "    <tr>\n",
       "      <th>...</th>\n",
       "      <td>...</td>\n",
       "      <td>...</td>\n",
       "      <td>...</td>\n",
       "      <td>...</td>\n",
       "      <td>...</td>\n",
       "      <td>...</td>\n",
       "      <td>...</td>\n",
       "      <td>...</td>\n",
       "      <td>...</td>\n",
       "    </tr>\n",
       "    <tr>\n",
       "      <th>499995</th>\n",
       "      <td>NaN</td>\n",
       "      <td>NaN</td>\n",
       "      <td>Mestizo</td>\n",
       "      <td>Canina</td>\n",
       "      <td>Macho</td>\n",
       "      <td>Mediano</td>\n",
       "      <td>NaN</td>\n",
       "      <td>NaN</td>\n",
       "      <td>NaN</td>\n",
       "    </tr>\n",
       "    <tr>\n",
       "      <th>499996</th>\n",
       "      <td>NaN</td>\n",
       "      <td>NaN</td>\n",
       "      <td>Mestizo</td>\n",
       "      <td>Canina</td>\n",
       "      <td>Hembra</td>\n",
       "      <td>Mediano</td>\n",
       "      <td>NaN</td>\n",
       "      <td>NaN</td>\n",
       "      <td>NaN</td>\n",
       "    </tr>\n",
       "    <tr>\n",
       "      <th>499997</th>\n",
       "      <td>NaN</td>\n",
       "      <td>NaN</td>\n",
       "      <td>Mestizo</td>\n",
       "      <td>Canina</td>\n",
       "      <td>Hembra</td>\n",
       "      <td>Mediano</td>\n",
       "      <td>NaN</td>\n",
       "      <td>NaN</td>\n",
       "      <td>NaN</td>\n",
       "    </tr>\n",
       "    <tr>\n",
       "      <th>499998</th>\n",
       "      <td>NaN</td>\n",
       "      <td>NaN</td>\n",
       "      <td>Mestizo</td>\n",
       "      <td>Canina</td>\n",
       "      <td>Macho</td>\n",
       "      <td>Mediano</td>\n",
       "      <td>NaN</td>\n",
       "      <td>NaN</td>\n",
       "      <td>NaN</td>\n",
       "    </tr>\n",
       "    <tr>\n",
       "      <th>499999</th>\n",
       "      <td>NaN</td>\n",
       "      <td>NaN</td>\n",
       "      <td>Pastor Vasco</td>\n",
       "      <td>Canina</td>\n",
       "      <td>Macho</td>\n",
       "      <td>Pequeño</td>\n",
       "      <td>NaN</td>\n",
       "      <td>NaN</td>\n",
       "      <td>NaN</td>\n",
       "    </tr>\n",
       "  </tbody>\n",
       "</table>\n",
       "<p>500000 rows × 9 columns</p>\n",
       "</div>"
      ],
      "text/plain": [
       "       id_animal id_centro          Raza Especie    Sexo   Tamaño Microchip  \\\n",
       "0            NaN       NaN       Mestizo  Canina  Hembra  Mediano       NaN   \n",
       "1            NaN       NaN       Mestizo  Canina   Macho  Pequeño       NaN   \n",
       "2            NaN       NaN       Mestizo  Canina  Hembra  Pequeño       NaN   \n",
       "3            NaN       NaN  Pastor Belga  Canina  Hembra  Mediano       NaN   \n",
       "4            NaN       NaN       Mestizo  Canina  Hembra  Mediano       NaN   \n",
       "...          ...       ...           ...     ...     ...      ...       ...   \n",
       "499995       NaN       NaN       Mestizo  Canina   Macho  Mediano       NaN   \n",
       "499996       NaN       NaN       Mestizo  Canina  Hembra  Mediano       NaN   \n",
       "499997       NaN       NaN       Mestizo  Canina  Hembra  Mediano       NaN   \n",
       "499998       NaN       NaN       Mestizo  Canina   Macho  Mediano       NaN   \n",
       "499999       NaN       NaN  Pastor Vasco  Canina   Macho  Pequeño       NaN   \n",
       "\n",
       "       Tiempo Edad  \n",
       "0         NaN  NaN  \n",
       "1         NaN  NaN  \n",
       "2         NaN  NaN  \n",
       "3         NaN  NaN  \n",
       "4         NaN  NaN  \n",
       "...       ...  ...  \n",
       "499995    NaN  NaN  \n",
       "499996    NaN  NaN  \n",
       "499997    NaN  NaN  \n",
       "499998    NaN  NaN  \n",
       "499999    NaN  NaN  \n",
       "\n",
       "[500000 rows x 9 columns]"
      ]
     },
     "execution_count": 39,
     "metadata": {},
     "output_type": "execute_result"
    }
   ],
   "source": [
    "poblacion"
   ]
  },
  {
   "cell_type": "code",
   "execution_count": 40,
   "id": "3b2645f5",
   "metadata": {},
   "outputs": [],
   "source": [
    "unique_vals_tamaño, counts_tamaño = np.unique(poblacion['Tamaño'], return_counts=True)"
   ]
  },
  {
   "cell_type": "code",
   "execution_count": 41,
   "id": "adbc45ed",
   "metadata": {},
   "outputs": [
    {
     "data": {
      "image/png": "[encoded data removed]",
      "text/plain": [
       "<Figure size 640x480 with 1 Axes>"
      ]
     },
     "metadata": {},
     "output_type": "display_data"
    }
   ],
   "source": [
    "# Crear el gráfico de barras\n",
    "plt.bar(unique_vals_tamaño, counts_tamaño)\n",
    "\n",
    "# Añadir etiquetas\n",
    "plt.title('Frecuencia de Tamaño')\n",
    "plt.xlabel('Tamaño')\n",
    "plt.ylabel('Frecuencia')\n",
    "\n",
    "plt.xticks(rotation=90)\n",
    "\n",
    "# Ajusta el espaciado y tamaño de las etiquetas del eje x\n",
    "plt.tick_params(axis='x', which='major', labelsize=9, pad=10)\n",
    "\n",
    "# Mostrar el gráfico\n",
    "plt.show()"
   ]
  },
  {
   "cell_type": "markdown",
   "id": "d32c2395",
   "metadata": {},
   "source": [
    "###### 5. Microchip"
   ]
  },
  {
   "cell_type": "markdown",
   "id": "29fb7af0",
   "metadata": {},
   "source": [
    "Las proporciones serán sacadas del estudio, el cual dice que el 89% de los perros lleva microchip y el 51% de los gatos también:"
   ]
  },
  {
   "cell_type": "code",
   "execution_count": 42,
   "id": "b163dfc6",
   "metadata": {},
   "outputs": [],
   "source": [
    "unique_vals_microchip_canina= [True, False]\n",
    "probabilidad_microchip_canina= [0.89,(1-0.89)]"
   ]
  },
  {
   "cell_type": "code",
   "execution_count": 43,
   "id": "c51cd16f",
   "metadata": {},
   "outputs": [],
   "source": [
    "poblacion.loc[poblacion['Especie'] == 'Canina', 'Microchip'] = np.random.choice(unique_vals_microchip_canina,p=probabilidad_microchip_canina, size=len(poblacion.loc[poblacion['Especie'] == 'Canina']))"
   ]
  },
  {
   "cell_type": "code",
   "execution_count": 44,
   "id": "c3156be6",
   "metadata": {},
   "outputs": [],
   "source": [
    "unique_vals_microchip_felina= [True, False]\n",
    "probabilidad_microchip_felina= [0.51,(1-0.51)]"
   ]
  },
  {
   "cell_type": "code",
   "execution_count": 45,
   "id": "5b0002d6",
   "metadata": {},
   "outputs": [],
   "source": [
    "poblacion.loc[poblacion['Especie'] == 'Felina', 'Microchip'] = np.random.choice(unique_vals_microchip_felina,p=probabilidad_microchip_felina, size=len(poblacion.loc[poblacion['Especie'] == 'Felina']))"
   ]
  },
  {
   "cell_type": "markdown",
   "id": "b2322762",
   "metadata": {},
   "source": [
    "###### 6. Tiempo (en protectora)"
   ]
  },
  {
   "cell_type": "code",
   "execution_count": 104,
   "id": "96b26adf",
   "metadata": {},
   "outputs": [],
   "source": [
    "def calcular_tiempo_permanencia(df, fecha_entrada, fecha_salida, nueva_columna):\n",
    "    df[fecha_entrada] = pd.to_datetime(df[fecha_entrada])\n",
    "    df[fecha_salida] = pd.to_datetime(df[fecha_salida])\n",
    "    df[nueva_columna] = ((df[fecha_salida] - df[fecha_entrada]).dt.days / 30).astype(int)\n",
    "    df[nueva_columna] = df[nueva_columna].apply(lambda x: f\"{int(x/12)} año{'s' if int(x/12) > 1 else ''} y {int(x%12)} mes{'es' if int(x%12) > 1 else ''}\")\n",
    "    \n",
    "    return df"
   ]
  },
  {
   "cell_type": "code",
   "execution_count": 105,
   "id": "4e615120",
   "metadata": {},
   "outputs": [
    {
     "name": "stderr",
     "output_type": "stream",
     "text": [
      "C:\\Users\\USUARIO\\AppData\\Local\\Temp\\ipykernel_10844\\3925216888.py:2: SettingWithCopyWarning: \n",
      "A value is trying to be set on a copy of a slice from a DataFrame.\n",
      "Try using .loc[row_indexer,col_indexer] = value instead\n",
      "\n",
      "See the caveats in the documentation: https://pandas.pydata.org/pandas-docs/stable/user_guide/indexing.html#returning-a-view-versus-a-copy\n",
      "  df[fecha_entrada] = pd.to_datetime(df[fecha_entrada])\n",
      "C:\\Users\\USUARIO\\AppData\\Local\\Temp\\ipykernel_10844\\3925216888.py:3: SettingWithCopyWarning: \n",
      "A value is trying to be set on a copy of a slice from a DataFrame.\n",
      "Try using .loc[row_indexer,col_indexer] = value instead\n",
      "\n",
      "See the caveats in the documentation: https://pandas.pydata.org/pandas-docs/stable/user_guide/indexing.html#returning-a-view-versus-a-copy\n",
      "  df[fecha_salida] = pd.to_datetime(df[fecha_salida])\n",
      "C:\\Users\\USUARIO\\AppData\\Local\\Temp\\ipykernel_10844\\3925216888.py:4: SettingWithCopyWarning: \n",
      "A value is trying to be set on a copy of a slice from a DataFrame.\n",
      "Try using .loc[row_indexer,col_indexer] = value instead\n",
      "\n",
      "See the caveats in the documentation: https://pandas.pydata.org/pandas-docs/stable/user_guide/indexing.html#returning-a-view-versus-a-copy\n",
      "  df[nueva_columna] = ((df[fecha_salida] - df[fecha_entrada]).dt.days / 30).astype(int)\n",
      "C:\\Users\\USUARIO\\AppData\\Local\\Temp\\ipykernel_10844\\3925216888.py:5: SettingWithCopyWarning: \n",
      "A value is trying to be set on a copy of a slice from a DataFrame.\n",
      "Try using .loc[row_indexer,col_indexer] = value instead\n",
      "\n",
      "See the caveats in the documentation: https://pandas.pydata.org/pandas-docs/stable/user_guide/indexing.html#returning-a-view-versus-a-copy\n",
      "  df[nueva_columna] = df[nueva_columna].apply(lambda x: f\"{int(x/12)} año{'s' if int(x/12) > 1 else ''} y {int(x%12)} mes{'es' if int(x%12) > 1 else ''}\")\n"
     ]
    }
   ],
   "source": [
    "data_2 = calcular_tiempo_permanencia(data_1, 'Fecha de Entrada', 'Fecha de ultimo estado', 'Tiempo')"
   ]
  },
  {
   "cell_type": "code",
   "execution_count": 106,
   "id": "730e11f5",
   "metadata": {},
   "outputs": [
    {
     "data": {
      "text/html": [
       "<div>\n",
       "<style scoped>\n",
       "    .dataframe tbody tr th:only-of-type {\n",
       "        vertical-align: middle;\n",
       "    }\n",
       "\n",
       "    .dataframe tbody tr th {\n",
       "        vertical-align: top;\n",
       "    }\n",
       "\n",
       "    .dataframe thead th {\n",
       "        text-align: right;\n",
       "    }\n",
       "</style>\n",
       "<table border=\"1\" class=\"dataframe\">\n",
       "  <thead>\n",
       "    <tr style=\"text-align: right;\">\n",
       "      <th></th>\n",
       "      <th>Nombre</th>\n",
       "      <th>Tipo de animal</th>\n",
       "      <th>Fecha de Entrada</th>\n",
       "      <th>Fecha de nacimiento</th>\n",
       "      <th>Nombre de ultimo estado</th>\n",
       "      <th>Fecha de ultimo estado</th>\n",
       "      <th>Tiempo</th>\n",
       "    </tr>\n",
       "  </thead>\n",
       "  <tbody>\n",
       "    <tr>\n",
       "      <th>0</th>\n",
       "      <td>Bambi</td>\n",
       "      <td>Podenco</td>\n",
       "      <td>2022-06-01</td>\n",
       "      <td>2020-01-01</td>\n",
       "      <td>Adoptado</td>\n",
       "      <td>2023-02-20</td>\n",
       "      <td>0 año y 8 meses</td>\n",
       "    </tr>\n",
       "    <tr>\n",
       "      <th>2</th>\n",
       "      <td>Tiger</td>\n",
       "      <td>Galgo</td>\n",
       "      <td>2022-06-06</td>\n",
       "      <td>2020-06-06</td>\n",
       "      <td>Adoptado</td>\n",
       "      <td>2022-12-17</td>\n",
       "      <td>0 año y 6 meses</td>\n",
       "    </tr>\n",
       "    <tr>\n",
       "      <th>5</th>\n",
       "      <td>Trixie</td>\n",
       "      <td>Mestizo</td>\n",
       "      <td>2022-06-20</td>\n",
       "      <td>2021-01-01</td>\n",
       "      <td>Adoptado</td>\n",
       "      <td>2022-12-13</td>\n",
       "      <td>0 año y 5 meses</td>\n",
       "    </tr>\n",
       "    <tr>\n",
       "      <th>6</th>\n",
       "      <td>Zelenski</td>\n",
       "      <td>Mestizo</td>\n",
       "      <td>2022-06-20</td>\n",
       "      <td>2020-07-22</td>\n",
       "      <td>Adoptado</td>\n",
       "      <td>2022-11-08</td>\n",
       "      <td>0 año y 4 meses</td>\n",
       "    </tr>\n",
       "    <tr>\n",
       "      <th>7</th>\n",
       "      <td>Cheryl</td>\n",
       "      <td>Mestizo</td>\n",
       "      <td>2022-06-20</td>\n",
       "      <td>2020-01-01</td>\n",
       "      <td>Adoptado</td>\n",
       "      <td>2023-02-12</td>\n",
       "      <td>0 año y 7 meses</td>\n",
       "    </tr>\n",
       "    <tr>\n",
       "      <th>...</th>\n",
       "      <td>...</td>\n",
       "      <td>...</td>\n",
       "      <td>...</td>\n",
       "      <td>...</td>\n",
       "      <td>...</td>\n",
       "      <td>...</td>\n",
       "      <td>...</td>\n",
       "    </tr>\n",
       "    <tr>\n",
       "      <th>384</th>\n",
       "      <td>Jack</td>\n",
       "      <td>Ratonero Bodeguero Andaluz</td>\n",
       "      <td>2023-02-19</td>\n",
       "      <td>2022-07-20</td>\n",
       "      <td>Adoptado</td>\n",
       "      <td>2023-03-07</td>\n",
       "      <td>0 año y 0 mes</td>\n",
       "    </tr>\n",
       "    <tr>\n",
       "      <th>385</th>\n",
       "      <td>Kupel</td>\n",
       "      <td>Mestizo</td>\n",
       "      <td>2023-02-19</td>\n",
       "      <td>2022-02-19</td>\n",
       "      <td>Adoptado</td>\n",
       "      <td>2023-03-15</td>\n",
       "      <td>0 año y 0 mes</td>\n",
       "    </tr>\n",
       "    <tr>\n",
       "      <th>389</th>\n",
       "      <td>Hilka</td>\n",
       "      <td>Mestizo</td>\n",
       "      <td>2023-02-23</td>\n",
       "      <td>2022-12-10</td>\n",
       "      <td>Adoptado</td>\n",
       "      <td>2023-03-08</td>\n",
       "      <td>0 año y 0 mes</td>\n",
       "    </tr>\n",
       "    <tr>\n",
       "      <th>390</th>\n",
       "      <td>Freyja</td>\n",
       "      <td>Husky Siberiano</td>\n",
       "      <td>2023-02-24</td>\n",
       "      <td>2022-10-05</td>\n",
       "      <td>Adoptado</td>\n",
       "      <td>2023-02-24</td>\n",
       "      <td>0 año y 0 mes</td>\n",
       "    </tr>\n",
       "    <tr>\n",
       "      <th>392</th>\n",
       "      <td>Wilson</td>\n",
       "      <td>Mestizo</td>\n",
       "      <td>2023-02-27</td>\n",
       "      <td>2022-09-05</td>\n",
       "      <td>Adoptado</td>\n",
       "      <td>2023-03-20</td>\n",
       "      <td>0 año y 0 mes</td>\n",
       "    </tr>\n",
       "  </tbody>\n",
       "</table>\n",
       "<p>163 rows × 7 columns</p>\n",
       "</div>"
      ],
      "text/plain": [
       "       Nombre              Tipo de animal Fecha de Entrada  \\\n",
       "0       Bambi                     Podenco       2022-06-01   \n",
       "2       Tiger                       Galgo       2022-06-06   \n",
       "5      Trixie                     Mestizo       2022-06-20   \n",
       "6    Zelenski                     Mestizo       2022-06-20   \n",
       "7      Cheryl                     Mestizo       2022-06-20   \n",
       "..        ...                         ...              ...   \n",
       "384      Jack  Ratonero Bodeguero Andaluz       2023-02-19   \n",
       "385     Kupel                     Mestizo       2023-02-19   \n",
       "389     Hilka                     Mestizo       2023-02-23   \n",
       "390    Freyja             Husky Siberiano       2023-02-24   \n",
       "392    Wilson                     Mestizo       2023-02-27   \n",
       "\n",
       "    Fecha de nacimiento Nombre de ultimo estado Fecha de ultimo estado  \\\n",
       "0            2020-01-01                Adoptado             2023-02-20   \n",
       "2            2020-06-06                Adoptado             2022-12-17   \n",
       "5            2021-01-01                Adoptado             2022-12-13   \n",
       "6            2020-07-22                Adoptado             2022-11-08   \n",
       "7            2020-01-01                Adoptado             2023-02-12   \n",
       "..                  ...                     ...                    ...   \n",
       "384          2022-07-20                Adoptado             2023-03-07   \n",
       "385          2022-02-19                Adoptado             2023-03-15   \n",
       "389          2022-12-10                Adoptado             2023-03-08   \n",
       "390          2022-10-05                Adoptado             2023-02-24   \n",
       "392          2022-09-05                Adoptado             2023-03-20   \n",
       "\n",
       "              Tiempo  \n",
       "0    0 año y 8 meses  \n",
       "2    0 año y 6 meses  \n",
       "5    0 año y 5 meses  \n",
       "6    0 año y 4 meses  \n",
       "7    0 año y 7 meses  \n",
       "..               ...  \n",
       "384    0 año y 0 mes  \n",
       "385    0 año y 0 mes  \n",
       "389    0 año y 0 mes  \n",
       "390    0 año y 0 mes  \n",
       "392    0 año y 0 mes  \n",
       "\n",
       "[163 rows x 7 columns]"
      ]
     },
     "execution_count": 106,
     "metadata": {},
     "output_type": "execute_result"
    }
   ],
   "source": [
    "data_2"
   ]
  },
  {
   "cell_type": "code",
   "execution_count": 107,
   "id": "f3389bb5",
   "metadata": {},
   "outputs": [],
   "source": [
    "unique_vals_tiempo, counts_tiempo = np.unique(data_2['Tiempo'], return_counts=True)"
   ]
  },
  {
   "cell_type": "code",
   "execution_count": 108,
   "id": "b20a5401",
   "metadata": {},
   "outputs": [
    {
     "data": {
      "text/plain": [
       "['0 año y 0 mes',\n",
       " '0 año y 1 mes',\n",
       " '0 año y 2 meses',\n",
       " '0 año y 3 meses',\n",
       " '0 año y 4 meses',\n",
       " '0 año y 5 meses',\n",
       " '0 año y 6 meses',\n",
       " '0 año y 7 meses',\n",
       " '0 año y 8 meses']"
      ]
     },
     "execution_count": 108,
     "metadata": {},
     "output_type": "execute_result"
    }
   ],
   "source": [
    "unique_vals_tiempo= unique_vals_tiempo.tolist()\n",
    "unique_vals_tiempo"
   ]
  },
  {
   "cell_type": "code",
   "execution_count": 109,
   "id": "cccdfb53",
   "metadata": {},
   "outputs": [
    {
     "data": {
      "text/plain": [
       "[75, 37, 23, 11, 12, 1, 1, 1, 2]"
      ]
     },
     "execution_count": 109,
     "metadata": {},
     "output_type": "execute_result"
    }
   ],
   "source": [
    "counts_tiempo= counts_tiempo.tolist()\n",
    "counts_tiempo"
   ]
  },
  {
   "cell_type": "markdown",
   "id": "2b51c78a",
   "metadata": {},
   "source": [
    "Según los datos del estudio Affinity, el tiempo medio de los animales en un centro de protección animal efectivamente se encuentra entre los 3 y los 9 meses, pero para los datos de la muestra es necesario introducir outliers porque hay casos en los que un animal pueda llegar a permanecer hasta años en un centro:"
   ]
  },
  {
   "cell_type": "code",
   "execution_count": 110,
   "id": "e3466d40",
   "metadata": {},
   "outputs": [],
   "source": [
    "outliers = np.random.choice(np.arange(9, 37), size=50, replace=True)\n",
    "outliers = [f\"{int(x/12)} año{'s' if int(x/12) > 1 else ''} y {int(x%12)} mes{'es' if int(x%12) > 1 else ''}\" for x in outliers]"
   ]
  },
  {
   "cell_type": "code",
   "execution_count": 111,
   "id": "0d862659",
   "metadata": {},
   "outputs": [],
   "source": [
    "# Combinar valores existentes con outliers\n",
    "unique_vals_tiempo.extend(outliers)\n",
    "counts_tiempo.extend([1] * len(outliers)) # Asumiendo 5 outliers en este ejemplo"
   ]
  },
  {
   "cell_type": "code",
   "execution_count": 112,
   "id": "a9cd9f50",
   "metadata": {},
   "outputs": [
    {
     "data": {
      "text/plain": [
       "['0 año y 0 mes',\n",
       " '0 año y 1 mes',\n",
       " '0 año y 2 meses',\n",
       " '0 año y 3 meses',\n",
       " '0 año y 4 meses',\n",
       " '0 año y 5 meses',\n",
       " '0 año y 6 meses',\n",
       " '0 año y 7 meses',\n",
       " '0 año y 8 meses',\n",
       " '0 año y 10 meses',\n",
       " '1 año y 9 meses',\n",
       " '1 año y 3 meses',\n",
       " '0 año y 11 meses',\n",
       " '2 años y 7 meses',\n",
       " '1 año y 11 meses',\n",
       " '2 años y 7 meses',\n",
       " '2 años y 6 meses',\n",
       " '0 año y 11 meses',\n",
       " '1 año y 0 mes',\n",
       " '1 año y 0 mes',\n",
       " '3 años y 0 mes',\n",
       " '2 años y 4 meses',\n",
       " '1 año y 11 meses',\n",
       " '0 año y 10 meses',\n",
       " '0 año y 9 meses',\n",
       " '1 año y 6 meses',\n",
       " '1 año y 10 meses',\n",
       " '1 año y 10 meses',\n",
       " '0 año y 10 meses',\n",
       " '2 años y 10 meses',\n",
       " '2 años y 11 meses',\n",
       " '1 año y 9 meses',\n",
       " '2 años y 3 meses',\n",
       " '1 año y 11 meses',\n",
       " '1 año y 4 meses',\n",
       " '2 años y 4 meses',\n",
       " '1 año y 6 meses',\n",
       " '1 año y 4 meses',\n",
       " '3 años y 0 mes',\n",
       " '3 años y 0 mes',\n",
       " '0 año y 10 meses',\n",
       " '0 año y 11 meses',\n",
       " '2 años y 9 meses',\n",
       " '1 año y 10 meses',\n",
       " '1 año y 11 meses',\n",
       " '1 año y 3 meses',\n",
       " '2 años y 5 meses',\n",
       " '0 año y 11 meses',\n",
       " '1 año y 6 meses',\n",
       " '1 año y 0 mes',\n",
       " '2 años y 3 meses',\n",
       " '1 año y 1 mes',\n",
       " '1 año y 7 meses',\n",
       " '1 año y 10 meses',\n",
       " '2 años y 10 meses',\n",
       " '1 año y 2 meses',\n",
       " '0 año y 9 meses',\n",
       " '2 años y 6 meses',\n",
       " '0 año y 11 meses']"
      ]
     },
     "execution_count": 112,
     "metadata": {},
     "output_type": "execute_result"
    }
   ],
   "source": [
    "unique_vals_tiempo"
   ]
  },
  {
   "cell_type": "code",
   "execution_count": 113,
   "id": "a868672b",
   "metadata": {},
   "outputs": [
    {
     "data": {
      "text/plain": [
       "[75,\n",
       " 37,\n",
       " 23,\n",
       " 11,\n",
       " 12,\n",
       " 1,\n",
       " 1,\n",
       " 1,\n",
       " 2,\n",
       " 1,\n",
       " 1,\n",
       " 1,\n",
       " 1,\n",
       " 1,\n",
       " 1,\n",
       " 1,\n",
       " 1,\n",
       " 1,\n",
       " 1,\n",
       " 1,\n",
       " 1,\n",
       " 1,\n",
       " 1,\n",
       " 1,\n",
       " 1,\n",
       " 1,\n",
       " 1,\n",
       " 1,\n",
       " 1,\n",
       " 1,\n",
       " 1,\n",
       " 1,\n",
       " 1,\n",
       " 1,\n",
       " 1,\n",
       " 1,\n",
       " 1,\n",
       " 1,\n",
       " 1,\n",
       " 1,\n",
       " 1,\n",
       " 1,\n",
       " 1,\n",
       " 1,\n",
       " 1,\n",
       " 1,\n",
       " 1,\n",
       " 1,\n",
       " 1,\n",
       " 1,\n",
       " 1,\n",
       " 1,\n",
       " 1,\n",
       " 1,\n",
       " 1,\n",
       " 1,\n",
       " 1,\n",
       " 1,\n",
       " 1]"
      ]
     },
     "execution_count": 113,
     "metadata": {},
     "output_type": "execute_result"
    }
   ],
   "source": [
    "counts_tiempo"
   ]
  },
  {
   "cell_type": "code",
   "execution_count": 118,
   "id": "ba585618",
   "metadata": {},
   "outputs": [],
   "source": [
    "# counts_tiempo pasa de tener 9 valores a 59\n",
    "poblacion['Tiempo'] = np.random.choice(unique_vals_tiempo, p=np.array(counts_tiempo)/sum(counts_tiempo), size=len(poblacion))"
   ]
  },
  {
   "cell_type": "code",
   "execution_count": 119,
   "id": "59ae83a4",
   "metadata": {},
   "outputs": [
    {
     "data": {
      "text/html": [
       "<div>\n",
       "<style scoped>\n",
       "    .dataframe tbody tr th:only-of-type {\n",
       "        vertical-align: middle;\n",
       "    }\n",
       "\n",
       "    .dataframe tbody tr th {\n",
       "        vertical-align: top;\n",
       "    }\n",
       "\n",
       "    .dataframe thead th {\n",
       "        text-align: right;\n",
       "    }\n",
       "</style>\n",
       "<table border=\"1\" class=\"dataframe\">\n",
       "  <thead>\n",
       "    <tr style=\"text-align: right;\">\n",
       "      <th></th>\n",
       "      <th>id_animal</th>\n",
       "      <th>id_centro</th>\n",
       "      <th>Raza</th>\n",
       "      <th>Especie</th>\n",
       "      <th>Sexo</th>\n",
       "      <th>Tamaño</th>\n",
       "      <th>Microchip</th>\n",
       "      <th>Tiempo</th>\n",
       "      <th>Edad</th>\n",
       "    </tr>\n",
       "  </thead>\n",
       "  <tbody>\n",
       "    <tr>\n",
       "      <th>0</th>\n",
       "      <td>NaN</td>\n",
       "      <td>NaN</td>\n",
       "      <td>Mestizo</td>\n",
       "      <td>Canina</td>\n",
       "      <td>Hembra</td>\n",
       "      <td>Mediano</td>\n",
       "      <td>False</td>\n",
       "      <td>0 año y 3 meses</td>\n",
       "      <td>NaN</td>\n",
       "    </tr>\n",
       "    <tr>\n",
       "      <th>1</th>\n",
       "      <td>NaN</td>\n",
       "      <td>NaN</td>\n",
       "      <td>Mestizo</td>\n",
       "      <td>Canina</td>\n",
       "      <td>Macho</td>\n",
       "      <td>Pequeño</td>\n",
       "      <td>True</td>\n",
       "      <td>0 año y 2 meses</td>\n",
       "      <td>NaN</td>\n",
       "    </tr>\n",
       "    <tr>\n",
       "      <th>2</th>\n",
       "      <td>NaN</td>\n",
       "      <td>NaN</td>\n",
       "      <td>Mestizo</td>\n",
       "      <td>Canina</td>\n",
       "      <td>Hembra</td>\n",
       "      <td>Pequeño</td>\n",
       "      <td>True</td>\n",
       "      <td>0 año y 0 mes</td>\n",
       "      <td>NaN</td>\n",
       "    </tr>\n",
       "    <tr>\n",
       "      <th>3</th>\n",
       "      <td>NaN</td>\n",
       "      <td>NaN</td>\n",
       "      <td>Pastor Belga</td>\n",
       "      <td>Canina</td>\n",
       "      <td>Hembra</td>\n",
       "      <td>Mediano</td>\n",
       "      <td>False</td>\n",
       "      <td>0 año y 4 meses</td>\n",
       "      <td>NaN</td>\n",
       "    </tr>\n",
       "    <tr>\n",
       "      <th>4</th>\n",
       "      <td>NaN</td>\n",
       "      <td>NaN</td>\n",
       "      <td>Mestizo</td>\n",
       "      <td>Canina</td>\n",
       "      <td>Hembra</td>\n",
       "      <td>Mediano</td>\n",
       "      <td>True</td>\n",
       "      <td>0 año y 0 mes</td>\n",
       "      <td>NaN</td>\n",
       "    </tr>\n",
       "    <tr>\n",
       "      <th>...</th>\n",
       "      <td>...</td>\n",
       "      <td>...</td>\n",
       "      <td>...</td>\n",
       "      <td>...</td>\n",
       "      <td>...</td>\n",
       "      <td>...</td>\n",
       "      <td>...</td>\n",
       "      <td>...</td>\n",
       "      <td>...</td>\n",
       "    </tr>\n",
       "    <tr>\n",
       "      <th>499995</th>\n",
       "      <td>NaN</td>\n",
       "      <td>NaN</td>\n",
       "      <td>Mestizo</td>\n",
       "      <td>Canina</td>\n",
       "      <td>Macho</td>\n",
       "      <td>Mediano</td>\n",
       "      <td>True</td>\n",
       "      <td>0 año y 0 mes</td>\n",
       "      <td>NaN</td>\n",
       "    </tr>\n",
       "    <tr>\n",
       "      <th>499996</th>\n",
       "      <td>NaN</td>\n",
       "      <td>NaN</td>\n",
       "      <td>Mestizo</td>\n",
       "      <td>Canina</td>\n",
       "      <td>Hembra</td>\n",
       "      <td>Mediano</td>\n",
       "      <td>True</td>\n",
       "      <td>1 año y 3 meses</td>\n",
       "      <td>NaN</td>\n",
       "    </tr>\n",
       "    <tr>\n",
       "      <th>499997</th>\n",
       "      <td>NaN</td>\n",
       "      <td>NaN</td>\n",
       "      <td>Mestizo</td>\n",
       "      <td>Canina</td>\n",
       "      <td>Hembra</td>\n",
       "      <td>Mediano</td>\n",
       "      <td>True</td>\n",
       "      <td>0 año y 0 mes</td>\n",
       "      <td>NaN</td>\n",
       "    </tr>\n",
       "    <tr>\n",
       "      <th>499998</th>\n",
       "      <td>NaN</td>\n",
       "      <td>NaN</td>\n",
       "      <td>Mestizo</td>\n",
       "      <td>Canina</td>\n",
       "      <td>Macho</td>\n",
       "      <td>Mediano</td>\n",
       "      <td>True</td>\n",
       "      <td>1 año y 6 meses</td>\n",
       "      <td>NaN</td>\n",
       "    </tr>\n",
       "    <tr>\n",
       "      <th>499999</th>\n",
       "      <td>NaN</td>\n",
       "      <td>NaN</td>\n",
       "      <td>Pastor Vasco</td>\n",
       "      <td>Canina</td>\n",
       "      <td>Macho</td>\n",
       "      <td>Pequeño</td>\n",
       "      <td>True</td>\n",
       "      <td>0 año y 1 mes</td>\n",
       "      <td>NaN</td>\n",
       "    </tr>\n",
       "  </tbody>\n",
       "</table>\n",
       "<p>500000 rows × 9 columns</p>\n",
       "</div>"
      ],
      "text/plain": [
       "       id_animal id_centro          Raza Especie    Sexo   Tamaño Microchip  \\\n",
       "0            NaN       NaN       Mestizo  Canina  Hembra  Mediano     False   \n",
       "1            NaN       NaN       Mestizo  Canina   Macho  Pequeño      True   \n",
       "2            NaN       NaN       Mestizo  Canina  Hembra  Pequeño      True   \n",
       "3            NaN       NaN  Pastor Belga  Canina  Hembra  Mediano     False   \n",
       "4            NaN       NaN       Mestizo  Canina  Hembra  Mediano      True   \n",
       "...          ...       ...           ...     ...     ...      ...       ...   \n",
       "499995       NaN       NaN       Mestizo  Canina   Macho  Mediano      True   \n",
       "499996       NaN       NaN       Mestizo  Canina  Hembra  Mediano      True   \n",
       "499997       NaN       NaN       Mestizo  Canina  Hembra  Mediano      True   \n",
       "499998       NaN       NaN       Mestizo  Canina   Macho  Mediano      True   \n",
       "499999       NaN       NaN  Pastor Vasco  Canina   Macho  Pequeño      True   \n",
       "\n",
       "                 Tiempo Edad  \n",
       "0       0 año y 3 meses  NaN  \n",
       "1       0 año y 2 meses  NaN  \n",
       "2         0 año y 0 mes  NaN  \n",
       "3       0 año y 4 meses  NaN  \n",
       "4         0 año y 0 mes  NaN  \n",
       "...                 ...  ...  \n",
       "499995    0 año y 0 mes  NaN  \n",
       "499996  1 año y 3 meses  NaN  \n",
       "499997    0 año y 0 mes  NaN  \n",
       "499998  1 año y 6 meses  NaN  \n",
       "499999    0 año y 1 mes  NaN  \n",
       "\n",
       "[500000 rows x 9 columns]"
      ]
     },
     "execution_count": 119,
     "metadata": {},
     "output_type": "execute_result"
    }
   ],
   "source": [
    "poblacion"
   ]
  },
  {
   "cell_type": "markdown",
   "id": "08593085",
   "metadata": {},
   "source": [
    "###### 7. Edad"
   ]
  },
  {
   "cell_type": "markdown",
   "id": "8cea4459",
   "metadata": {},
   "source": [
    "Lo que voy a hacer es generar edades aleatorias con el formato \"x años y x meses\" para los animales, siempre teniendo en cuenta de que las edades tienen que ser mayores al tiempo que llevan en adopción:"
   ]
  },
  {
   "cell_type": "code",
   "execution_count": 120,
   "id": "79557d6f",
   "metadata": {},
   "outputs": [],
   "source": [
    "# Convertir la columna \"Tiempo\" en meses\n",
    "poblacion['Tiempo_meses'] = poblacion['Tiempo'].apply(lambda x: int(x.split()[0])*12 + int(x.split()[3]))"
   ]
  },
  {
   "cell_type": "code",
   "execution_count": 121,
   "id": "2c980f60",
   "metadata": {},
   "outputs": [],
   "source": [
    "# Función para generar una edad aleatoria (en meses) mayor que el tiempo de adopción\n",
    "def generar_edad(tiempo_meses):\n",
    "    edad_meses = np.random.randint(0, 169)  # Edad aleatoria entre 0 y 168 meses (14 años)\n",
    "    while edad_meses <= tiempo_meses:\n",
    "        edad_meses = np.random.randint(0, 169)\n",
    "    return edad_meses"
   ]
  },
  {
   "cell_type": "code",
   "execution_count": 123,
   "id": "bbb8b8c4",
   "metadata": {},
   "outputs": [],
   "source": [
    "# Aplicar la función al df para generar la edad aleatoria\n",
    "poblacion['Edad_meses'] = poblacion['Tiempo_meses'].apply(generar_edad)"
   ]
  },
  {
   "cell_type": "code",
   "execution_count": 124,
   "id": "45a41025",
   "metadata": {},
   "outputs": [],
   "source": [
    "# Convertir la columna \"Edad_meses\" en el formato que quiero que tenga (x años y x meses)\n",
    "poblacion['Edad'] = poblacion['Edad_meses'].apply(lambda x: f\"{int(x/12)} año{'s' if int(x/12) > 1 else ''} y {int(x%12)} mes{'es' if int(x%12) > 1 else ''}\")"
   ]
  },
  {
   "cell_type": "code",
   "execution_count": 125,
   "id": "af445063",
   "metadata": {},
   "outputs": [],
   "source": [
    "# Eliminar columnas que no me interesan\n",
    "poblacion.drop(['Tiempo_meses', 'Edad_meses'], axis=1, inplace=True)"
   ]
  },
  {
   "cell_type": "code",
   "execution_count": 126,
   "id": "ce1959d4",
   "metadata": {},
   "outputs": [
    {
     "data": {
      "text/html": [
       "<div>\n",
       "<style scoped>\n",
       "    .dataframe tbody tr th:only-of-type {\n",
       "        vertical-align: middle;\n",
       "    }\n",
       "\n",
       "    .dataframe tbody tr th {\n",
       "        vertical-align: top;\n",
       "    }\n",
       "\n",
       "    .dataframe thead th {\n",
       "        text-align: right;\n",
       "    }\n",
       "</style>\n",
       "<table border=\"1\" class=\"dataframe\">\n",
       "  <thead>\n",
       "    <tr style=\"text-align: right;\">\n",
       "      <th></th>\n",
       "      <th>id_animal</th>\n",
       "      <th>id_centro</th>\n",
       "      <th>Raza</th>\n",
       "      <th>Especie</th>\n",
       "      <th>Sexo</th>\n",
       "      <th>Tamaño</th>\n",
       "      <th>Microchip</th>\n",
       "      <th>Tiempo</th>\n",
       "      <th>Edad</th>\n",
       "    </tr>\n",
       "  </thead>\n",
       "  <tbody>\n",
       "    <tr>\n",
       "      <th>0</th>\n",
       "      <td>NaN</td>\n",
       "      <td>NaN</td>\n",
       "      <td>Mestizo</td>\n",
       "      <td>Canina</td>\n",
       "      <td>Hembra</td>\n",
       "      <td>Mediano</td>\n",
       "      <td>False</td>\n",
       "      <td>0 año y 3 meses</td>\n",
       "      <td>3 años y 1 mes</td>\n",
       "    </tr>\n",
       "    <tr>\n",
       "      <th>1</th>\n",
       "      <td>NaN</td>\n",
       "      <td>NaN</td>\n",
       "      <td>Mestizo</td>\n",
       "      <td>Canina</td>\n",
       "      <td>Macho</td>\n",
       "      <td>Pequeño</td>\n",
       "      <td>True</td>\n",
       "      <td>0 año y 2 meses</td>\n",
       "      <td>3 años y 7 meses</td>\n",
       "    </tr>\n",
       "    <tr>\n",
       "      <th>2</th>\n",
       "      <td>NaN</td>\n",
       "      <td>NaN</td>\n",
       "      <td>Mestizo</td>\n",
       "      <td>Canina</td>\n",
       "      <td>Hembra</td>\n",
       "      <td>Pequeño</td>\n",
       "      <td>True</td>\n",
       "      <td>0 año y 0 mes</td>\n",
       "      <td>11 años y 6 meses</td>\n",
       "    </tr>\n",
       "    <tr>\n",
       "      <th>3</th>\n",
       "      <td>NaN</td>\n",
       "      <td>NaN</td>\n",
       "      <td>Pastor Belga</td>\n",
       "      <td>Canina</td>\n",
       "      <td>Hembra</td>\n",
       "      <td>Mediano</td>\n",
       "      <td>False</td>\n",
       "      <td>0 año y 4 meses</td>\n",
       "      <td>1 año y 0 mes</td>\n",
       "    </tr>\n",
       "    <tr>\n",
       "      <th>4</th>\n",
       "      <td>NaN</td>\n",
       "      <td>NaN</td>\n",
       "      <td>Mestizo</td>\n",
       "      <td>Canina</td>\n",
       "      <td>Hembra</td>\n",
       "      <td>Mediano</td>\n",
       "      <td>True</td>\n",
       "      <td>0 año y 0 mes</td>\n",
       "      <td>3 años y 10 meses</td>\n",
       "    </tr>\n",
       "    <tr>\n",
       "      <th>...</th>\n",
       "      <td>...</td>\n",
       "      <td>...</td>\n",
       "      <td>...</td>\n",
       "      <td>...</td>\n",
       "      <td>...</td>\n",
       "      <td>...</td>\n",
       "      <td>...</td>\n",
       "      <td>...</td>\n",
       "      <td>...</td>\n",
       "    </tr>\n",
       "    <tr>\n",
       "      <th>499995</th>\n",
       "      <td>NaN</td>\n",
       "      <td>NaN</td>\n",
       "      <td>Mestizo</td>\n",
       "      <td>Canina</td>\n",
       "      <td>Macho</td>\n",
       "      <td>Mediano</td>\n",
       "      <td>True</td>\n",
       "      <td>0 año y 0 mes</td>\n",
       "      <td>9 años y 2 meses</td>\n",
       "    </tr>\n",
       "    <tr>\n",
       "      <th>499996</th>\n",
       "      <td>NaN</td>\n",
       "      <td>NaN</td>\n",
       "      <td>Mestizo</td>\n",
       "      <td>Canina</td>\n",
       "      <td>Hembra</td>\n",
       "      <td>Mediano</td>\n",
       "      <td>True</td>\n",
       "      <td>1 año y 3 meses</td>\n",
       "      <td>2 años y 7 meses</td>\n",
       "    </tr>\n",
       "    <tr>\n",
       "      <th>499997</th>\n",
       "      <td>NaN</td>\n",
       "      <td>NaN</td>\n",
       "      <td>Mestizo</td>\n",
       "      <td>Canina</td>\n",
       "      <td>Hembra</td>\n",
       "      <td>Mediano</td>\n",
       "      <td>True</td>\n",
       "      <td>0 año y 0 mes</td>\n",
       "      <td>9 años y 9 meses</td>\n",
       "    </tr>\n",
       "    <tr>\n",
       "      <th>499998</th>\n",
       "      <td>NaN</td>\n",
       "      <td>NaN</td>\n",
       "      <td>Mestizo</td>\n",
       "      <td>Canina</td>\n",
       "      <td>Macho</td>\n",
       "      <td>Mediano</td>\n",
       "      <td>True</td>\n",
       "      <td>1 año y 6 meses</td>\n",
       "      <td>10 años y 10 meses</td>\n",
       "    </tr>\n",
       "    <tr>\n",
       "      <th>499999</th>\n",
       "      <td>NaN</td>\n",
       "      <td>NaN</td>\n",
       "      <td>Pastor Vasco</td>\n",
       "      <td>Canina</td>\n",
       "      <td>Macho</td>\n",
       "      <td>Pequeño</td>\n",
       "      <td>True</td>\n",
       "      <td>0 año y 1 mes</td>\n",
       "      <td>9 años y 11 meses</td>\n",
       "    </tr>\n",
       "  </tbody>\n",
       "</table>\n",
       "<p>500000 rows × 9 columns</p>\n",
       "</div>"
      ],
      "text/plain": [
       "       id_animal id_centro          Raza Especie    Sexo   Tamaño Microchip  \\\n",
       "0            NaN       NaN       Mestizo  Canina  Hembra  Mediano     False   \n",
       "1            NaN       NaN       Mestizo  Canina   Macho  Pequeño      True   \n",
       "2            NaN       NaN       Mestizo  Canina  Hembra  Pequeño      True   \n",
       "3            NaN       NaN  Pastor Belga  Canina  Hembra  Mediano     False   \n",
       "4            NaN       NaN       Mestizo  Canina  Hembra  Mediano      True   \n",
       "...          ...       ...           ...     ...     ...      ...       ...   \n",
       "499995       NaN       NaN       Mestizo  Canina   Macho  Mediano      True   \n",
       "499996       NaN       NaN       Mestizo  Canina  Hembra  Mediano      True   \n",
       "499997       NaN       NaN       Mestizo  Canina  Hembra  Mediano      True   \n",
       "499998       NaN       NaN       Mestizo  Canina   Macho  Mediano      True   \n",
       "499999       NaN       NaN  Pastor Vasco  Canina   Macho  Pequeño      True   \n",
       "\n",
       "                 Tiempo                Edad  \n",
       "0       0 año y 3 meses      3 años y 1 mes  \n",
       "1       0 año y 2 meses    3 años y 7 meses  \n",
       "2         0 año y 0 mes   11 años y 6 meses  \n",
       "3       0 año y 4 meses       1 año y 0 mes  \n",
       "4         0 año y 0 mes   3 años y 10 meses  \n",
       "...                 ...                 ...  \n",
       "499995    0 año y 0 mes    9 años y 2 meses  \n",
       "499996  1 año y 3 meses    2 años y 7 meses  \n",
       "499997    0 año y 0 mes    9 años y 9 meses  \n",
       "499998  1 año y 6 meses  10 años y 10 meses  \n",
       "499999    0 año y 1 mes   9 años y 11 meses  \n",
       "\n",
       "[500000 rows x 9 columns]"
      ]
     },
     "execution_count": 126,
     "metadata": {},
     "output_type": "execute_result"
    }
   ],
   "source": [
    "poblacion"
   ]
  }
 ],
 "metadata": {
  "kernelspec": {
   "display_name": "Python 3 (ipykernel)",
   "language": "python",
   "name": "python3"
  },
  "language_info": {
   "codemirror_mode": {
    "name": "ipython",
    "version": 3
   },
   "file_extension": ".py",
   "mimetype": "text/x-python",
   "name": "python",
   "nbconvert_exporter": "python",
   "pygments_lexer": "ipython3",
   "version": "3.9.13"
  }
 },
 "nbformat": 4,
 "nbformat_minor": 5
}
