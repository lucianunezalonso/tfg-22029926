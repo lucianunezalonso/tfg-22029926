{
 "cells": [
  {
   "cell_type": "code",
   "execution_count": 2,
   "id": "b46ce239",
   "metadata": {},
   "outputs": [],
   "source": [
    "import pandas as pd"
   ]
  },
  {
   "cell_type": "code",
   "execution_count": 3,
   "id": "cc5161e7",
   "metadata": {},
   "outputs": [],
   "source": [
    "df= pd.read_excel(\"C:/Users/USUARIO/TRABAJO DE FIN DE GRADO/CENTROS/3. FILTRADO/filtrado_navarra.xlsx\")"
   ]
  },
  {
   "cell_type": "code",
   "execution_count": 4,
   "id": "8264dc8d",
   "metadata": {},
   "outputs": [
    {
     "data": {
      "text/html": [
       "<div>\n",
       "<style scoped>\n",
       "    .dataframe tbody tr th:only-of-type {\n",
       "        vertical-align: middle;\n",
       "    }\n",
       "\n",
       "    .dataframe tbody tr th {\n",
       "        vertical-align: top;\n",
       "    }\n",
       "\n",
       "    .dataframe thead th {\n",
       "        text-align: right;\n",
       "    }\n",
       "</style>\n",
       "<table border=\"1\" class=\"dataframe\">\n",
       "  <thead>\n",
       "    <tr style=\"text-align: right;\">\n",
       "      <th></th>\n",
       "      <th>DENOMINACIÓN</th>\n",
       "      <th>DIRECCIÓN</th>\n",
       "      <th>LOCALIDAD</th>\n",
       "      <th>FECHA INSCRIPCIÓN</th>\n",
       "      <th>TIPO REGISTRO</th>\n",
       "      <th>CLASE</th>\n",
       "    </tr>\n",
       "  </thead>\n",
       "  <tbody>\n",
       "    <tr>\n",
       "      <th>0</th>\n",
       "      <td>RESPETO ANIMAL NAVARRA (R.A.N.)</td>\n",
       "      <td>Calle Paternain, 34 bajo izda.</td>\n",
       "      <td>ZIZUR MAYOR/ZIZUR NAGUSIA</td>\n",
       "      <td>2013-09-26</td>\n",
       "      <td>Asociación</td>\n",
       "      <td>Medioambientales, Caza y Pesca</td>\n",
       "    </tr>\n",
       "    <tr>\n",
       "      <th>1</th>\n",
       "      <td>KATX FELINOS NAVARRA</td>\n",
       "      <td>Calle Altza / Alisos n.º 7</td>\n",
       "      <td>PUENTE LA REINA/GARES</td>\n",
       "      <td>2014-03-11</td>\n",
       "      <td>Asociación</td>\n",
       "      <td>Medioambientales, Caza y Pesca</td>\n",
       "    </tr>\n",
       "    <tr>\n",
       "      <th>2</th>\n",
       "      <td>YESA MAS NO LANAK GELDITU</td>\n",
       "      <td>Calle Estudio 1</td>\n",
       "      <td>SANGÜESA/ZANGOZA</td>\n",
       "      <td>2014-03-14</td>\n",
       "      <td>Asociación</td>\n",
       "      <td>Medioambientales, Caza y Pesca</td>\n",
       "    </tr>\n",
       "    <tr>\n",
       "      <th>3</th>\n",
       "      <td>URBASA TAKATAN</td>\n",
       "      <td>Calle Balteikale 10 - 2º derecha</td>\n",
       "      <td>ERGOIENA</td>\n",
       "      <td>2014-07-31</td>\n",
       "      <td>Asociación</td>\n",
       "      <td>Medioambientales, Caza y Pesca</td>\n",
       "    </tr>\n",
       "    <tr>\n",
       "      <th>4</th>\n",
       "      <td>SOS ALKERDI</td>\n",
       "      <td>Calle RAFAEL ALBERTI, 16 BAJO D</td>\n",
       "      <td>ORKOIEN</td>\n",
       "      <td>2015-01-19</td>\n",
       "      <td>Asociación</td>\n",
       "      <td>Medioambientales, Caza y Pesca</td>\n",
       "    </tr>\n",
       "    <tr>\n",
       "      <th>...</th>\n",
       "      <td>...</td>\n",
       "      <td>...</td>\n",
       "      <td>...</td>\n",
       "      <td>...</td>\n",
       "      <td>...</td>\n",
       "      <td>...</td>\n",
       "    </tr>\n",
       "    <tr>\n",
       "      <th>110</th>\n",
       "      <td>MASVIDA A LA VIDA</td>\n",
       "      <td>Calle Díaz Bravo, Nº 16, 1º D</td>\n",
       "      <td>TUDELA</td>\n",
       "      <td>2022-11-14</td>\n",
       "      <td>Asociación</td>\n",
       "      <td>Medioambientales, Caza y Pesca</td>\n",
       "    </tr>\n",
       "    <tr>\n",
       "      <th>111</th>\n",
       "      <td>AÑAIZE</td>\n",
       "      <td>Calle Paseo Julián Gayarre n° 1</td>\n",
       "      <td>RONCAL/ERRONKARI</td>\n",
       "      <td>2022-12-09</td>\n",
       "      <td>Asociación</td>\n",
       "      <td>Medioambientales, Caza y Pesca</td>\n",
       "    </tr>\n",
       "    <tr>\n",
       "      <th>112</th>\n",
       "      <td>OBANOS BIZI</td>\n",
       "      <td>Plaza de los Fueros, Nº 1</td>\n",
       "      <td>OBANOS</td>\n",
       "      <td>2023-01-09</td>\n",
       "      <td>Asociación</td>\n",
       "      <td>Medioambientales, Caza y Pesca</td>\n",
       "    </tr>\n",
       "    <tr>\n",
       "      <th>113</th>\n",
       "      <td>ACACONBAR</td>\n",
       "      <td>Calle Auroros, 65</td>\n",
       "      <td>TUDELA</td>\n",
       "      <td>2023-02-13</td>\n",
       "      <td>Asociación</td>\n",
       "      <td>Medioambientales, Caza y Pesca</td>\n",
       "    </tr>\n",
       "    <tr>\n",
       "      <th>114</th>\n",
       "      <td>ITURRIZAR DE ZIRAUKI</td>\n",
       "      <td>Plaza Ayuntamiento, 1</td>\n",
       "      <td>CIRAUQUI/ZIRAUKI</td>\n",
       "      <td>2023-03-08</td>\n",
       "      <td>Asociación</td>\n",
       "      <td>Medioambientales, Caza y Pesca</td>\n",
       "    </tr>\n",
       "  </tbody>\n",
       "</table>\n",
       "<p>115 rows × 6 columns</p>\n",
       "</div>"
      ],
      "text/plain": [
       "                        DENOMINACIÓN                         DIRECCIÓN  \\\n",
       "0    RESPETO ANIMAL NAVARRA (R.A.N.)    Calle Paternain, 34 bajo izda.   \n",
       "1               KATX FELINOS NAVARRA        Calle Altza / Alisos n.º 7   \n",
       "2          YESA MAS NO LANAK GELDITU                   Calle Estudio 1   \n",
       "3                     URBASA TAKATAN  Calle Balteikale 10 - 2º derecha   \n",
       "4                        SOS ALKERDI   Calle RAFAEL ALBERTI, 16 BAJO D   \n",
       "..                               ...                               ...   \n",
       "110                MASVIDA A LA VIDA     Calle Díaz Bravo, Nº 16, 1º D   \n",
       "111                           AÑAIZE   Calle Paseo Julián Gayarre n° 1   \n",
       "112                      OBANOS BIZI         Plaza de los Fueros, Nº 1   \n",
       "113                        ACACONBAR                 Calle Auroros, 65   \n",
       "114             ITURRIZAR DE ZIRAUKI             Plaza Ayuntamiento, 1   \n",
       "\n",
       "                     LOCALIDAD FECHA INSCRIPCIÓN TIPO REGISTRO  \\\n",
       "0    ZIZUR MAYOR/ZIZUR NAGUSIA        2013-09-26    Asociación   \n",
       "1        PUENTE LA REINA/GARES        2014-03-11    Asociación   \n",
       "2             SANGÜESA/ZANGOZA        2014-03-14    Asociación   \n",
       "3                     ERGOIENA        2014-07-31    Asociación   \n",
       "4                      ORKOIEN        2015-01-19    Asociación   \n",
       "..                         ...               ...           ...   \n",
       "110                     TUDELA        2022-11-14    Asociación   \n",
       "111           RONCAL/ERRONKARI        2022-12-09    Asociación   \n",
       "112                     OBANOS        2023-01-09    Asociación   \n",
       "113                     TUDELA        2023-02-13    Asociación   \n",
       "114           CIRAUQUI/ZIRAUKI        2023-03-08    Asociación   \n",
       "\n",
       "                              CLASE  \n",
       "0    Medioambientales, Caza y Pesca  \n",
       "1    Medioambientales, Caza y Pesca  \n",
       "2    Medioambientales, Caza y Pesca  \n",
       "3    Medioambientales, Caza y Pesca  \n",
       "4    Medioambientales, Caza y Pesca  \n",
       "..                              ...  \n",
       "110  Medioambientales, Caza y Pesca  \n",
       "111  Medioambientales, Caza y Pesca  \n",
       "112  Medioambientales, Caza y Pesca  \n",
       "113  Medioambientales, Caza y Pesca  \n",
       "114  Medioambientales, Caza y Pesca  \n",
       "\n",
       "[115 rows x 6 columns]"
      ]
     },
     "execution_count": 4,
     "metadata": {},
     "output_type": "execute_result"
    }
   ],
   "source": [
    "df"
   ]
  },
  {
   "cell_type": "markdown",
   "id": "5262819a",
   "metadata": {},
   "source": [
    "ADICIÓN DE COLUMNA CCAA"
   ]
  },
  {
   "cell_type": "code",
   "execution_count": 14,
   "id": "13864772",
   "metadata": {},
   "outputs": [],
   "source": [
    "df['ccaa']= \"Navarra\""
   ]
  },
  {
   "cell_type": "markdown",
   "id": "992843d0",
   "metadata": {},
   "source": [
    "SELECCIÓN DE COLUMNAS"
   ]
  },
  {
   "cell_type": "code",
   "execution_count": 6,
   "id": "74418921",
   "metadata": {},
   "outputs": [
    {
     "data": {
      "text/plain": [
       "Index(['DENOMINACIÓN', 'DIRECCIÓN', 'LOCALIDAD', 'FECHA INSCRIPCIÓN',\n",
       "       'TIPO REGISTRO', 'CLASE', 'ccaa'],\n",
       "      dtype='object')"
      ]
     },
     "execution_count": 6,
     "metadata": {},
     "output_type": "execute_result"
    }
   ],
   "source": [
    "df.columns"
   ]
  },
  {
   "cell_type": "code",
   "execution_count": 7,
   "id": "ae24e202",
   "metadata": {},
   "outputs": [],
   "source": [
    "df = df.loc[:, ['DENOMINACIÓN', 'DIRECCIÓN', 'LOCALIDAD']]"
   ]
  },
  {
   "cell_type": "code",
   "execution_count": 8,
   "id": "7b470f9a",
   "metadata": {},
   "outputs": [],
   "source": [
    "from geopy.geocoders import Nominatim\n",
    "geolocator = Nominatim(user_agent=\"tfg_adoptionmovement\")"
   ]
  },
  {
   "cell_type": "code",
   "execution_count": 9,
   "id": "ad961f7c",
   "metadata": {},
   "outputs": [],
   "source": [
    "def get_lat_long(address):\n",
    "    location = geolocator.geocode(address) # geocodifica la dirección y devuelve un objeto de ubicación\n",
    "    if location:\n",
    "        return (location.latitude, location.longitude)\n",
    "    else:\n",
    "        return (None, None)"
   ]
  },
  {
   "cell_type": "code",
   "execution_count": 10,
   "id": "5d79d770",
   "metadata": {},
   "outputs": [],
   "source": [
    "# recorre cada fila del DataFrame\n",
    "for i, row in df.iterrows():\n",
    "    # añade el contenido de las columnas de ubicación a continuación del contenido de \"direccion\"\n",
    "    df.at[i, 'DIRECCIÓN'] = str(df.at[i, 'DIRECCIÓN'])+', ' + str(row['LOCALIDAD'])+', España'"
   ]
  },
  {
   "cell_type": "code",
   "execution_count": 11,
   "id": "272dbf65",
   "metadata": {},
   "outputs": [],
   "source": [
    "df['latitud'], df['longitud'] = zip(*df['DIRECCIÓN'].apply(get_lat_long))"
   ]
  },
  {
   "cell_type": "code",
   "execution_count": 12,
   "id": "01d617e5",
   "metadata": {},
   "outputs": [
    {
     "data": {
      "text/plain": [
       "78"
      ]
     },
     "execution_count": 12,
     "metadata": {},
     "output_type": "execute_result"
    }
   ],
   "source": [
    "sum(df['longitud'].isnull())"
   ]
  },
  {
   "cell_type": "code",
   "execution_count": 15,
   "id": "6d9201dc",
   "metadata": {},
   "outputs": [],
   "source": [
    "df = df.loc[:, ['DENOMINACIÓN', 'DIRECCIÓN', 'ccaa', 'latitud', 'longitud']]"
   ]
  },
  {
   "cell_type": "code",
   "execution_count": 16,
   "id": "008748f1",
   "metadata": {},
   "outputs": [],
   "source": [
    "df = df.dropna(subset=['latitud'])"
   ]
  },
  {
   "cell_type": "code",
   "execution_count": 17,
   "id": "43f0e581",
   "metadata": {},
   "outputs": [],
   "source": [
    "df.to_excel('coordenadas_navarra.xlsx', index=False)"
   ]
  }
 ],
 "metadata": {
  "kernelspec": {
   "display_name": "Python 3 (ipykernel)",
   "language": "python",
   "name": "python3"
  },
  "language_info": {
   "codemirror_mode": {
    "name": "ipython",
    "version": 3
   },
   "file_extension": ".py",
   "mimetype": "text/x-python",
   "name": "python",
   "nbconvert_exporter": "python",
   "pygments_lexer": "ipython3",
   "version": "3.9.13"
  }
 },
 "nbformat": 4,
 "nbformat_minor": 5
}
