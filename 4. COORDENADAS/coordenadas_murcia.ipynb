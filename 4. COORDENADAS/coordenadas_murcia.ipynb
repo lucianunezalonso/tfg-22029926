{
 "cells": [
  {
   "cell_type": "code",
   "execution_count": 1,
   "id": "dcebabaa",
   "metadata": {},
   "outputs": [],
   "source": [
    "import pandas as pd"
   ]
  },
  {
   "cell_type": "code",
   "execution_count": 2,
   "id": "3187cf3d",
   "metadata": {},
   "outputs": [],
   "source": [
    "df= pd.read_excel(\"C:/Users/USUARIO/TRABAJO DE FIN DE GRADO/CENTROS/3. FILTRADO/filtrado_murcia.xlsx\")"
   ]
  },
  {
   "cell_type": "code",
   "execution_count": 3,
   "id": "57cb31c5",
   "metadata": {},
   "outputs": [
    {
     "data": {
      "text/html": [
       "<div>\n",
       "<style scoped>\n",
       "    .dataframe tbody tr th:only-of-type {\n",
       "        vertical-align: middle;\n",
       "    }\n",
       "\n",
       "    .dataframe tbody tr th {\n",
       "        vertical-align: top;\n",
       "    }\n",
       "\n",
       "    .dataframe thead th {\n",
       "        text-align: right;\n",
       "    }\n",
       "</style>\n",
       "<table border=\"1\" class=\"dataframe\">\n",
       "  <thead>\n",
       "    <tr style=\"text-align: right;\">\n",
       "      <th></th>\n",
       "      <th>Municipio</th>\n",
       "      <th>Nombre</th>\n",
       "      <th>Direccion</th>\n",
       "    </tr>\n",
       "  </thead>\n",
       "  <tbody>\n",
       "    <tr>\n",
       "      <th>0</th>\n",
       "      <td>ABANILLA</td>\n",
       "      <td>A.P.A.M.A. NATURE (ASOCIACION PARA LA PROTECCI...</td>\n",
       "      <td>C/ Encomienda s/n planta baja. Edif. de la Enc...</td>\n",
       "    </tr>\n",
       "    <tr>\n",
       "      <th>1</th>\n",
       "      <td>ABARAN</td>\n",
       "      <td>ASOCIACION \"POR UN AMIGO FIEL\" DE ABARAN</td>\n",
       "      <td>Plaza de la Zarzuela nº4, Bloq. 1º, 8ºAD</td>\n",
       "    </tr>\n",
       "    <tr>\n",
       "      <th>2</th>\n",
       "      <td>AGUILAS</td>\n",
       "      <td>SANTOLINA ANIMAL SANTUARIO</td>\n",
       "      <td>CASA 26, CAMPING LA QUINTA BELLA, C/ LOS AREJO...</td>\n",
       "    </tr>\n",
       "    <tr>\n",
       "      <th>3</th>\n",
       "      <td>AGUILAS</td>\n",
       "      <td>ASOCIACION PROYECTO CES AGUILAS</td>\n",
       "      <td>C/ Alegría nº6, 2ºC</td>\n",
       "    </tr>\n",
       "    <tr>\n",
       "      <th>4</th>\n",
       "      <td>AGUILAS</td>\n",
       "      <td>ASOCIACION PROTECTORES NUEVA ERA AGUILAS</td>\n",
       "      <td>C/ Rey Carlos III nº9, 4ºA</td>\n",
       "    </tr>\n",
       "    <tr>\n",
       "      <th>...</th>\n",
       "      <td>...</td>\n",
       "      <td>...</td>\n",
       "      <td>...</td>\n",
       "    </tr>\n",
       "    <tr>\n",
       "      <th>186</th>\n",
       "      <td>UNION</td>\n",
       "      <td>ASOCIACION PROTECTORA DE ANIMALES \"LA CASITA D...</td>\n",
       "      <td>C/ Actor José Baeza nº1, puerta 16, buzón 139</td>\n",
       "    </tr>\n",
       "    <tr>\n",
       "      <th>187</th>\n",
       "      <td>UNION</td>\n",
       "      <td>ASOCIACION UNION ANIMALISTA</td>\n",
       "      <td>C/ Paco Valencia nº1, bajo izq.</td>\n",
       "    </tr>\n",
       "    <tr>\n",
       "      <th>188</th>\n",
       "      <td>VILLANUEVA DEL RIO SEGURA</td>\n",
       "      <td>UNIDAD CANINA DE RESCATE Y SALVAMENTO VILLANUE...</td>\n",
       "      <td>c/ Almazara núm. 3</td>\n",
       "    </tr>\n",
       "    <tr>\n",
       "      <th>189</th>\n",
       "      <td>YECLA</td>\n",
       "      <td>ASOCIACION SPANDY: SOCIEDAD PROTECTORA DE ANIM...</td>\n",
       "      <td>C/ San José nº 8, 1º izquierda</td>\n",
       "    </tr>\n",
       "    <tr>\n",
       "      <th>190</th>\n",
       "      <td>YECLA</td>\n",
       "      <td>SOY SU VOZ, \"ASOCIACION POR LOS DERECHOS, LA P...</td>\n",
       "      <td>C/ Casas Altas nº37</td>\n",
       "    </tr>\n",
       "  </tbody>\n",
       "</table>\n",
       "<p>191 rows × 3 columns</p>\n",
       "</div>"
      ],
      "text/plain": [
       "                     Municipio  \\\n",
       "0                     ABANILLA   \n",
       "1                       ABARAN   \n",
       "2                      AGUILAS   \n",
       "3                      AGUILAS   \n",
       "4                      AGUILAS   \n",
       "..                         ...   \n",
       "186                      UNION   \n",
       "187                      UNION   \n",
       "188  VILLANUEVA DEL RIO SEGURA   \n",
       "189                      YECLA   \n",
       "190                      YECLA   \n",
       "\n",
       "                                                Nombre  \\\n",
       "0    A.P.A.M.A. NATURE (ASOCIACION PARA LA PROTECCI...   \n",
       "1             ASOCIACION \"POR UN AMIGO FIEL\" DE ABARAN   \n",
       "2                           SANTOLINA ANIMAL SANTUARIO   \n",
       "3                      ASOCIACION PROYECTO CES AGUILAS   \n",
       "4             ASOCIACION PROTECTORES NUEVA ERA AGUILAS   \n",
       "..                                                 ...   \n",
       "186  ASOCIACION PROTECTORA DE ANIMALES \"LA CASITA D...   \n",
       "187                        ASOCIACION UNION ANIMALISTA   \n",
       "188  UNIDAD CANINA DE RESCATE Y SALVAMENTO VILLANUE...   \n",
       "189  ASOCIACION SPANDY: SOCIEDAD PROTECTORA DE ANIM...   \n",
       "190  SOY SU VOZ, \"ASOCIACION POR LOS DERECHOS, LA P...   \n",
       "\n",
       "                                             Direccion  \n",
       "0    C/ Encomienda s/n planta baja. Edif. de la Enc...  \n",
       "1             Plaza de la Zarzuela nº4, Bloq. 1º, 8ºAD  \n",
       "2    CASA 26, CAMPING LA QUINTA BELLA, C/ LOS AREJO...  \n",
       "3                                  C/ Alegría nº6, 2ºC  \n",
       "4                           C/ Rey Carlos III nº9, 4ºA  \n",
       "..                                                 ...  \n",
       "186      C/ Actor José Baeza nº1, puerta 16, buzón 139  \n",
       "187                    C/ Paco Valencia nº1, bajo izq.  \n",
       "188                                 c/ Almazara núm. 3  \n",
       "189                     C/ San José nº 8, 1º izquierda  \n",
       "190                                C/ Casas Altas nº37  \n",
       "\n",
       "[191 rows x 3 columns]"
      ]
     },
     "execution_count": 3,
     "metadata": {},
     "output_type": "execute_result"
    }
   ],
   "source": [
    "df"
   ]
  },
  {
   "cell_type": "markdown",
   "id": "a5cbe8fa",
   "metadata": {},
   "source": [
    "ADICIÓN DE COLUMNA CCAA"
   ]
  },
  {
   "cell_type": "code",
   "execution_count": 4,
   "id": "1cc1d974",
   "metadata": {},
   "outputs": [],
   "source": [
    "df['ccaa']= \"Murcia\""
   ]
  },
  {
   "cell_type": "markdown",
   "id": "1d055f8b",
   "metadata": {},
   "source": [
    "SELECCIÓN DE COLUMNAS"
   ]
  },
  {
   "cell_type": "code",
   "execution_count": 5,
   "id": "fa030486",
   "metadata": {},
   "outputs": [
    {
     "data": {
      "text/plain": [
       "Index(['Municipio', 'Nombre', 'Direccion', 'ccaa'], dtype='object')"
      ]
     },
     "execution_count": 5,
     "metadata": {},
     "output_type": "execute_result"
    }
   ],
   "source": [
    "df.columns"
   ]
  },
  {
   "cell_type": "markdown",
   "id": "f94e8b32",
   "metadata": {},
   "source": [
    "COORDENADAS"
   ]
  },
  {
   "cell_type": "code",
   "execution_count": 6,
   "id": "43e18c41",
   "metadata": {},
   "outputs": [],
   "source": [
    "from geopy.geocoders import Nominatim\n",
    "geolocator = Nominatim(user_agent=\"tfg_adoptionmovement\")"
   ]
  },
  {
   "cell_type": "code",
   "execution_count": 7,
   "id": "622e3ad3",
   "metadata": {},
   "outputs": [],
   "source": [
    "def get_lat_long(address):\n",
    "    location = geolocator.geocode(address) # geocodifica la dirección y devuelve un objeto de ubicación\n",
    "    if location:\n",
    "        return (location.latitude, location.longitude)\n",
    "    else:\n",
    "        return (None, None)"
   ]
  },
  {
   "cell_type": "code",
   "execution_count": 8,
   "id": "3c9ca61c",
   "metadata": {},
   "outputs": [],
   "source": [
    "for i, row in df.iterrows():\n",
    "    # añade el contenido de las columnas de ubicación a continuación del contenido de \"direccion\"\n",
    "    df.at[i, 'Direccion'] = str(df.at[i, 'Direccion'])+', ' + str(row['Municipio'])+', ' + str(row['ccaa'])+', España'"
   ]
  },
  {
   "cell_type": "code",
   "execution_count": 10,
   "id": "4fdae14c",
   "metadata": {},
   "outputs": [],
   "source": [
    "df['latitud'], df['longitud'] = zip(*df['Direccion'].apply(get_lat_long))"
   ]
  },
  {
   "cell_type": "code",
   "execution_count": 11,
   "id": "94ba049b",
   "metadata": {},
   "outputs": [
    {
     "data": {
      "text/plain": [
       "121"
      ]
     },
     "execution_count": 11,
     "metadata": {},
     "output_type": "execute_result"
    }
   ],
   "source": [
    "sum(df['longitud'].isnull())"
   ]
  },
  {
   "cell_type": "code",
   "execution_count": 12,
   "id": "9658dab5",
   "metadata": {},
   "outputs": [],
   "source": [
    "df = df.loc[:, ['Nombre', 'Direccion', 'ccaa', 'latitud', 'longitud']]"
   ]
  },
  {
   "cell_type": "code",
   "execution_count": 13,
   "id": "88c2a09b",
   "metadata": {},
   "outputs": [],
   "source": [
    "df = df.dropna(subset=['latitud'])"
   ]
  },
  {
   "cell_type": "code",
   "execution_count": 14,
   "id": "41906de9",
   "metadata": {},
   "outputs": [],
   "source": [
    "df.to_excel('coordenadas_murcia.xlsx', index=False)"
   ]
  }
 ],
 "metadata": {
  "kernelspec": {
   "display_name": "Python 3 (ipykernel)",
   "language": "python",
   "name": "python3"
  },
  "language_info": {
   "codemirror_mode": {
    "name": "ipython",
    "version": 3
   },
   "file_extension": ".py",
   "mimetype": "text/x-python",
   "name": "python",
   "nbconvert_exporter": "python",
   "pygments_lexer": "ipython3",
   "version": "3.9.13"
  }
 },
 "nbformat": 4,
 "nbformat_minor": 5
}
