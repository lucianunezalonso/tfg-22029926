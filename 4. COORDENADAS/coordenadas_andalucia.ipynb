{
 "cells": [
  {
   "cell_type": "code",
   "execution_count": 1,
   "id": "322bcab1",
   "metadata": {},
   "outputs": [],
   "source": [
    "import pandas as pd"
   ]
  },
  {
   "cell_type": "code",
   "execution_count": 2,
   "id": "13bc3846",
   "metadata": {},
   "outputs": [],
   "source": [
    "df= pd.read_excel(\"C:/Users/USUARIO/TRABAJO DE FIN DE GRADO/CENTROS/3. FILTRADO/filtrado_andalucia.xlsx\")"
   ]
  },
  {
   "cell_type": "code",
   "execution_count": 3,
   "id": "f70a028c",
   "metadata": {},
   "outputs": [
    {
     "data": {
      "text/html": [
       "<div>\n",
       "<style scoped>\n",
       "    .dataframe tbody tr th:only-of-type {\n",
       "        vertical-align: middle;\n",
       "    }\n",
       "\n",
       "    .dataframe tbody tr th {\n",
       "        vertical-align: top;\n",
       "    }\n",
       "\n",
       "    .dataframe thead th {\n",
       "        text-align: right;\n",
       "    }\n",
       "</style>\n",
       "<table border=\"1\" class=\"dataframe\">\n",
       "  <thead>\n",
       "    <tr style=\"text-align: right;\">\n",
       "      <th></th>\n",
       "      <th>Nombre</th>\n",
       "      <th>Fecha</th>\n",
       "      <th>Direccion</th>\n",
       "      <th>Localidad</th>\n",
       "    </tr>\n",
       "  </thead>\n",
       "  <tbody>\n",
       "    <tr>\n",
       "      <th>0</th>\n",
       "      <td>HELPING ANIMALS ALMANZORA</td>\n",
       "      <td>20/02/2012</td>\n",
       "      <td>C/ HUELVA Nº 5</td>\n",
       "      <td>Arboleas (ALMERIA)</td>\n",
       "    </tr>\n",
       "    <tr>\n",
       "      <th>1</th>\n",
       "      <td>PROTECTORA DE ANIMALES ROCIANA ACOGE</td>\n",
       "      <td>30/10/2017</td>\n",
       "      <td>CL VENDIMIADORES 33</td>\n",
       "      <td>Rociana del Condado (HUELVA)</td>\n",
       "    </tr>\n",
       "    <tr>\n",
       "      <th>2</th>\n",
       "      <td>ABRAZO ANIMAL JAMILENA</td>\n",
       "      <td>30/06/2021</td>\n",
       "      <td>C/ MORERIA, 27</td>\n",
       "      <td>Martos (JAEN)</td>\n",
       "    </tr>\n",
       "    <tr>\n",
       "      <th>3</th>\n",
       "      <td>ACABEMOS CON EL ABANDONO DE ANIMALES</td>\n",
       "      <td>16/06/2003</td>\n",
       "      <td>CARRIL DE LA CAPELLANÍA, S/N - CASA LA CAÑADA</td>\n",
       "      <td>Almogía (MALAGA)</td>\n",
       "    </tr>\n",
       "    <tr>\n",
       "      <th>4</th>\n",
       "      <td>ACTION FOR ANIMALS</td>\n",
       "      <td>31/03/2009</td>\n",
       "      <td>AVENIDA DE LA CONSTITUCION Nº 3</td>\n",
       "      <td>Cómpeta (MALAGA)</td>\n",
       "    </tr>\n",
       "    <tr>\n",
       "      <th>...</th>\n",
       "      <td>...</td>\n",
       "      <td>...</td>\n",
       "      <td>...</td>\n",
       "      <td>...</td>\n",
       "    </tr>\n",
       "    <tr>\n",
       "      <th>743</th>\n",
       "      <td>CALLEJEROS DE FERNAN NUÑEZ</td>\n",
       "      <td>24/09/2009</td>\n",
       "      <td>PINTOR VELAZQUEZ ,48</td>\n",
       "      <td>Fernán-Núñez (CORDOBA)</td>\n",
       "    </tr>\n",
       "    <tr>\n",
       "      <th>744</th>\n",
       "      <td>CALLEJEROS MORÓN</td>\n",
       "      <td>01/06/2018</td>\n",
       "      <td>C/ Ronda Trinidad Local A-1</td>\n",
       "      <td>Morón de la Frontera (SEVILLA)</td>\n",
       "    </tr>\n",
       "    <tr>\n",
       "      <th>745</th>\n",
       "      <td>SOS CALLEJEROS</td>\n",
       "      <td>07/06/2010</td>\n",
       "      <td>C/ CARLOS HAYA Nº 9</td>\n",
       "      <td>Cádiz (CADIZ)</td>\n",
       "    </tr>\n",
       "    <tr>\n",
       "      <th>746</th>\n",
       "      <td>ALMAS OLVIDADAS</td>\n",
       "      <td>29/09/2022</td>\n",
       "      <td>C/ POETA JUAN GUTIERREZ PADIAL, Nº 5, 1º C</td>\n",
       "      <td>Lanjarón (GRANADA)</td>\n",
       "    </tr>\n",
       "    <tr>\n",
       "      <th>747</th>\n",
       "      <td>CORAZONES OLVIDADOS GRANADA</td>\n",
       "      <td>03/03/2017</td>\n",
       "      <td>C/ ADELFA, Nº 2</td>\n",
       "      <td>Huétor Vega (GRANADA)</td>\n",
       "    </tr>\n",
       "  </tbody>\n",
       "</table>\n",
       "<p>748 rows × 4 columns</p>\n",
       "</div>"
      ],
      "text/plain": [
       "                                   Nombre        Fecha  \\\n",
       "0               HELPING ANIMALS ALMANZORA  20/02/2012    \n",
       "1    PROTECTORA DE ANIMALES ROCIANA ACOGE  30/10/2017    \n",
       "2                  ABRAZO ANIMAL JAMILENA  30/06/2021    \n",
       "3    ACABEMOS CON EL ABANDONO DE ANIMALES  16/06/2003    \n",
       "4                      ACTION FOR ANIMALS  31/03/2009    \n",
       "..                                    ...          ...   \n",
       "743            CALLEJEROS DE FERNAN NUÑEZ  24/09/2009    \n",
       "744                      CALLEJEROS MORÓN  01/06/2018    \n",
       "745                        SOS CALLEJEROS  07/06/2010    \n",
       "746                       ALMAS OLVIDADAS  29/09/2022    \n",
       "747           CORAZONES OLVIDADOS GRANADA  03/03/2017    \n",
       "\n",
       "                                          Direccion  \\\n",
       "0                                   C/ HUELVA Nº 5    \n",
       "1                              CL VENDIMIADORES 33    \n",
       "2                                   C/ MORERIA, 27    \n",
       "3    CARRIL DE LA CAPELLANÍA, S/N - CASA LA CAÑADA    \n",
       "4                  AVENIDA DE LA CONSTITUCION Nº 3    \n",
       "..                                              ...   \n",
       "743                          PINTOR VELAZQUEZ ,48     \n",
       "744                    C/ Ronda Trinidad Local A-1    \n",
       "745                            C/ CARLOS HAYA Nº 9    \n",
       "746     C/ POETA JUAN GUTIERREZ PADIAL, Nº 5, 1º C    \n",
       "747                                C/ ADELFA, Nº 2    \n",
       "\n",
       "                           Localidad  \n",
       "0                Arboleas (ALMERIA)   \n",
       "1      Rociana del Condado (HUELVA)   \n",
       "2                     Martos (JAEN)   \n",
       "3                  Almogía (MALAGA)   \n",
       "4                  Cómpeta (MALAGA)   \n",
       "..                               ...  \n",
       "743          Fernán-Núñez (CORDOBA)   \n",
       "744  Morón de la Frontera (SEVILLA)   \n",
       "745                   Cádiz (CADIZ)   \n",
       "746              Lanjarón (GRANADA)   \n",
       "747           Huétor Vega (GRANADA)   \n",
       "\n",
       "[748 rows x 4 columns]"
      ]
     },
     "execution_count": 3,
     "metadata": {},
     "output_type": "execute_result"
    }
   ],
   "source": [
    "df"
   ]
  },
  {
   "cell_type": "markdown",
   "id": "54d967be",
   "metadata": {},
   "source": [
    "ADICIÓN DE COLUMNA CCAA"
   ]
  },
  {
   "cell_type": "code",
   "execution_count": 4,
   "id": "4404eda5",
   "metadata": {},
   "outputs": [],
   "source": [
    "df['ccaa']= \"Andalucía\""
   ]
  },
  {
   "cell_type": "markdown",
   "id": "a7025984",
   "metadata": {},
   "source": [
    "SELECCIÓN DE COLUMNAS"
   ]
  },
  {
   "cell_type": "code",
   "execution_count": 5,
   "id": "580c19b0",
   "metadata": {},
   "outputs": [
    {
     "data": {
      "text/plain": [
       "Index(['Nombre', 'Fecha', 'Direccion', 'Localidad', 'ccaa'], dtype='object')"
      ]
     },
     "execution_count": 5,
     "metadata": {},
     "output_type": "execute_result"
    }
   ],
   "source": [
    "df.columns"
   ]
  },
  {
   "cell_type": "markdown",
   "id": "29e6102b",
   "metadata": {},
   "source": [
    "COORDENADAS"
   ]
  },
  {
   "cell_type": "code",
   "execution_count": 6,
   "id": "9787dd17",
   "metadata": {},
   "outputs": [],
   "source": [
    "from geopy.geocoders import Nominatim\n",
    "geolocator = Nominatim(user_agent=\"tfg_adoptionmovement\") # crea una instancia del objeto Nominatim"
   ]
  },
  {
   "cell_type": "code",
   "execution_count": 7,
   "id": "1b13f5fd",
   "metadata": {},
   "outputs": [],
   "source": [
    "def get_lat_long(address):\n",
    "    location = geolocator.geocode(address) # geocodifica la dirección y devuelve un objeto de ubicación\n",
    "    if location:\n",
    "        return (location.latitude, location.longitude)\n",
    "    else:\n",
    "        return (None, None)"
   ]
  },
  {
   "cell_type": "code",
   "execution_count": 8,
   "id": "2526da63",
   "metadata": {},
   "outputs": [],
   "source": [
    "# recorre cada fila del DataFrame\n",
    "for i, row in df.iterrows():\n",
    "    # añade el contenido de las columnas de ubicación a continuación del contenido de \"direccion\"\n",
    "    df.at[i, 'Direccion'] = str(df.at[i, 'Direccion'])+', ' + str(row['Localidad'])+', ' + str(row['ccaa'])+', España'"
   ]
  },
  {
   "cell_type": "code",
   "execution_count": 11,
   "id": "96d14bd9",
   "metadata": {},
   "outputs": [],
   "source": [
    "df['latitud'], df['longitud'] = zip(*df['Direccion'].apply(get_lat_long))"
   ]
  },
  {
   "cell_type": "code",
   "execution_count": 12,
   "id": "1a3dc1c3",
   "metadata": {},
   "outputs": [
    {
     "data": {
      "text/plain": [
       "470"
      ]
     },
     "execution_count": 12,
     "metadata": {},
     "output_type": "execute_result"
    }
   ],
   "source": [
    "sum(df['longitud'].isnull())"
   ]
  },
  {
   "cell_type": "code",
   "execution_count": 13,
   "id": "5621a13f",
   "metadata": {},
   "outputs": [
    {
     "data": {
      "text/plain": [
       "Index(['Nombre', 'Fecha', 'Direccion', 'Localidad', 'ccaa', 'latitud',\n",
       "       'longitud'],\n",
       "      dtype='object')"
      ]
     },
     "execution_count": 13,
     "metadata": {},
     "output_type": "execute_result"
    }
   ],
   "source": [
    "df.columns"
   ]
  },
  {
   "cell_type": "code",
   "execution_count": 14,
   "id": "f1137523",
   "metadata": {},
   "outputs": [],
   "source": [
    "# Me quedo solo con la de dirección y la de ccaa\n",
    "df = df.loc[:, ['Nombre', 'Fecha', 'Direccion', 'ccaa','latitud','longitud']]"
   ]
  },
  {
   "cell_type": "code",
   "execution_count": 15,
   "id": "ca90392f",
   "metadata": {},
   "outputs": [],
   "source": [
    "# Filtro solo las columnas que puedo visualizar (las que tienen latitud y longitud)\n",
    "df = df.dropna(subset=['latitud'])"
   ]
  },
  {
   "cell_type": "code",
   "execution_count": 16,
   "id": "6f8f4c13",
   "metadata": {},
   "outputs": [],
   "source": [
    "df.to_excel('coordenadas_andalucia.xlsx', index=False)"
   ]
  }
 ],
 "metadata": {
  "kernelspec": {
   "display_name": "Python 3 (ipykernel)",
   "language": "python",
   "name": "python3"
  },
  "language_info": {
   "codemirror_mode": {
    "name": "ipython",
    "version": 3
   },
   "file_extension": ".py",
   "mimetype": "text/x-python",
   "name": "python",
   "nbconvert_exporter": "python",
   "pygments_lexer": "ipython3",
   "version": "3.9.13"
  }
 },
 "nbformat": 4,
 "nbformat_minor": 5
}
