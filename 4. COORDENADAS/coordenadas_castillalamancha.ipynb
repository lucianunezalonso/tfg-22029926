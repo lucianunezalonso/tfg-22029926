{
 "cells": [
  {
   "cell_type": "code",
   "execution_count": 1,
   "id": "9bdccc89",
   "metadata": {},
   "outputs": [],
   "source": [
    "import pandas as pd"
   ]
  },
  {
   "cell_type": "code",
   "execution_count": 2,
   "id": "89752ec7",
   "metadata": {},
   "outputs": [],
   "source": [
    "df= pd.read_excel(\"C:/Users/USUARIO/TRABAJO DE FIN DE GRADO/CENTROS/3. FILTRADO/filtrado_castillalamancha.xlsx\")"
   ]
  },
  {
   "cell_type": "code",
   "execution_count": 3,
   "id": "95d468ec",
   "metadata": {},
   "outputs": [
    {
     "data": {
      "text/html": [
       "<div>\n",
       "<style scoped>\n",
       "    .dataframe tbody tr th:only-of-type {\n",
       "        vertical-align: middle;\n",
       "    }\n",
       "\n",
       "    .dataframe tbody tr th {\n",
       "        vertical-align: top;\n",
       "    }\n",
       "\n",
       "    .dataframe thead th {\n",
       "        text-align: right;\n",
       "    }\n",
       "</style>\n",
       "<table border=\"1\" class=\"dataframe\">\n",
       "  <thead>\n",
       "    <tr style=\"text-align: right;\">\n",
       "      <th></th>\n",
       "      <th>N_REG_JCCM</th>\n",
       "      <th>COD_PROVINCIA</th>\n",
       "      <th>PROVINCIA</th>\n",
       "      <th>L_AMBITO</th>\n",
       "      <th>F_INSCRIPCION</th>\n",
       "      <th>CIF</th>\n",
       "      <th>DENOMINACION</th>\n",
       "      <th>EMAIL</th>\n",
       "      <th>TELEFONO</th>\n",
       "      <th>DOMICILIO</th>\n",
       "      <th>L_MUNICIPIO</th>\n",
       "      <th>POSTAL</th>\n",
       "      <th>L_PROVINCIA_DOM</th>\n",
       "    </tr>\n",
       "  </thead>\n",
       "  <tbody>\n",
       "    <tr>\n",
       "      <th>0</th>\n",
       "      <td>17188</td>\n",
       "      <td>2</td>\n",
       "      <td>ALBACETE</td>\n",
       "      <td>Comarcal</td>\n",
       "      <td>18/11/2004</td>\n",
       "      <td>NaN</td>\n",
       "      <td>ASOCIACION PROTECTORA DE ANIMALES Y CULTURAL '...</td>\n",
       "      <td>NaN</td>\n",
       "      <td>673745224.0</td>\n",
       "      <td>POLIGONO INDUSTRIAL DE CASAS IBAÑEZ</td>\n",
       "      <td>CASAS-IBAÑEZ</td>\n",
       "      <td>2200</td>\n",
       "      <td>ALBACETE</td>\n",
       "    </tr>\n",
       "    <tr>\n",
       "      <th>1</th>\n",
       "      <td>17382</td>\n",
       "      <td>13</td>\n",
       "      <td>CIUDAD REAL</td>\n",
       "      <td>Local</td>\n",
       "      <td>20/01/2005</td>\n",
       "      <td>NaN</td>\n",
       "      <td>ASOCIACIÓN PROTECTORA DE ANIMALES Y PLANTAS FA...</td>\n",
       "      <td>NaN</td>\n",
       "      <td>679594424.0</td>\n",
       "      <td>MORENO, 9</td>\n",
       "      <td>ALCAZAR DE SAN JUAN</td>\n",
       "      <td>13600</td>\n",
       "      <td>CIUDAD REAL</td>\n",
       "    </tr>\n",
       "    <tr>\n",
       "      <th>2</th>\n",
       "      <td>15853</td>\n",
       "      <td>13</td>\n",
       "      <td>CIUDAD REAL</td>\n",
       "      <td>Nacional</td>\n",
       "      <td>10/11/2003</td>\n",
       "      <td>G-13379995</td>\n",
       "      <td>REFUGIO DE ANIMALES DE PEDRO MUÑOZ CIUDAD ANIMAL</td>\n",
       "      <td>NaN</td>\n",
       "      <td>926568301.0</td>\n",
       "      <td>REYES CATOLICOS, 31</td>\n",
       "      <td>PEDRO MUÑOZ</td>\n",
       "      <td>13620</td>\n",
       "      <td>CIUDAD REAL</td>\n",
       "    </tr>\n",
       "    <tr>\n",
       "      <th>3</th>\n",
       "      <td>17287</td>\n",
       "      <td>13</td>\n",
       "      <td>CIUDAD REAL</td>\n",
       "      <td>Local</td>\n",
       "      <td>16/12/2004</td>\n",
       "      <td>G-13394507</td>\n",
       "      <td>UNIÓN PROTECTORA Y DEFENSORA DE LOS ANIMALES MARA</td>\n",
       "      <td>NaN</td>\n",
       "      <td>665821255.0</td>\n",
       "      <td>LA ROSA, 8</td>\n",
       "      <td>MIGUELTURRA</td>\n",
       "      <td>13170</td>\n",
       "      <td>CIUDAD REAL</td>\n",
       "    </tr>\n",
       "    <tr>\n",
       "      <th>4</th>\n",
       "      <td>7961</td>\n",
       "      <td>13</td>\n",
       "      <td>CIUDAD REAL</td>\n",
       "      <td>Regional</td>\n",
       "      <td>08/01/1996</td>\n",
       "      <td>NaN</td>\n",
       "      <td>'QUALIDICE' ASOCIACION PROTECTORA DE ANIMALES ...</td>\n",
       "      <td>NaN</td>\n",
       "      <td>926571416.0</td>\n",
       "      <td>CONSTITUCION,10</td>\n",
       "      <td>HERENCIA</td>\n",
       "      <td>13640</td>\n",
       "      <td>CIUDAD REAL</td>\n",
       "    </tr>\n",
       "    <tr>\n",
       "      <th>...</th>\n",
       "      <td>...</td>\n",
       "      <td>...</td>\n",
       "      <td>...</td>\n",
       "      <td>...</td>\n",
       "      <td>...</td>\n",
       "      <td>...</td>\n",
       "      <td>...</td>\n",
       "      <td>...</td>\n",
       "      <td>...</td>\n",
       "      <td>...</td>\n",
       "      <td>...</td>\n",
       "      <td>...</td>\n",
       "      <td>...</td>\n",
       "    </tr>\n",
       "    <tr>\n",
       "      <th>147</th>\n",
       "      <td>28705</td>\n",
       "      <td>13</td>\n",
       "      <td>CIUDAD REAL</td>\n",
       "      <td>Regional</td>\n",
       "      <td>28/11/2016</td>\n",
       "      <td>G-13600598</td>\n",
       "      <td>AGATSU AIKIDO CIUDAD REAL</td>\n",
       "      <td>rugago@yahoo.es</td>\n",
       "      <td>636229030.0</td>\n",
       "      <td>ALVAR GÓMEZ, 12 PT 2 BJ F</td>\n",
       "      <td>CIUDAD REAL</td>\n",
       "      <td>13000</td>\n",
       "      <td>CIUDAD REAL</td>\n",
       "    </tr>\n",
       "    <tr>\n",
       "      <th>148</th>\n",
       "      <td>25098</td>\n",
       "      <td>13</td>\n",
       "      <td>CIUDAD REAL</td>\n",
       "      <td>Regional</td>\n",
       "      <td>08/03/2012</td>\n",
       "      <td>G-13537261</td>\n",
       "      <td>ASOCIACION 'SOS GATOS.ORG'</td>\n",
       "      <td>sosgatosorg@gmail.com</td>\n",
       "      <td>633776192.0</td>\n",
       "      <td>CUENCA, 3</td>\n",
       "      <td>TOMELLOSO</td>\n",
       "      <td>13700</td>\n",
       "      <td>CIUDAD REAL</td>\n",
       "    </tr>\n",
       "    <tr>\n",
       "      <th>149</th>\n",
       "      <td>31402</td>\n",
       "      <td>13</td>\n",
       "      <td>CIUDAD REAL</td>\n",
       "      <td>Local</td>\n",
       "      <td>14/10/2020</td>\n",
       "      <td>G01878776</td>\n",
       "      <td>ASOCIACIÓN SALVA UN GATITO</td>\n",
       "      <td>isabel-pozuelo@Hotmail.com</td>\n",
       "      <td>685977178.0</td>\n",
       "      <td>GENERAL AGUILERA, 10</td>\n",
       "      <td>SOCUELLAMOS</td>\n",
       "      <td>13630</td>\n",
       "      <td>CIUDAD REAL</td>\n",
       "    </tr>\n",
       "    <tr>\n",
       "      <th>150</th>\n",
       "      <td>30421</td>\n",
       "      <td>13</td>\n",
       "      <td>CIUDAD REAL</td>\n",
       "      <td>Local</td>\n",
       "      <td>14/02/2018</td>\n",
       "      <td>G13625470</td>\n",
       "      <td>ASOCIACIÓN DE AMIGOS DE LOS GATOS DE ALMAGRO</td>\n",
       "      <td>gatosalmagro@gmail.com</td>\n",
       "      <td>657934164.0</td>\n",
       "      <td>Bullaque, 21</td>\n",
       "      <td>ALMAGRO</td>\n",
       "      <td>13270</td>\n",
       "      <td>CIUDAD REAL</td>\n",
       "    </tr>\n",
       "    <tr>\n",
       "      <th>151</th>\n",
       "      <td>27151</td>\n",
       "      <td>2</td>\n",
       "      <td>ALBACETE</td>\n",
       "      <td>Local</td>\n",
       "      <td>29/10/2014</td>\n",
       "      <td>G02562999</td>\n",
       "      <td>HUELLAS DE VIDA</td>\n",
       "      <td>huellasdevidavillarrobledo@gmail.com</td>\n",
       "      <td>678871795.0</td>\n",
       "      <td>SANTIAGO, Nº 44, 1º D</td>\n",
       "      <td>VILLARROBLEDO</td>\n",
       "      <td>2600</td>\n",
       "      <td>ALBACETE</td>\n",
       "    </tr>\n",
       "  </tbody>\n",
       "</table>\n",
       "<p>152 rows × 13 columns</p>\n",
       "</div>"
      ],
      "text/plain": [
       "     N_REG_JCCM  COD_PROVINCIA    PROVINCIA  L_AMBITO F_INSCRIPCION  \\\n",
       "0         17188              2     ALBACETE  Comarcal    18/11/2004   \n",
       "1         17382             13  CIUDAD REAL     Local    20/01/2005   \n",
       "2         15853             13  CIUDAD REAL  Nacional    10/11/2003   \n",
       "3         17287             13  CIUDAD REAL     Local    16/12/2004   \n",
       "4          7961             13  CIUDAD REAL  Regional    08/01/1996   \n",
       "..          ...            ...          ...       ...           ...   \n",
       "147       28705             13  CIUDAD REAL  Regional    28/11/2016   \n",
       "148       25098             13  CIUDAD REAL  Regional    08/03/2012   \n",
       "149       31402             13  CIUDAD REAL     Local    14/10/2020   \n",
       "150       30421             13  CIUDAD REAL     Local    14/02/2018   \n",
       "151       27151              2     ALBACETE     Local    29/10/2014   \n",
       "\n",
       "            CIF                                       DENOMINACION  \\\n",
       "0           NaN  ASOCIACION PROTECTORA DE ANIMALES Y CULTURAL '...   \n",
       "1           NaN  ASOCIACIÓN PROTECTORA DE ANIMALES Y PLANTAS FA...   \n",
       "2    G-13379995   REFUGIO DE ANIMALES DE PEDRO MUÑOZ CIUDAD ANIMAL   \n",
       "3    G-13394507  UNIÓN PROTECTORA Y DEFENSORA DE LOS ANIMALES MARA   \n",
       "4           NaN  'QUALIDICE' ASOCIACION PROTECTORA DE ANIMALES ...   \n",
       "..          ...                                                ...   \n",
       "147  G-13600598                          AGATSU AIKIDO CIUDAD REAL   \n",
       "148  G-13537261                         ASOCIACION 'SOS GATOS.ORG'   \n",
       "149   G01878776                         ASOCIACIÓN SALVA UN GATITO   \n",
       "150   G13625470       ASOCIACIÓN DE AMIGOS DE LOS GATOS DE ALMAGRO   \n",
       "151   G02562999                                    HUELLAS DE VIDA   \n",
       "\n",
       "                                    EMAIL     TELEFONO  \\\n",
       "0                                     NaN  673745224.0   \n",
       "1                                     NaN  679594424.0   \n",
       "2                                     NaN  926568301.0   \n",
       "3                                     NaN  665821255.0   \n",
       "4                                     NaN  926571416.0   \n",
       "..                                    ...          ...   \n",
       "147                       rugago@yahoo.es  636229030.0   \n",
       "148                 sosgatosorg@gmail.com  633776192.0   \n",
       "149            isabel-pozuelo@Hotmail.com  685977178.0   \n",
       "150                gatosalmagro@gmail.com  657934164.0   \n",
       "151  huellasdevidavillarrobledo@gmail.com  678871795.0   \n",
       "\n",
       "                               DOMICILIO          L_MUNICIPIO  POSTAL  \\\n",
       "0    POLIGONO INDUSTRIAL DE CASAS IBAÑEZ         CASAS-IBAÑEZ    2200   \n",
       "1                              MORENO, 9  ALCAZAR DE SAN JUAN   13600   \n",
       "2                    REYES CATOLICOS, 31          PEDRO MUÑOZ   13620   \n",
       "3                             LA ROSA, 8          MIGUELTURRA   13170   \n",
       "4                        CONSTITUCION,10             HERENCIA   13640   \n",
       "..                                   ...                  ...     ...   \n",
       "147            ALVAR GÓMEZ, 12 PT 2 BJ F          CIUDAD REAL   13000   \n",
       "148                            CUENCA, 3            TOMELLOSO   13700   \n",
       "149                 GENERAL AGUILERA, 10          SOCUELLAMOS   13630   \n",
       "150                         Bullaque, 21              ALMAGRO   13270   \n",
       "151                SANTIAGO, Nº 44, 1º D        VILLARROBLEDO    2600   \n",
       "\n",
       "    L_PROVINCIA_DOM  \n",
       "0          ALBACETE  \n",
       "1       CIUDAD REAL  \n",
       "2       CIUDAD REAL  \n",
       "3       CIUDAD REAL  \n",
       "4       CIUDAD REAL  \n",
       "..              ...  \n",
       "147     CIUDAD REAL  \n",
       "148     CIUDAD REAL  \n",
       "149     CIUDAD REAL  \n",
       "150     CIUDAD REAL  \n",
       "151        ALBACETE  \n",
       "\n",
       "[152 rows x 13 columns]"
      ]
     },
     "execution_count": 3,
     "metadata": {},
     "output_type": "execute_result"
    }
   ],
   "source": [
    "df"
   ]
  },
  {
   "cell_type": "markdown",
   "id": "a11071ca",
   "metadata": {},
   "source": [
    "ADICIÓN DE COLUMNA CCAA"
   ]
  },
  {
   "cell_type": "code",
   "execution_count": 4,
   "id": "ea282d59",
   "metadata": {},
   "outputs": [],
   "source": [
    "df['ccaa']= \"Castilla la Mancha\""
   ]
  },
  {
   "cell_type": "markdown",
   "id": "2387874a",
   "metadata": {},
   "source": [
    "SELECCIÓN DE COLUMNAS"
   ]
  },
  {
   "cell_type": "code",
   "execution_count": 5,
   "id": "c5e07a25",
   "metadata": {},
   "outputs": [
    {
     "data": {
      "text/plain": [
       "Index(['N_REG_JCCM', 'COD_PROVINCIA', 'PROVINCIA', 'L_AMBITO', 'F_INSCRIPCION',\n",
       "       'CIF', 'DENOMINACION', 'EMAIL', 'TELEFONO', 'DOMICILIO', 'L_MUNICIPIO',\n",
       "       'POSTAL', 'L_PROVINCIA_DOM', 'ccaa'],\n",
       "      dtype='object')"
      ]
     },
     "execution_count": 5,
     "metadata": {},
     "output_type": "execute_result"
    }
   ],
   "source": [
    "df.columns"
   ]
  },
  {
   "cell_type": "code",
   "execution_count": 6,
   "id": "00ee2919",
   "metadata": {},
   "outputs": [],
   "source": [
    "# Me quedo solo con la de dirección y la de ccaa\n",
    "df = df.loc[:, ['DENOMINACION', 'DOMICILIO','POSTAL','L_MUNICIPIO', 'PROVINCIA', 'ccaa','EMAIL','TELEFONO']]"
   ]
  },
  {
   "cell_type": "markdown",
   "id": "878047a5",
   "metadata": {},
   "source": [
    "COORDENADAS"
   ]
  },
  {
   "cell_type": "code",
   "execution_count": 7,
   "id": "e4e3684f",
   "metadata": {},
   "outputs": [],
   "source": [
    "from geopy.geocoders import Nominatim\n",
    "geolocator = Nominatim(user_agent=\"tfg_adoptionmovement\") # crea una instancia del objeto Nominatim"
   ]
  },
  {
   "cell_type": "code",
   "execution_count": 8,
   "id": "09174b9d",
   "metadata": {},
   "outputs": [],
   "source": [
    "def get_lat_long(address):\n",
    "    location = geolocator.geocode(address) # geocodifica la dirección y devuelve un objeto de ubicación\n",
    "    if location:\n",
    "        return (location.latitude, location.longitude)\n",
    "    else:\n",
    "        return (None, None)"
   ]
  },
  {
   "cell_type": "code",
   "execution_count": 9,
   "id": "64855264",
   "metadata": {},
   "outputs": [],
   "source": [
    "# recorre cada fila del DataFrame\n",
    "for i, row in df.iterrows():\n",
    "    # añade el contenido de las columnas de ubicación a continuación del contenido de \"direccion\"\n",
    "    df.at[i, 'DOMICILIO'] = str(df.at[i, 'DOMICILIO'])+', ' + str(row['L_MUNICIPIO'])+', ' + str(row['POSTAL'])+', '+str(row['PROVINCIA']) +', España'"
   ]
  },
  {
   "cell_type": "code",
   "execution_count": 10,
   "id": "ca02fe9e",
   "metadata": {},
   "outputs": [],
   "source": [
    "df['latitud'], df['longitud'] = zip(*df['DOMICILIO'].apply(get_lat_long))"
   ]
  },
  {
   "cell_type": "code",
   "execution_count": 11,
   "id": "d0e082d0",
   "metadata": {},
   "outputs": [
    {
     "data": {
      "text/plain": [
       "109"
      ]
     },
     "execution_count": 11,
     "metadata": {},
     "output_type": "execute_result"
    }
   ],
   "source": [
    "sum(df['longitud'].isnull())"
   ]
  },
  {
   "cell_type": "code",
   "execution_count": 12,
   "id": "472df2f6",
   "metadata": {},
   "outputs": [],
   "source": [
    "# Me quedo solo con la de dirección y la de ccaa\n",
    "df = df.loc[:, ['DENOMINACION', 'DOMICILIO', 'ccaa','EMAIL','TELEFONO','latitud','longitud']]"
   ]
  },
  {
   "cell_type": "code",
   "execution_count": 13,
   "id": "60ad38a4",
   "metadata": {},
   "outputs": [],
   "source": [
    "# Filtro solo las columnas que puedo visualizar (las que tienen latitud y longitud)\n",
    "df = df.dropna(subset=['latitud'])"
   ]
  },
  {
   "cell_type": "code",
   "execution_count": 14,
   "id": "4597b6c4",
   "metadata": {},
   "outputs": [],
   "source": [
    "df.to_excel('coordenadas_castillalamancha.xlsx', index=False)"
   ]
  }
 ],
 "metadata": {
  "kernelspec": {
   "display_name": "Python 3 (ipykernel)",
   "language": "python",
   "name": "python3"
  },
  "language_info": {
   "codemirror_mode": {
    "name": "ipython",
    "version": 3
   },
   "file_extension": ".py",
   "mimetype": "text/x-python",
   "name": "python",
   "nbconvert_exporter": "python",
   "pygments_lexer": "ipython3",
   "version": "3.9.13"
  }
 },
 "nbformat": 4,
 "nbformat_minor": 5
}
