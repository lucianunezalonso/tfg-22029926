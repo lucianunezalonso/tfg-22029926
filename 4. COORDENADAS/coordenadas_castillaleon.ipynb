{
 "cells": [
  {
   "cell_type": "code",
   "execution_count": 1,
   "id": "3cb0a9f8",
   "metadata": {},
   "outputs": [],
   "source": [
    "import pandas as pd"
   ]
  },
  {
   "cell_type": "code",
   "execution_count": 2,
   "id": "eb47557f",
   "metadata": {},
   "outputs": [],
   "source": [
    "df= pd.read_excel(\"C:/Users/USUARIO/TRABAJO DE FIN DE GRADO/CENTROS/3. FILTRADO/filtrado_castillaleon.xlsx\")"
   ]
  },
  {
   "cell_type": "code",
   "execution_count": 3,
   "id": "408c14c3",
   "metadata": {},
   "outputs": [
    {
     "data": {
      "text/html": [
       "<div>\n",
       "<style scoped>\n",
       "    .dataframe tbody tr th:only-of-type {\n",
       "        vertical-align: middle;\n",
       "    }\n",
       "\n",
       "    .dataframe tbody tr th {\n",
       "        vertical-align: top;\n",
       "    }\n",
       "\n",
       "    .dataframe thead th {\n",
       "        text-align: right;\n",
       "    }\n",
       "</style>\n",
       "<table border=\"1\" class=\"dataframe\">\n",
       "  <thead>\n",
       "    <tr style=\"text-align: right;\">\n",
       "      <th></th>\n",
       "      <th>Num_Asoc</th>\n",
       "      <th>Ambito</th>\n",
       "      <th>Asociación</th>\n",
       "      <th>Nif</th>\n",
       "      <th>Domicilio</th>\n",
       "      <th>Municipio</th>\n",
       "      <th>Provincia</th>\n",
       "      <th>C_Postal</th>\n",
       "      <th>Web</th>\n",
       "      <th>Fines</th>\n",
       "      <th>Fines_Específicos</th>\n",
       "      <th>F_Registro</th>\n",
       "      <th>Unnamed: 12</th>\n",
       "    </tr>\n",
       "  </thead>\n",
       "  <tbody>\n",
       "    <tr>\n",
       "      <th>0</th>\n",
       "      <td>05/1/0000764</td>\n",
       "      <td>LOCAL</td>\n",
       "      <td>ASOCIACION HUELLAS PROTECTORA DE ANIMALES DE A...</td>\n",
       "      <td>G05120217</td>\n",
       "      <td>Ctra.Ávila-El Escorial, CL 505, km.4 Apdo Cor,32</td>\n",
       "      <td>ÁVILA</td>\n",
       "      <td>AVILA</td>\n",
       "      <td>5004</td>\n",
       "      <td>www.protectorahuellas.org</td>\n",
       "      <td>La actividad de la Sociedad tendrá carácter be...</td>\n",
       "      <td>NaN</td>\n",
       "      <td>1992-05-14</td>\n",
       "      <td>NaN</td>\n",
       "    </tr>\n",
       "    <tr>\n",
       "      <th>1</th>\n",
       "      <td>05/1/0002393</td>\n",
       "      <td>PROVINCIAL</td>\n",
       "      <td>ASOCIACION PROTECTORA DE ANIMALES VILLAPEPA</td>\n",
       "      <td>NaN</td>\n",
       "      <td>C/Camino de la Central nº 316</td>\n",
       "      <td>EL TIEMBLO</td>\n",
       "      <td>AVILA</td>\n",
       "      <td>5270</td>\n",
       "      <td>NaN</td>\n",
       "      <td>Recogida de animales de la via pública. - Acog...</td>\n",
       "      <td>NaN</td>\n",
       "      <td>2014-04-03</td>\n",
       "      <td>NaN</td>\n",
       "    </tr>\n",
       "    <tr>\n",
       "      <th>2</th>\n",
       "      <td>05/1/0002403</td>\n",
       "      <td>PROVINCIAL</td>\n",
       "      <td>ASOCIACION DE TERAPIA ASISTIDA CON ANIMALES EQ...</td>\n",
       "      <td>NaN</td>\n",
       "      <td>C/Río Chico nº 14 - 80</td>\n",
       "      <td>ÁVILA</td>\n",
       "      <td>AVILA</td>\n",
       "      <td>5004</td>\n",
       "      <td>NaN</td>\n",
       "      <td>Desarrollar actuaciones vinculadas a la promoc...</td>\n",
       "      <td>NaN</td>\n",
       "      <td>2014-05-12</td>\n",
       "      <td>NaN</td>\n",
       "    </tr>\n",
       "    <tr>\n",
       "      <th>3</th>\n",
       "      <td>05/1/0002543</td>\n",
       "      <td>LOCAL</td>\n",
       "      <td>ASOCIACION PROTECTORA S.O.S ANIMAL LA ADRADA</td>\n",
       "      <td>NaN</td>\n",
       "      <td>c/ La Iglesuela nº 6</td>\n",
       "      <td>LA ADRADA</td>\n",
       "      <td>AVILA</td>\n",
       "      <td>5430</td>\n",
       "      <td>NaN</td>\n",
       "      <td>La actividad de la Sociedad tendrá carácter be...</td>\n",
       "      <td>NaN</td>\n",
       "      <td>2016-07-14</td>\n",
       "      <td>NaN</td>\n",
       "    </tr>\n",
       "    <tr>\n",
       "      <th>4</th>\n",
       "      <td>05/1/0002550</td>\n",
       "      <td>PROVINCIAL</td>\n",
       "      <td>ASOCIACION PROTECTORA DE ANIMALES ANIMALES EN ...</td>\n",
       "      <td>NaN</td>\n",
       "      <td>Travesía de San Andrés nº 5</td>\n",
       "      <td>ÁVILA</td>\n",
       "      <td>AVILA</td>\n",
       "      <td>5005</td>\n",
       "      <td>NaN</td>\n",
       "      <td>- Fomentar el respecto y cuidado adecuado tan...</td>\n",
       "      <td>NaN</td>\n",
       "      <td>2016-09-13</td>\n",
       "      <td>NaN</td>\n",
       "    </tr>\n",
       "    <tr>\n",
       "      <th>...</th>\n",
       "      <td>...</td>\n",
       "      <td>...</td>\n",
       "      <td>...</td>\n",
       "      <td>...</td>\n",
       "      <td>...</td>\n",
       "      <td>...</td>\n",
       "      <td>...</td>\n",
       "      <td>...</td>\n",
       "      <td>...</td>\n",
       "      <td>...</td>\n",
       "      <td>...</td>\n",
       "      <td>...</td>\n",
       "      <td>...</td>\n",
       "    </tr>\n",
       "    <tr>\n",
       "      <th>158</th>\n",
       "      <td>24/1/0004579</td>\n",
       "      <td>PROVINCIAL</td>\n",
       "      <td>ASOCIACIÓN DE AMIGOS DE LAS MASCOTAS</td>\n",
       "      <td>NaN</td>\n",
       "      <td>C/ La Iglesia, 19</td>\n",
       "      <td>LAGUNA DALGA</td>\n",
       "      <td>LEÓN</td>\n",
       "      <td>24248</td>\n",
       "      <td>NaN</td>\n",
       "      <td>Fomento de la cría de razas de perros y aves</td>\n",
       "      <td>NaN</td>\n",
       "      <td>2012-09-07</td>\n",
       "      <td>NaN</td>\n",
       "    </tr>\n",
       "    <tr>\n",
       "      <th>159</th>\n",
       "      <td>24/1/0005408</td>\n",
       "      <td>PROVINCIAL</td>\n",
       "      <td>ASOCIACIÓN EXPOMASCOT</td>\n",
       "      <td>NaN</td>\n",
       "      <td>c/ Reyes Católicos, 5</td>\n",
       "      <td>VILLAQUILAMBRE</td>\n",
       "      <td>LEÓN</td>\n",
       "      <td>24197</td>\n",
       "      <td>NaN</td>\n",
       "      <td>Recogida, cuidado, manutención y búsqueda de h...</td>\n",
       "      <td>NaN</td>\n",
       "      <td>2017-09-19</td>\n",
       "      <td>NaN</td>\n",
       "    </tr>\n",
       "    <tr>\n",
       "      <th>160</th>\n",
       "      <td>09/1/0004362</td>\n",
       "      <td>LOCAL</td>\n",
       "      <td>ASOCIACION LOS PELUDOS</td>\n",
       "      <td>G09530528</td>\n",
       "      <td>C/ JESUS APARICIO, 8, 1º A</td>\n",
       "      <td>SALAS DE LOS INFANTES</td>\n",
       "      <td>BURGOS</td>\n",
       "      <td>9600</td>\n",
       "      <td>NaN</td>\n",
       "      <td>La promoción y desarrollo de actividades lúdic...</td>\n",
       "      <td>NaN</td>\n",
       "      <td>2011-11-03</td>\n",
       "      <td>NaN</td>\n",
       "    </tr>\n",
       "    <tr>\n",
       "      <th>161</th>\n",
       "      <td>34/1/0002259</td>\n",
       "      <td>PROVINCIAL</td>\n",
       "      <td>ASOCIACION AMIGO PELUDO</td>\n",
       "      <td>NaN</td>\n",
       "      <td>c/ Enrique IV, nº 2</td>\n",
       "      <td>BOADILLA DEL CAMINO</td>\n",
       "      <td>PALENCIA</td>\n",
       "      <td>34468</td>\n",
       "      <td>NaN</td>\n",
       "      <td>La protección, defensa y atención a la poblaci...</td>\n",
       "      <td>NaN</td>\n",
       "      <td>2011-01-20</td>\n",
       "      <td>NaN</td>\n",
       "    </tr>\n",
       "    <tr>\n",
       "      <th>162</th>\n",
       "      <td>34/1/0002467</td>\n",
       "      <td>PROVINCIAL</td>\n",
       "      <td>ASOCIACION TODO POR LOS PELUD@S</td>\n",
       "      <td>NaN</td>\n",
       "      <td>C/ Las Pozas nº 15, Urbanización Tierra de Campos</td>\n",
       "      <td>VILLALOBÓN</td>\n",
       "      <td>PALENCIA</td>\n",
       "      <td>34419</td>\n",
       "      <td>NaN</td>\n",
       "      <td>a) Mantenimiento del Centro de Acogida de Anim...</td>\n",
       "      <td>NaN</td>\n",
       "      <td>2014-06-30</td>\n",
       "      <td>NaN</td>\n",
       "    </tr>\n",
       "  </tbody>\n",
       "</table>\n",
       "<p>163 rows × 13 columns</p>\n",
       "</div>"
      ],
      "text/plain": [
       "         Num_Asoc      Ambito  \\\n",
       "0    05/1/0000764       LOCAL   \n",
       "1    05/1/0002393  PROVINCIAL   \n",
       "2    05/1/0002403  PROVINCIAL   \n",
       "3    05/1/0002543       LOCAL   \n",
       "4    05/1/0002550  PROVINCIAL   \n",
       "..            ...         ...   \n",
       "158  24/1/0004579  PROVINCIAL   \n",
       "159  24/1/0005408  PROVINCIAL   \n",
       "160  09/1/0004362       LOCAL   \n",
       "161  34/1/0002259  PROVINCIAL   \n",
       "162  34/1/0002467  PROVINCIAL   \n",
       "\n",
       "                                            Asociación        Nif  \\\n",
       "0    ASOCIACION HUELLAS PROTECTORA DE ANIMALES DE A...  G05120217   \n",
       "1          ASOCIACION PROTECTORA DE ANIMALES VILLAPEPA        NaN   \n",
       "2    ASOCIACION DE TERAPIA ASISTIDA CON ANIMALES EQ...        NaN   \n",
       "3         ASOCIACION PROTECTORA S.O.S ANIMAL LA ADRADA        NaN   \n",
       "4    ASOCIACION PROTECTORA DE ANIMALES ANIMALES EN ...        NaN   \n",
       "..                                                 ...        ...   \n",
       "158               ASOCIACIÓN DE AMIGOS DE LAS MASCOTAS        NaN   \n",
       "159                              ASOCIACIÓN EXPOMASCOT        NaN   \n",
       "160                             ASOCIACION LOS PELUDOS  G09530528   \n",
       "161                            ASOCIACION AMIGO PELUDO        NaN   \n",
       "162                    ASOCIACION TODO POR LOS PELUD@S        NaN   \n",
       "\n",
       "                                             Domicilio              Municipio  \\\n",
       "0     Ctra.Ávila-El Escorial, CL 505, km.4 Apdo Cor,32                  ÁVILA   \n",
       "1                        C/Camino de la Central nº 316             EL TIEMBLO   \n",
       "2                               C/Río Chico nº 14 - 80                  ÁVILA   \n",
       "3                                 c/ La Iglesuela nº 6              LA ADRADA   \n",
       "4                          Travesía de San Andrés nº 5                  ÁVILA   \n",
       "..                                                 ...                    ...   \n",
       "158                                  C/ La Iglesia, 19           LAGUNA DALGA   \n",
       "159                              c/ Reyes Católicos, 5         VILLAQUILAMBRE   \n",
       "160                         C/ JESUS APARICIO, 8, 1º A  SALAS DE LOS INFANTES   \n",
       "161                                c/ Enrique IV, nº 2    BOADILLA DEL CAMINO   \n",
       "162  C/ Las Pozas nº 15, Urbanización Tierra de Campos             VILLALOBÓN   \n",
       "\n",
       "    Provincia  C_Postal                        Web  \\\n",
       "0       AVILA      5004  www.protectorahuellas.org   \n",
       "1       AVILA      5270                        NaN   \n",
       "2       AVILA      5004                        NaN   \n",
       "3       AVILA      5430                        NaN   \n",
       "4       AVILA      5005                        NaN   \n",
       "..        ...       ...                        ...   \n",
       "158      LEÓN     24248                        NaN   \n",
       "159      LEÓN     24197                        NaN   \n",
       "160    BURGOS      9600                        NaN   \n",
       "161  PALENCIA     34468                        NaN   \n",
       "162  PALENCIA     34419                        NaN   \n",
       "\n",
       "                                                 Fines Fines_Específicos  \\\n",
       "0    La actividad de la Sociedad tendrá carácter be...               NaN   \n",
       "1    Recogida de animales de la via pública. - Acog...               NaN   \n",
       "2    Desarrollar actuaciones vinculadas a la promoc...               NaN   \n",
       "3    La actividad de la Sociedad tendrá carácter be...               NaN   \n",
       "4     - Fomentar el respecto y cuidado adecuado tan...               NaN   \n",
       "..                                                 ...               ...   \n",
       "158       Fomento de la cría de razas de perros y aves               NaN   \n",
       "159  Recogida, cuidado, manutención y búsqueda de h...               NaN   \n",
       "160  La promoción y desarrollo de actividades lúdic...               NaN   \n",
       "161  La protección, defensa y atención a la poblaci...               NaN   \n",
       "162  a) Mantenimiento del Centro de Acogida de Anim...               NaN   \n",
       "\n",
       "    F_Registro  Unnamed: 12  \n",
       "0   1992-05-14          NaN  \n",
       "1   2014-04-03          NaN  \n",
       "2   2014-05-12          NaN  \n",
       "3   2016-07-14          NaN  \n",
       "4   2016-09-13          NaN  \n",
       "..         ...          ...  \n",
       "158 2012-09-07          NaN  \n",
       "159 2017-09-19          NaN  \n",
       "160 2011-11-03          NaN  \n",
       "161 2011-01-20          NaN  \n",
       "162 2014-06-30          NaN  \n",
       "\n",
       "[163 rows x 13 columns]"
      ]
     },
     "execution_count": 3,
     "metadata": {},
     "output_type": "execute_result"
    }
   ],
   "source": [
    "df"
   ]
  },
  {
   "cell_type": "markdown",
   "id": "dff01118",
   "metadata": {},
   "source": [
    "ADICIÓN DE COLUMNA CCAA"
   ]
  },
  {
   "cell_type": "code",
   "execution_count": 4,
   "id": "2339490c",
   "metadata": {},
   "outputs": [],
   "source": [
    "df['ccaa']= \"Castilla León\""
   ]
  },
  {
   "cell_type": "markdown",
   "id": "59d9dea6",
   "metadata": {},
   "source": [
    "SELECCIÓN DE COLUMNAS"
   ]
  },
  {
   "cell_type": "code",
   "execution_count": 5,
   "id": "5fbcb272",
   "metadata": {},
   "outputs": [
    {
     "data": {
      "text/plain": [
       "Index(['Num_Asoc', 'Ambito', 'Asociación', 'Nif', 'Domicilio', 'Municipio',\n",
       "       'Provincia', 'C_Postal', 'Web', 'Fines', 'Fines_Específicos',\n",
       "       'F_Registro', 'Unnamed: 12', 'ccaa'],\n",
       "      dtype='object')"
      ]
     },
     "execution_count": 5,
     "metadata": {},
     "output_type": "execute_result"
    }
   ],
   "source": [
    "df.columns"
   ]
  },
  {
   "cell_type": "code",
   "execution_count": 6,
   "id": "0b9500db",
   "metadata": {},
   "outputs": [],
   "source": [
    "df = df.loc[:,['Asociación', 'Domicilio', 'Municipio',\n",
    "       'Provincia', 'C_Postal', 'Web', 'ccaa']]"
   ]
  },
  {
   "cell_type": "markdown",
   "id": "92721e1a",
   "metadata": {},
   "source": [
    "COORDENADAS"
   ]
  },
  {
   "cell_type": "code",
   "execution_count": 7,
   "id": "dfc5f903",
   "metadata": {},
   "outputs": [],
   "source": [
    "from geopy.geocoders import Nominatim"
   ]
  },
  {
   "cell_type": "code",
   "execution_count": 8,
   "id": "08e69641",
   "metadata": {},
   "outputs": [],
   "source": [
    "geolocator = Nominatim(user_agent=\"tfg_adoptionmovement\") # crea una instancia del objeto Nominatim"
   ]
  },
  {
   "cell_type": "code",
   "execution_count": 9,
   "id": "6c5071fe",
   "metadata": {},
   "outputs": [],
   "source": [
    "def get_lat_long(address):\n",
    "    location = geolocator.geocode(address) # geocodifica la dirección y devuelve un objeto de ubicación\n",
    "    if location:\n",
    "        return (location.latitude, location.longitude)\n",
    "    else:\n",
    "        return (None, None)"
   ]
  },
  {
   "cell_type": "code",
   "execution_count": 10,
   "id": "eeabf12b",
   "metadata": {},
   "outputs": [],
   "source": [
    "# recorre cada fila del DataFrame\n",
    "for i, row in df.iterrows():\n",
    "    # añade el contenido de las columnas de ubicación a continuación del contenido de \"direccion\"\n",
    "    df.at[i, 'Domicilio'] = str(df.at[i, 'Domicilio'])+', ' + str(row['Municipio'])+', ' + str(row['Provincia'])+', ' + str(row['C_Postal'])+', España'"
   ]
  },
  {
   "cell_type": "code",
   "execution_count": 11,
   "id": "530ed034",
   "metadata": {},
   "outputs": [],
   "source": [
    "df['latitud'], df['longitud'] = zip(*df['Domicilio'].apply(get_lat_long))"
   ]
  },
  {
   "cell_type": "code",
   "execution_count": 12,
   "id": "d54358e5",
   "metadata": {},
   "outputs": [
    {
     "data": {
      "text/plain": [
       "140"
      ]
     },
     "execution_count": 12,
     "metadata": {},
     "output_type": "execute_result"
    }
   ],
   "source": [
    "sum(df['longitud'].isnull())"
   ]
  },
  {
   "cell_type": "code",
   "execution_count": 13,
   "id": "260f9530",
   "metadata": {},
   "outputs": [
    {
     "data": {
      "text/plain": [
       "Index(['Asociación', 'Domicilio', 'Municipio', 'Provincia', 'C_Postal', 'Web',\n",
       "       'ccaa', 'latitud', 'longitud'],\n",
       "      dtype='object')"
      ]
     },
     "execution_count": 13,
     "metadata": {},
     "output_type": "execute_result"
    }
   ],
   "source": [
    "df.columns"
   ]
  },
  {
   "cell_type": "code",
   "execution_count": 14,
   "id": "952bab37",
   "metadata": {},
   "outputs": [],
   "source": [
    "# Me quedo solo con la de dirección y la de ccaa\n",
    "df = df.loc[:, ['Asociación', 'Domicilio', 'Web', 'ccaa', 'latitud', 'longitud']]"
   ]
  },
  {
   "cell_type": "code",
   "execution_count": 15,
   "id": "5f6f25ee",
   "metadata": {},
   "outputs": [],
   "source": [
    "df = df.dropna(subset=['latitud'])"
   ]
  },
  {
   "cell_type": "code",
   "execution_count": 16,
   "id": "4f9b366e",
   "metadata": {},
   "outputs": [],
   "source": [
    "df.to_excel('coordenadas_castillaleon.xlsx', index=False)"
   ]
  }
 ],
 "metadata": {
  "kernelspec": {
   "display_name": "Python 3 (ipykernel)",
   "language": "python",
   "name": "python3"
  },
  "language_info": {
   "codemirror_mode": {
    "name": "ipython",
    "version": 3
   },
   "file_extension": ".py",
   "mimetype": "text/x-python",
   "name": "python",
   "nbconvert_exporter": "python",
   "pygments_lexer": "ipython3",
   "version": "3.9.13"
  }
 },
 "nbformat": 4,
 "nbformat_minor": 5
}
